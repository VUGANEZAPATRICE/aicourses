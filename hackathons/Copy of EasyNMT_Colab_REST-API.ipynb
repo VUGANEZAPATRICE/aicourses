{
 "cells": [
  {
   "cell_type": "markdown",
   "metadata": {
    "id": "RkMrIT2H97tF"
   },
   "source": [
    "# EasyNMT REST API using Colab\n",
    "\n",
    "This notebook demonstrates, how we can create a REST API on Google Colab that runs [EasyNMT](https://github.com/UKPLab/EasyNMT).\n",
    "\n",
    "You can then query this API from your local machine using standard GET / POST requests and translate documents to 150+ languages.\n",
    "\n",
    "This allows you to use the free GPU from Colab for Neural Machine Translation with the simplicity of quering a REST API for machine translation.\n",
    "\n",
    "**Note**: **Colab has a runtime restrictions**, that a notebook can only run up to a certain time limit. It is then stopped after this time limit. This notebook will **not work** if you want to host a translation API permanently. But you can use this notebook to start a REST API, and then calling it from your machine to translate larger amount of text. [more info](https://research.google.com/colaboratory/faq.html#resource-limits)\n",
    "\n"
   ]
  },
  {
   "cell_type": "markdown",
   "metadata": {
    "id": "XLavrObz_IPM"
   },
   "source": [
    "## Colab with GPU\n",
    "When running this notebook in colab, ensure that you run it with a GPU as hardware accelerator. To enable this:\n",
    "- Navigate to Edit → Notebook Settings\n",
    "- select GPU from the Hardware Accelerator drop-down\n",
    "\n",
    "With `!nvidia-smi` we can check which GPU was assigned to us in Colab."
   ]
  },
  {
   "cell_type": "code",
   "execution_count": null,
   "metadata": {
    "colab": {
     "base_uri": "https://localhost:8080/"
    },
    "executionInfo": {
     "elapsed": 803,
     "status": "ok",
     "timestamp": 1615930894515,
     "user": {
      "displayName": "Nils R",
      "photoUrl": "https://lh3.googleusercontent.com/a-/AOh14GhZmVO53TndHob4RRhHcIevXucKOseP6IYp-15X=s64",
      "userId": "18236625288761098363"
     },
     "user_tz": -60
    },
    "id": "z36REF9Q_IZH",
    "outputId": "263d68a3-d744-49bd-950c-ed382bdd46a2"
   },
   "outputs": [
    {
     "name": "stdout",
     "output_type": "stream",
     "text": [
      "Tue Mar 16 21:41:33 2021       \n",
      "+-----------------------------------------------------------------------------+\n",
      "| NVIDIA-SMI 460.56       Driver Version: 460.32.03    CUDA Version: 11.2     |\n",
      "|-------------------------------+----------------------+----------------------+\n",
      "| GPU  Name        Persistence-M| Bus-Id        Disp.A | Volatile Uncorr. ECC |\n",
      "| Fan  Temp  Perf  Pwr:Usage/Cap|         Memory-Usage | GPU-Util  Compute M. |\n",
      "|                               |                      |               MIG M. |\n",
      "|===============================+======================+======================|\n",
      "|   0  Tesla T4            Off  | 00000000:00:04.0 Off |                    0 |\n",
      "| N/A   37C    P8     9W /  70W |      0MiB / 15109MiB |      0%      Default |\n",
      "|                               |                      |                  N/A |\n",
      "+-------------------------------+----------------------+----------------------+\n",
      "                                                                               \n",
      "+-----------------------------------------------------------------------------+\n",
      "| Processes:                                                                  |\n",
      "|  GPU   GI   CI        PID   Type   Process name                  GPU Memory |\n",
      "|        ID   ID                                                   Usage      |\n",
      "|=============================================================================|\n",
      "|  No running processes found                                                 |\n",
      "+-----------------------------------------------------------------------------+\n"
     ]
    }
   ],
   "source": [
    "!nvidia-smi"
   ]
  },
  {
   "cell_type": "markdown",
   "metadata": {
    "id": "bf2GQJKY_D6R"
   },
   "source": [
    "## EasyNMT Installation\n",
    "First we install EasyNMT"
   ]
  },
  {
   "cell_type": "code",
   "execution_count": null,
   "metadata": {
    "colab": {
     "base_uri": "https://localhost:8080/"
    },
    "executionInfo": {
     "elapsed": 48334,
     "status": "ok",
     "timestamp": 1615931091352,
     "user": {
      "displayName": "Nils R",
      "photoUrl": "https://lh3.googleusercontent.com/a-/AOh14GhZmVO53TndHob4RRhHcIevXucKOseP6IYp-15X=s64",
      "userId": "18236625288761098363"
     },
     "user_tz": -60
    },
    "id": "J7QYzqUZ8TNK",
    "outputId": "9f07e959-0ea0-464c-c183-6357aa5e0853"
   },
   "outputs": [
    {
     "name": "stdout",
     "output_type": "stream",
     "text": [
      "Collecting easynmt\n",
      "  Downloading https://files.pythonhosted.org/packages/2d/e5/be83cead907f751870d050de3b087fef77c1479c31e39d4c084b11297db3/EasyNMT-1.1.0.tar.gz\n",
      "Requirement already satisfied: tqdm in /usr/local/lib/python3.7/dist-packages (from easynmt) (4.41.1)\n",
      "Collecting transformers<5,>=4.0\n",
      "\u001b[?25l  Downloading https://files.pythonhosted.org/packages/2c/d8/5144b0712f7f82229a8da5983a8fbb8d30cec5fbd5f8d12ffe1854dcea67/transformers-4.4.1-py3-none-any.whl (2.1MB)\n",
      "\u001b[K     |████████████████████████████████| 2.1MB 10.9MB/s \n",
      "\u001b[?25hRequirement already satisfied: torch>=1.6.0 in /usr/local/lib/python3.7/dist-packages (from easynmt) (1.8.0+cu101)\n",
      "Requirement already satisfied: numpy in /usr/local/lib/python3.7/dist-packages (from easynmt) (1.19.5)\n",
      "Requirement already satisfied: nltk in /usr/local/lib/python3.7/dist-packages (from easynmt) (3.2.5)\n",
      "Collecting sentencepiece\n",
      "\u001b[?25l  Downloading https://files.pythonhosted.org/packages/f5/99/e0808cb947ba10f575839c43e8fafc9cc44e4a7a2c8f79c60db48220a577/sentencepiece-0.1.95-cp37-cp37m-manylinux2014_x86_64.whl (1.2MB)\n",
      "\u001b[K     |████████████████████████████████| 1.2MB 46.9MB/s \n",
      "\u001b[?25hCollecting fasttext\n",
      "\u001b[?25l  Downloading https://files.pythonhosted.org/packages/f8/85/e2b368ab6d3528827b147fdb814f8189acc981a4bc2f99ab894650e05c40/fasttext-0.9.2.tar.gz (68kB)\n",
      "\u001b[K     |████████████████████████████████| 71kB 10.8MB/s \n",
      "\u001b[?25hCollecting fairseq>=0.10.1\n",
      "\u001b[?25l  Downloading https://files.pythonhosted.org/packages/15/ab/92c6efb05ffdfe16fbdc9e463229d9af8c3b74dc943ed4b4857a87b223c2/fairseq-0.10.2-cp37-cp37m-manylinux1_x86_64.whl (1.7MB)\n",
      "\u001b[K     |████████████████████████████████| 1.7MB 45.0MB/s \n",
      "\u001b[?25hCollecting sacremoses\n",
      "\u001b[?25l  Downloading https://files.pythonhosted.org/packages/7d/34/09d19aff26edcc8eb2a01bed8e98f13a1537005d31e95233fd48216eed10/sacremoses-0.0.43.tar.gz (883kB)\n",
      "\u001b[K     |████████████████████████████████| 890kB 50.1MB/s \n",
      "\u001b[?25hCollecting tokenizers<0.11,>=0.10.1\n",
      "\u001b[?25l  Downloading https://files.pythonhosted.org/packages/71/23/2ddc317b2121117bf34dd00f5b0de194158f2a44ee2bf5e47c7166878a97/tokenizers-0.10.1-cp37-cp37m-manylinux2010_x86_64.whl (3.2MB)\n",
      "\u001b[K     |████████████████████████████████| 3.2MB 49.0MB/s \n",
      "\u001b[?25hRequirement already satisfied: requests in /usr/local/lib/python3.7/dist-packages (from transformers<5,>=4.0->easynmt) (2.23.0)\n",
      "Requirement already satisfied: packaging in /usr/local/lib/python3.7/dist-packages (from transformers<5,>=4.0->easynmt) (20.9)\n",
      "Requirement already satisfied: importlib-metadata; python_version < \"3.8\" in /usr/local/lib/python3.7/dist-packages (from transformers<5,>=4.0->easynmt) (3.7.2)\n",
      "Requirement already satisfied: filelock in /usr/local/lib/python3.7/dist-packages (from transformers<5,>=4.0->easynmt) (3.0.12)\n",
      "Requirement already satisfied: regex!=2019.12.17 in /usr/local/lib/python3.7/dist-packages (from transformers<5,>=4.0->easynmt) (2019.12.20)\n",
      "Requirement already satisfied: typing-extensions in /usr/local/lib/python3.7/dist-packages (from torch>=1.6.0->easynmt) (3.7.4.3)\n",
      "Requirement already satisfied: six in /usr/local/lib/python3.7/dist-packages (from nltk->easynmt) (1.15.0)\n",
      "Requirement already satisfied: pybind11>=2.2 in /usr/local/lib/python3.7/dist-packages (from fasttext->easynmt) (2.6.2)\n",
      "Requirement already satisfied: setuptools>=0.7.0 in /usr/local/lib/python3.7/dist-packages (from fasttext->easynmt) (54.0.0)\n",
      "Collecting sacrebleu>=1.4.12\n",
      "\u001b[?25l  Downloading https://files.pythonhosted.org/packages/7e/57/0c7ca4e31a126189dab99c19951910bd081dea5bbd25f24b77107750eae7/sacrebleu-1.5.1-py3-none-any.whl (54kB)\n",
      "\u001b[K     |████████████████████████████████| 61kB 8.8MB/s \n",
      "\u001b[?25hRequirement already satisfied: cffi in /usr/local/lib/python3.7/dist-packages (from fairseq>=0.10.1->easynmt) (1.14.5)\n",
      "Requirement already satisfied: cython in /usr/local/lib/python3.7/dist-packages (from fairseq>=0.10.1->easynmt) (0.29.22)\n",
      "Collecting dataclasses\n",
      "  Downloading https://files.pythonhosted.org/packages/26/2f/1095cdc2868052dd1e64520f7c0d5c8c550ad297e944e641dbf1ffbb9a5d/dataclasses-0.6-py3-none-any.whl\n",
      "Collecting hydra-core\n",
      "\u001b[?25l  Downloading https://files.pythonhosted.org/packages/52/e3/fbd70dd0d3ce4d1d75c22d56c0c9f895cfa7ed6587a9ffb821d6812d6a60/hydra_core-1.0.6-py3-none-any.whl (123kB)\n",
      "\u001b[K     |████████████████████████████████| 133kB 58.3MB/s \n",
      "\u001b[?25hRequirement already satisfied: click in /usr/local/lib/python3.7/dist-packages (from sacremoses->transformers<5,>=4.0->easynmt) (7.1.2)\n",
      "Requirement already satisfied: joblib in /usr/local/lib/python3.7/dist-packages (from sacremoses->transformers<5,>=4.0->easynmt) (1.0.1)\n",
      "Requirement already satisfied: idna<3,>=2.5 in /usr/local/lib/python3.7/dist-packages (from requests->transformers<5,>=4.0->easynmt) (2.10)\n",
      "Requirement already satisfied: certifi>=2017.4.17 in /usr/local/lib/python3.7/dist-packages (from requests->transformers<5,>=4.0->easynmt) (2020.12.5)\n",
      "Requirement already satisfied: chardet<4,>=3.0.2 in /usr/local/lib/python3.7/dist-packages (from requests->transformers<5,>=4.0->easynmt) (3.0.4)\n",
      "Requirement already satisfied: urllib3!=1.25.0,!=1.25.1,<1.26,>=1.21.1 in /usr/local/lib/python3.7/dist-packages (from requests->transformers<5,>=4.0->easynmt) (1.24.3)\n",
      "Requirement already satisfied: pyparsing>=2.0.2 in /usr/local/lib/python3.7/dist-packages (from packaging->transformers<5,>=4.0->easynmt) (2.4.7)\n",
      "Requirement already satisfied: zipp>=0.5 in /usr/local/lib/python3.7/dist-packages (from importlib-metadata; python_version < \"3.8\"->transformers<5,>=4.0->easynmt) (3.4.1)\n",
      "Collecting portalocker==2.0.0\n",
      "  Downloading https://files.pythonhosted.org/packages/89/a6/3814b7107e0788040870e8825eebf214d72166adf656ba7d4bf14759a06a/portalocker-2.0.0-py2.py3-none-any.whl\n",
      "Requirement already satisfied: pycparser in /usr/local/lib/python3.7/dist-packages (from cffi->fairseq>=0.10.1->easynmt) (2.20)\n",
      "Collecting antlr4-python3-runtime==4.8\n",
      "\u001b[?25l  Downloading https://files.pythonhosted.org/packages/56/02/789a0bddf9c9b31b14c3e79ec22b9656185a803dc31c15f006f9855ece0d/antlr4-python3-runtime-4.8.tar.gz (112kB)\n",
      "\u001b[K     |████████████████████████████████| 112kB 55.6MB/s \n",
      "\u001b[?25hCollecting omegaconf<2.1,>=2.0.5\n",
      "  Downloading https://files.pythonhosted.org/packages/d0/eb/9d63ce09dd8aa85767c65668d5414958ea29648a0eec80a4a7d311ec2684/omegaconf-2.0.6-py3-none-any.whl\n",
      "Requirement already satisfied: importlib-resources; python_version < \"3.9\" in /usr/local/lib/python3.7/dist-packages (from hydra-core->fairseq>=0.10.1->easynmt) (5.1.2)\n",
      "Collecting PyYAML>=5.1.*\n",
      "\u001b[?25l  Downloading https://files.pythonhosted.org/packages/7a/a5/393c087efdc78091afa2af9f1378762f9821c9c1d7a22c5753fb5ac5f97a/PyYAML-5.4.1-cp37-cp37m-manylinux1_x86_64.whl (636kB)\n",
      "\u001b[K     |████████████████████████████████| 645kB 52.0MB/s \n",
      "\u001b[?25hBuilding wheels for collected packages: easynmt, fasttext, sacremoses, antlr4-python3-runtime\n",
      "  Building wheel for easynmt (setup.py) ... \u001b[?25l\u001b[?25hdone\n",
      "  Created wheel for easynmt: filename=EasyNMT-1.1.0-cp37-none-any.whl size=16861 sha256=3f06c38e13101c4bc7c73c9ea69adc51ad91c6fd71ba6dff75b05c552e7d377f\n",
      "  Stored in directory: /root/.cache/pip/wheels/91/b0/e0/42814e9e6e633e4031ca7ad52123b1786787f91f1bdcab7576\n",
      "  Building wheel for fasttext (setup.py) ... \u001b[?25l\u001b[?25hdone\n",
      "  Created wheel for fasttext: filename=fasttext-0.9.2-cp37-cp37m-linux_x86_64.whl size=3097903 sha256=80a2ab525a06a501f40ff313c271a669f4d61de98eb19e7eddadcc1d8b2df4c7\n",
      "  Stored in directory: /root/.cache/pip/wheels/98/ba/7f/b154944a1cf5a8cee91c154b75231136cc3a3321ab0e30f592\n",
      "  Building wheel for sacremoses (setup.py) ... \u001b[?25l\u001b[?25hdone\n",
      "  Created wheel for sacremoses: filename=sacremoses-0.0.43-cp37-none-any.whl size=893262 sha256=9163b27e307c6d4c56cc78cd807a6bc37de72b6855b4744c5b50b12b50c677db\n",
      "  Stored in directory: /root/.cache/pip/wheels/29/3c/fd/7ce5c3f0666dab31a50123635e6fb5e19ceb42ce38d4e58f45\n",
      "  Building wheel for antlr4-python3-runtime (setup.py) ... \u001b[?25l\u001b[?25hdone\n",
      "  Created wheel for antlr4-python3-runtime: filename=antlr4_python3_runtime-4.8-cp37-none-any.whl size=141231 sha256=8e6c29f46ed6f4db2591da170eeaa0a91ab86d6adebfd9b1de9bcfee13c6c054\n",
      "  Stored in directory: /root/.cache/pip/wheels/e3/e2/fa/b78480b448b8579ddf393bebd3f47ee23aa84c89b6a78285c8\n",
      "Successfully built easynmt fasttext sacremoses antlr4-python3-runtime\n",
      "Installing collected packages: sacremoses, tokenizers, transformers, sentencepiece, fasttext, portalocker, sacrebleu, dataclasses, antlr4-python3-runtime, PyYAML, omegaconf, hydra-core, fairseq, easynmt\n",
      "  Found existing installation: PyYAML 3.13\n",
      "    Uninstalling PyYAML-3.13:\n",
      "      Successfully uninstalled PyYAML-3.13\n",
      "Successfully installed PyYAML-5.4.1 antlr4-python3-runtime-4.8 dataclasses-0.6 easynmt-1.1.0 fairseq-0.10.2 fasttext-0.9.2 hydra-core-1.0.6 omegaconf-2.0.6 portalocker-2.0.0 sacrebleu-1.5.1 sacremoses-0.0.43 sentencepiece-0.1.95 tokenizers-0.10.1 transformers-4.4.1\n"
     ]
    }
   ],
   "source": [
    "!pip install easynmt"
   ]
  },
  {
   "cell_type": "markdown",
   "metadata": {
    "id": "KT-1WDq2AGxU"
   },
   "source": [
    "## Other dependencies\n",
    "We create our REST API using [FastAPI](https://fastapi.tiangolo.com/). In order to host this in a Colab, we use [pyngrok](https://github.com/alexdlaird/pyngrok).\n"
   ]
  },
  {
   "cell_type": "code",
   "execution_count": null,
   "metadata": {
    "colab": {
     "base_uri": "https://localhost:8080/"
    },
    "executionInfo": {
     "elapsed": 3472,
     "status": "ok",
     "timestamp": 1615931207632,
     "user": {
      "displayName": "Nils R",
      "photoUrl": "https://lh3.googleusercontent.com/a-/AOh14GhZmVO53TndHob4RRhHcIevXucKOseP6IYp-15X=s64",
      "userId": "18236625288761098363"
     },
     "user_tz": -60
    },
    "id": "o5lhTs9H7lPt",
    "outputId": "099c4479-0721-4fdf-a083-37e82d81567c"
   },
   "outputs": [
    {
     "name": "stdout",
     "output_type": "stream",
     "text": [
      "Requirement already satisfied: fastapi in /usr/local/lib/python3.7/dist-packages (0.63.0)\n",
      "Requirement already satisfied: pyngrok in /usr/local/lib/python3.7/dist-packages (5.0.4)\n",
      "Collecting uvicorn\n",
      "\u001b[?25l  Downloading https://files.pythonhosted.org/packages/c8/de/953f0289508b1b92debdf0a6822d9b88ffb0c6ad471d709cf639a2c8a176/uvicorn-0.13.4-py3-none-any.whl (46kB)\n",
      "\u001b[K     |████████████████████████████████| 51kB 4.6MB/s \n",
      "\u001b[?25hRequirement already satisfied: nest-asyncio in /usr/local/lib/python3.7/dist-packages (1.5.1)\n",
      "Requirement already satisfied: pydantic<2.0.0,>=1.0.0 in /usr/local/lib/python3.7/dist-packages (from fastapi) (1.8.1)\n",
      "Requirement already satisfied: starlette==0.13.6 in /usr/local/lib/python3.7/dist-packages (from fastapi) (0.13.6)\n",
      "Requirement already satisfied: PyYAML in /usr/local/lib/python3.7/dist-packages (from pyngrok) (5.4.1)\n",
      "Requirement already satisfied: click==7.* in /usr/local/lib/python3.7/dist-packages (from uvicorn) (7.1.2)\n",
      "Requirement already satisfied: typing-extensions; python_version < \"3.8\" in /usr/local/lib/python3.7/dist-packages (from uvicorn) (3.7.4.3)\n",
      "Collecting h11>=0.8\n",
      "\u001b[?25l  Downloading https://files.pythonhosted.org/packages/60/0f/7a0eeea938eaf61074f29fed9717f2010e8d0e0905d36b38d3275a1e4622/h11-0.12.0-py3-none-any.whl (54kB)\n",
      "\u001b[K     |████████████████████████████████| 61kB 6.6MB/s \n",
      "\u001b[?25hInstalling collected packages: h11, uvicorn\n",
      "Successfully installed h11-0.12.0 uvicorn-0.13.4\n"
     ]
    }
   ],
   "source": [
    "!pip install fastapi pyngrok  uvicorn nest-asyncio "
   ]
  },
  {
   "cell_type": "markdown",
   "metadata": {
    "id": "CMJyKREr_-7v"
   },
   "source": [
    "## Translation Model\n",
    "Then we define our translation model. See the [EasyNMT documentation](https://github.com/UKPLab/EasyNMT) for more details"
   ]
  },
  {
   "cell_type": "code",
   "execution_count": null,
   "metadata": {
    "colab": {
     "base_uri": "https://localhost:8080/"
    },
    "executionInfo": {
     "elapsed": 6095,
     "status": "ok",
     "timestamp": 1615931170455,
     "user": {
      "displayName": "Nils R",
      "photoUrl": "https://lh3.googleusercontent.com/a-/AOh14GhZmVO53TndHob4RRhHcIevXucKOseP6IYp-15X=s64",
      "userId": "18236625288761098363"
     },
     "user_tz": -60
    },
    "id": "S6tSQL658kVz",
    "outputId": "48ac8628-363f-433a-c9c8-ac1d33545225"
   },
   "outputs": [
    {
     "name": "stderr",
     "output_type": "stream",
     "text": [
      "100%|██████████| 11.9k/11.9k [00:00<00:00, 9.14MB/s]\n"
     ]
    }
   ],
   "source": [
    "from easynmt import EasyNMT\n",
    "model = EasyNMT('opus-mt')"
   ]
  },
  {
   "cell_type": "markdown",
   "metadata": {
    "id": "GWoC1KXnAOL-"
   },
   "source": [
    "# REST API\n",
    "Next we define a simple REST API.\n",
    "\n",
    "We define a GET and a POST method, so that you can later query the REST API with GET and POST requests.\n",
    "\n",
    "The API accepts three parameters:\n",
    "- target_lang: Our target language for the translation\n",
    "- text: A list of texts we want to translate\n",
    "- source_lang: Optional. The source language for all texts"
   ]
  },
  {
   "cell_type": "code",
   "execution_count": null,
   "metadata": {
    "id": "9q8IsN0L7pIX"
   },
   "outputs": [],
   "source": [
    "from fastapi import FastAPI\n",
    "from fastapi.middleware.cors import CORSMiddleware\n",
    "from typing import Optional, Union, List\n",
    "from fastapi import FastAPI, HTTPException, Query, Request\n",
    "\n",
    "app = FastAPI()\n",
    "app.add_middleware(\n",
    "    CORSMiddleware,\n",
    "    allow_origins=['*'],\n",
    "    allow_credentials=True,\n",
    "    allow_methods=['*'],\n",
    "    allow_headers=['*'],\n",
    ")\n",
    "\n",
    "@app.get(\"/\")\n",
    "def translate_get(target_lang: str, text: List[str] = Query([]), source_lang: Optional[str] = None):\n",
    "  return model.translate(text, target_lang=target_lang, source_lang=source_lang)\n",
    "\n",
    "@app.post(\"/\")\n",
    "async def translate_post(request: Request):\n",
    "    data = await request.json()\n",
    "    return translate_get(**data)\n"
   ]
  },
  {
   "cell_type": "markdown",
   "metadata": {
    "id": "fI3d4nI8BQlu"
   },
   "source": [
    "# Host REST-API on Colab\n",
    "Finally we start our REST API and host it on Colab.\n",
    "\n",
    "As output, the public URL will be displayed which you can use to translate documents.\n",
    "\n",
    "Either by using a GET request (e.g. opening the following URL in your browser):\n",
    "`http://[auto_id_from_ngrok].ngrok.io?target_lang=en&text=[Your_Text]`\n",
    "\n",
    "Or via a POST request:\n",
    "```\n",
    "import requests\n",
    "r = requests.post(\"http://[auto_id_from_ngrok].ngrok.io\", \n",
    "     json={'target_lang': 'en', 'text': [\"Hallo Welt\", \"Es werden alle Texte übersetzt\"]})\n",
    "print(r.json())\n",
    "```\n",
    "\n",
    "Execute the following cell and let it run as long as you like to have the translation REST API hosted. Stop the next cell to shutdown the REST API."
   ]
  },
  {
   "cell_type": "code",
   "execution_count": null,
   "metadata": {
    "colab": {
     "base_uri": "https://localhost:8080/"
    },
    "id": "RgFFt8lp7sQ8",
    "outputId": "06582c1f-3a40-48e8-8ac2-458de49706f9"
   },
   "outputs": [
    {
     "name": "stdout",
     "output_type": "stream",
     "text": [
      "REST API started\n",
      "Your public API URL: http://f96dc72838ff.ngrok.io\n",
      "You can for example open the following URL in your browser: http://f96dc72838ff.ngrok.io?target_lang=en&text=Hallo%20Welt\n"
     ]
    },
    {
     "name": "stderr",
     "output_type": "stream",
     "text": [
      "INFO:     Started server process [58]\n",
      "INFO:     Waiting for application startup.\n",
      "INFO:     Application startup complete.\n",
      "INFO:     Uvicorn running on http://127.0.0.1:8000 (Press CTRL+C to quit)\n"
     ]
    },
    {
     "name": "stdout",
     "output_type": "stream",
     "text": [
      "INFO:     2003:d4:bf3f:113a:2455:cce5:914b:2876:0 - \"GET /?target_lang=en&text=Hallo%20Welt HTTP/1.1\" 200 OK\n"
     ]
    },
    {
     "name": "stderr",
     "output_type": "stream",
     "text": [
      "/usr/local/lib/python3.7/dist-packages/transformers/tokenization_utils_base.py:3221: FutureWarning: `prepare_seq2seq_batch` is deprecated and will be removed in version 5 of 🤗 Transformers. Use the regular `__call__` method to prepare your inputs and the tokenizer under the `with_target_tokenizer` context manager to prepare your targets. See the documentation of your specific tokenizer for more details\n",
      "  FutureWarning,\n"
     ]
    },
    {
     "name": "stdout",
     "output_type": "stream",
     "text": [
      "INFO:     2003:d4:bf3f:113a:2455:cce5:914b:2876:0 - \"GET /favicon.ico HTTP/1.1\" 404 Not Found\n",
      "INFO:     18.190.26.136:0 - \"GET / HTTP/1.1\" 422 Unprocessable Entity\n",
      "INFO:     18.190.26.136:0 - \"GET /favicon.ico HTTP/1.1\" 404 Not Found\n",
      "INFO:     18.221.194.75:0 - \"GET / HTTP/1.1\" 422 Unprocessable Entity\n",
      "INFO:     18.221.194.75:0 - \"GET /favicon.ico HTTP/1.1\" 404 Not Found\n"
     ]
    }
   ],
   "source": [
    "import nest_asyncio\n",
    "from pyngrok import ngrok\n",
    "import uvicorn\n",
    "\n",
    "ngrok_tunnel = ngrok.connect(8000)\n",
    "print(\"REST API started\")\n",
    "print(\"Your public API URL:\", ngrok_tunnel.public_url)\n",
    "print(\"You can for example open the following URL in your browser: {}?target_lang=en&text=Hallo%20Welt\".format(ngrok_tunnel.public_url))\n",
    "\n",
    "nest_asyncio.apply()\n",
    "uvicorn.run(app, port=8000)\n",
    "\n"
   ]
  }
 ],
 "metadata": {
  "accelerator": "GPU",
  "colab": {
   "provenance": [
    {
     "file_id": "1kAh_Vt1ipA5-BuoaPX39rCIHFrhpcRpW",
     "timestamp": 1667898989625
    }
   ]
  },
  "kernelspec": {
   "display_name": "Python 3 (ipykernel)",
   "language": "python",
   "name": "python3"
  },
  "language_info": {
   "codemirror_mode": {
    "name": "ipython",
    "version": 3
   },
   "file_extension": ".py",
   "mimetype": "text/x-python",
   "name": "python",
   "nbconvert_exporter": "python",
   "pygments_lexer": "ipython3",
   "version": "3.9.12"
  }
 },
 "nbformat": 4,
 "nbformat_minor": 1
}

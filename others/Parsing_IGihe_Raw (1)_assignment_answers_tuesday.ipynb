{
 "cells": [
  {
   "cell_type": "code",
   "execution_count": 58,
   "id": "e6866dda",
   "metadata": {
    "id": "e6866dda"
   },
   "outputs": [],
   "source": [
    "\n",
    "import requests\n",
    "\n",
    "from bs4 import BeautifulSoup\n",
    "import pandas as pd"
   ]
  },
  {
   "cell_type": "code",
   "execution_count": null,
   "id": "c9cb3f86",
   "metadata": {
    "id": "c9cb3f86"
   },
   "outputs": [],
   "source": [
    "#Get all the available captures since jan-2022"
   ]
  },
  {
   "cell_type": "code",
   "execution_count": 2,
   "id": "805c52bc",
   "metadata": {
    "id": "805c52bc"
   },
   "outputs": [],
   "source": [
    "links =  requests.get('http://archive.org/wayback/available?url=igihe.com&timestamp=20220123')"
   ]
  },
  {
   "cell_type": "code",
   "execution_count": 3,
   "id": "9bee00f7",
   "metadata": {
    "colab": {
     "base_uri": "https://localhost:8080/"
    },
    "id": "9bee00f7",
    "outputId": "049a2fcf-7898-494c-f75c-77e9aa160f90"
   },
   "outputs": [
    {
     "data": {
      "text/plain": [
       "{'url': 'igihe.com',\n",
       " 'archived_snapshots': {'closest': {'status': '200',\n",
       "   'available': True,\n",
       "   'url': 'http://web.archive.org/web/20220123092659/https://igihe.com/',\n",
       "   'timestamp': '20220123092659'}},\n",
       " 'timestamp': '20220123'}"
      ]
     },
     "execution_count": 3,
     "metadata": {},
     "output_type": "execute_result"
    }
   ],
   "source": [
    "links.json()"
   ]
  },
  {
   "cell_type": "code",
   "execution_count": 12,
   "id": "cf1ae953",
   "metadata": {
    "colab": {
     "base_uri": "https://localhost:8080/"
    },
    "id": "cf1ae953",
    "outputId": "94fdba6f-eedb-473a-c99f-fe1816a9d44b"
   },
   "outputs": [
    {
     "data": {
      "text/plain": [
       "[{'url': 'igihe.com', 'archived_snapshots': {}, 'timestamp': '20220001'},\n",
       " {'url': 'igihe.com', 'archived_snapshots': {}, 'timestamp': '20220002'},\n",
       " {'url': 'igihe.com', 'archived_snapshots': {}, 'timestamp': '20220022'},\n",
       " {'url': 'igihe.com', 'archived_snapshots': {}, 'timestamp': '20220119'},\n",
       " {'url': 'igihe.com', 'archived_snapshots': {}, 'timestamp': '20220123'},\n",
       " {'url': 'igihe.com', 'archived_snapshots': {}, 'timestamp': '20220207'},\n",
       " {'url': 'igihe.com', 'archived_snapshots': {}, 'timestamp': '20220208'},\n",
       " {'url': 'igihe.com', 'archived_snapshots': {}, 'timestamp': '20220213'},\n",
       " {'url': 'igihe.com', 'archived_snapshots': {}, 'timestamp': '20220221'},\n",
       " {'url': 'igihe.com', 'archived_snapshots': {}, 'timestamp': '20220222'},\n",
       " {'url': 'igihe.com', 'archived_snapshots': {}, 'timestamp': '20220302'},\n",
       " {'url': 'igihe.com', 'archived_snapshots': {}, 'timestamp': '20220310'},\n",
       " {'url': 'igihe.com', 'archived_snapshots': {}, 'timestamp': '20220320'},\n",
       " {'url': 'igihe.com', 'archived_snapshots': {}, 'timestamp': '20220323'},\n",
       " {'url': 'igihe.com', 'archived_snapshots': {}, 'timestamp': '20220328'},\n",
       " {'url': 'igihe.com', 'archived_snapshots': {}, 'timestamp': '20220329'},\n",
       " {'url': 'igihe.com', 'archived_snapshots': {}, 'timestamp': '20220330'},\n",
       " {'url': 'igihe.com', 'archived_snapshots': {}, 'timestamp': '20220403'},\n",
       " {'url': 'igihe.com', 'archived_snapshots': {}, 'timestamp': '20220404'},\n",
       " {'url': 'igihe.com', 'archived_snapshots': {}, 'timestamp': '20220407'},\n",
       " {'url': 'igihe.com', 'archived_snapshots': {}, 'timestamp': '20220414'}]"
      ]
     },
     "execution_count": 12,
     "metadata": {},
     "output_type": "execute_result"
    }
   ],
   "source": [
    "err"
   ]
  },
  {
   "cell_type": "code",
   "execution_count": null,
   "id": "c80e0c01",
   "metadata": {
    "id": "c80e0c01",
    "scrolled": true
   },
   "outputs": [],
   "source": [
    "snap = []\n",
    "err = []\n",
    "for month in range(10):\n",
    "    for day in range(31):\n",
    "        link = requests.get('http://archive.org/wayback/available?url=igihe.com&timestamp=2022{:02d}{:02d}'.format(month, day))\n",
    "        try:\n",
    "            if link.json()['archived_snapshots']['closest']['available']:\n",
    "                snap.append(link.json()['archived_snapshots']['closest']['url'])\n",
    "        except KeyError:\n",
    "            err.append(link.json())\n",
    "            break"
   ]
  },
  {
   "cell_type": "code",
   "execution_count": 21,
   "id": "o_X7eLG564CC",
   "metadata": {
    "id": "o_X7eLG564CC"
   },
   "outputs": [],
   "source": [
    "#del snap"
   ]
  },
  {
   "cell_type": "code",
   "execution_count": 14,
   "id": "bvPFkXLy7Gt-",
   "metadata": {
    "id": "bvPFkXLy7Gt-"
   },
   "outputs": [],
   "source": [
    "c"
   ]
  },
  {
   "cell_type": "code",
   "execution_count": 10,
   "id": "e0DZ-ggp798R",
   "metadata": {
    "colab": {
     "base_uri": "https://localhost:8080/"
    },
    "id": "e0DZ-ggp798R",
    "outputId": "a676f1cd-6279-4c6e-89b7-ad5f7926c994"
   },
   "outputs": [
    {
     "data": {
      "text/plain": [
       "184"
      ]
     },
     "execution_count": 10,
     "metadata": {},
     "output_type": "execute_result"
    }
   ],
   "source": [
    "len(snaps_r)"
   ]
  },
  {
   "cell_type": "code",
   "execution_count": 22,
   "id": "56WvM9O8CewB",
   "metadata": {
    "id": "56WvM9O8CewB"
   },
   "outputs": [],
   "source": [
    "snap_r = list(snaps_r)"
   ]
  },
  {
   "cell_type": "code",
   "execution_count": 23,
   "id": "BaUACdbdDCdD",
   "metadata": {
    "colab": {
     "base_uri": "https://localhost:8080/"
    },
    "id": "BaUACdbdDCdD",
    "outputId": "22088510-1dc1-4c20-f4b1-569d30461e00"
   },
   "outputs": [
    {
     "data": {
      "text/plain": [
       "184"
      ]
     },
     "execution_count": 23,
     "metadata": {},
     "output_type": "execute_result"
    }
   ],
   "source": [
    "len(snap_r)"
   ]
  },
  {
   "cell_type": "code",
   "execution_count": 36,
   "id": "RBIVQxEPYltW",
   "metadata": {
    "colab": {
     "base_uri": "https://localhost:8080/",
     "height": 35
    },
    "id": "RBIVQxEPYltW",
    "outputId": "4bfaba72-36de-463f-fb62-6c963c1236e4"
   },
   "outputs": [
    {
     "data": {
      "application/vnd.google.colaboratory.intrinsic+json": {
       "type": "string"
      },
      "text/plain": [
       "'http://web.archive.org/web/20220504005827/https://www.igihe.com/'"
      ]
     },
     "execution_count": 36,
     "metadata": {},
     "output_type": "execute_result"
    }
   ],
   "source": [
    "str(snap_r[0])"
   ]
  },
  {
   "cell_type": "code",
   "execution_count": 37,
   "id": "eKW-2RmtDUUv",
   "metadata": {
    "id": "eKW-2RmtDUUv"
   },
   "outputs": [],
   "source": [
    "b = requests.get(url=str(snap_r[0]))"
   ]
  },
  {
   "cell_type": "code",
   "execution_count": null,
   "id": "1Zb5qZv9Y9oa",
   "metadata": {
    "id": "1Zb5qZv9Y9oa"
   },
   "outputs": [],
   "source": [
    "b.content"
   ]
  },
  {
   "cell_type": "code",
   "execution_count": null,
   "id": "-LvKh0fsDcif",
   "metadata": {
    "id": "-LvKh0fsDcif"
   },
   "outputs": [],
   "source": [
    "BeautifulSoup(str(b.content), \"html.parser\").prettify()"
   ]
  },
  {
   "cell_type": "code",
   "execution_count": 29,
   "id": "gwz0abvt9TiL",
   "metadata": {
    "id": "gwz0abvt9TiL"
   },
   "outputs": [],
   "source": [
    "#Fetch all the titles and their link from wayback archivr\n",
    "\n",
    "links_art = []\n",
    "\n",
    "for lin in snaps_r:\n",
    "  content = requests.get(url=lin).content\n",
    "  soup =  BeautifulSoup(content, \"html.parser\")\n",
    "  articles = soup.find_all('span', class_=\"homenews-title\")\n",
    "  links_art.append(articles)"
   ]
  },
  {
   "cell_type": "code",
   "execution_count": 57,
   "id": "5X-tf-97HqZq",
   "metadata": {
    "colab": {
     "base_uri": "https://localhost:8080/",
     "height": 35
    },
    "id": "5X-tf-97HqZq",
    "outputId": "2fc9c285-313d-4cf7-f0f0-6e7ca3a62e48"
   },
   "outputs": [
    {
     "data": {
      "application/vnd.google.colaboratory.intrinsic+json": {
       "type": "string"
      },
      "text/plain": [
       "'imyidagaduro/article/briana-wakanyujijeho-mu-rukundo-na-harmonize-ategerejwe-mu-rwanda'"
      ]
     },
     "execution_count": 57,
     "metadata": {},
     "output_type": "execute_result"
    }
   ],
   "source": [
    "links_art[0][0].find('a')['href']"
   ]
  },
  {
   "cell_type": "code",
   "execution_count": 60,
   "id": "aZfTEsJVd872",
   "metadata": {
    "colab": {
     "base_uri": "https://localhost:8080/",
     "height": 35
    },
    "id": "aZfTEsJVd872",
    "outputId": "d1c07124-7f81-4075-c528-b1d85fbb2f97"
   },
   "outputs": [
    {
     "data": {
      "application/vnd.google.colaboratory.intrinsic+json": {
       "type": "string"
      },
      "text/plain": [
       "'http://web.archive.org/web/20220504005827/https://www.igihe.com/'"
      ]
     },
     "execution_count": 60,
     "metadata": {},
     "output_type": "execute_result"
    }
   ],
   "source": [
    "list(snaps_r)[0]"
   ]
  },
  {
   "cell_type": "code",
   "execution_count": 70,
   "id": "FZ-U9WKMadtF",
   "metadata": {
    "id": "FZ-U9WKMadtF"
   },
   "outputs": [],
   "source": [
    "#Actual link\n",
    "wayback_link = []\n",
    "href_link = []\n",
    "\n",
    "#Loop all the 184 snapshots\n",
    "for index, snapshot in enumerate(list(snaps_r)):\n",
    "  #In each title assign it's snapshop prefix link\n",
    "  for title in links_art[index]:\n",
    "    wayback_link.append(snapshot)\n",
    "    href_link.append(str(title.find('a')['href']))"
   ]
  },
  {
   "cell_type": "code",
   "execution_count": 64,
   "id": "945pI3xxfpKd",
   "metadata": {
    "colab": {
     "base_uri": "https://localhost:8080/"
    },
    "id": "945pI3xxfpKd",
    "outputId": "725958fd-13b7-458f-f5cb-47af76d66928"
   },
   "outputs": [
    {
     "data": {
      "text/plain": [
       "13432"
      ]
     },
     "execution_count": 64,
     "metadata": {},
     "output_type": "execute_result"
    }
   ],
   "source": [
    "len(href_link)"
   ]
  },
  {
   "cell_type": "code",
   "execution_count": 71,
   "id": "KfDVPDvdmTV8",
   "metadata": {
    "id": "KfDVPDvdmTV8"
   },
   "outputs": [],
   "source": [
    "df = pd.DataFrame(list(zip(wayback_link, href_link)), columns=['Prefix', 'Title'])"
   ]
  },
  {
   "cell_type": "code",
   "execution_count": 74,
   "id": "OYwzOppmoWWy",
   "metadata": {
    "colab": {
     "base_uri": "https://localhost:8080/",
     "height": 175
    },
    "id": "OYwzOppmoWWy",
    "outputId": "26910c08-d8d3-4d90-afc5-7a6654cd2070"
   },
   "outputs": [
    {
     "data": {
      "text/html": [
       "\n",
       "  <div id=\"df-4ab0848b-9bac-403a-a8aa-7a4621dc040e\">\n",
       "    <div class=\"colab-df-container\">\n",
       "      <div>\n",
       "<style scoped>\n",
       "    .dataframe tbody tr th:only-of-type {\n",
       "        vertical-align: middle;\n",
       "    }\n",
       "\n",
       "    .dataframe tbody tr th {\n",
       "        vertical-align: top;\n",
       "    }\n",
       "\n",
       "    .dataframe thead th {\n",
       "        text-align: right;\n",
       "    }\n",
       "</style>\n",
       "<table border=\"1\" class=\"dataframe\">\n",
       "  <thead>\n",
       "    <tr style=\"text-align: right;\">\n",
       "      <th></th>\n",
       "      <th>Prefix</th>\n",
       "      <th>Title</th>\n",
       "    </tr>\n",
       "  </thead>\n",
       "  <tbody>\n",
       "    <tr>\n",
       "      <th>count</th>\n",
       "      <td>13432</td>\n",
       "      <td>13432</td>\n",
       "    </tr>\n",
       "    <tr>\n",
       "      <th>unique</th>\n",
       "      <td>184</td>\n",
       "      <td>7344</td>\n",
       "    </tr>\n",
       "    <tr>\n",
       "      <th>top</th>\n",
       "      <td>http://web.archive.org/web/20220504005827/http...</td>\n",
       "      <td>ikoranabuhanga/article/kaminuza-zasabwe-gushyi...</td>\n",
       "    </tr>\n",
       "    <tr>\n",
       "      <th>freq</th>\n",
       "      <td>73</td>\n",
       "      <td>22</td>\n",
       "    </tr>\n",
       "  </tbody>\n",
       "</table>\n",
       "</div>\n",
       "      <button class=\"colab-df-convert\" onclick=\"convertToInteractive('df-4ab0848b-9bac-403a-a8aa-7a4621dc040e')\"\n",
       "              title=\"Convert this dataframe to an interactive table.\"\n",
       "              style=\"display:none;\">\n",
       "        \n",
       "  <svg xmlns=\"http://www.w3.org/2000/svg\" height=\"24px\"viewBox=\"0 0 24 24\"\n",
       "       width=\"24px\">\n",
       "    <path d=\"M0 0h24v24H0V0z\" fill=\"none\"/>\n",
       "    <path d=\"M18.56 5.44l.94 2.06.94-2.06 2.06-.94-2.06-.94-.94-2.06-.94 2.06-2.06.94zm-11 1L8.5 8.5l.94-2.06 2.06-.94-2.06-.94L8.5 2.5l-.94 2.06-2.06.94zm10 10l.94 2.06.94-2.06 2.06-.94-2.06-.94-.94-2.06-.94 2.06-2.06.94z\"/><path d=\"M17.41 7.96l-1.37-1.37c-.4-.4-.92-.59-1.43-.59-.52 0-1.04.2-1.43.59L10.3 9.45l-7.72 7.72c-.78.78-.78 2.05 0 2.83L4 21.41c.39.39.9.59 1.41.59.51 0 1.02-.2 1.41-.59l7.78-7.78 2.81-2.81c.8-.78.8-2.07 0-2.86zM5.41 20L4 18.59l7.72-7.72 1.47 1.35L5.41 20z\"/>\n",
       "  </svg>\n",
       "      </button>\n",
       "      \n",
       "  <style>\n",
       "    .colab-df-container {\n",
       "      display:flex;\n",
       "      flex-wrap:wrap;\n",
       "      gap: 12px;\n",
       "    }\n",
       "\n",
       "    .colab-df-convert {\n",
       "      background-color: #E8F0FE;\n",
       "      border: none;\n",
       "      border-radius: 50%;\n",
       "      cursor: pointer;\n",
       "      display: none;\n",
       "      fill: #1967D2;\n",
       "      height: 32px;\n",
       "      padding: 0 0 0 0;\n",
       "      width: 32px;\n",
       "    }\n",
       "\n",
       "    .colab-df-convert:hover {\n",
       "      background-color: #E2EBFA;\n",
       "      box-shadow: 0px 1px 2px rgba(60, 64, 67, 0.3), 0px 1px 3px 1px rgba(60, 64, 67, 0.15);\n",
       "      fill: #174EA6;\n",
       "    }\n",
       "\n",
       "    [theme=dark] .colab-df-convert {\n",
       "      background-color: #3B4455;\n",
       "      fill: #D2E3FC;\n",
       "    }\n",
       "\n",
       "    [theme=dark] .colab-df-convert:hover {\n",
       "      background-color: #434B5C;\n",
       "      box-shadow: 0px 1px 3px 1px rgba(0, 0, 0, 0.15);\n",
       "      filter: drop-shadow(0px 1px 2px rgba(0, 0, 0, 0.3));\n",
       "      fill: #FFFFFF;\n",
       "    }\n",
       "  </style>\n",
       "\n",
       "      <script>\n",
       "        const buttonEl =\n",
       "          document.querySelector('#df-4ab0848b-9bac-403a-a8aa-7a4621dc040e button.colab-df-convert');\n",
       "        buttonEl.style.display =\n",
       "          google.colab.kernel.accessAllowed ? 'block' : 'none';\n",
       "\n",
       "        async function convertToInteractive(key) {\n",
       "          const element = document.querySelector('#df-4ab0848b-9bac-403a-a8aa-7a4621dc040e');\n",
       "          const dataTable =\n",
       "            await google.colab.kernel.invokeFunction('convertToInteractive',\n",
       "                                                     [key], {});\n",
       "          if (!dataTable) return;\n",
       "\n",
       "          const docLinkHtml = 'Like what you see? Visit the ' +\n",
       "            '<a target=\"_blank\" href=https://colab.research.google.com/notebooks/data_table.ipynb>data table notebook</a>'\n",
       "            + ' to learn more about interactive tables.';\n",
       "          element.innerHTML = '';\n",
       "          dataTable['output_type'] = 'display_data';\n",
       "          await google.colab.output.renderOutput(dataTable, element);\n",
       "          const docLink = document.createElement('div');\n",
       "          docLink.innerHTML = docLinkHtml;\n",
       "          element.appendChild(docLink);\n",
       "        }\n",
       "      </script>\n",
       "    </div>\n",
       "  </div>\n",
       "  "
      ],
      "text/plain": [
       "                                                   Prefix  \\\n",
       "count                                               13432   \n",
       "unique                                                184   \n",
       "top     http://web.archive.org/web/20220504005827/http...   \n",
       "freq                                                   73   \n",
       "\n",
       "                                                    Title  \n",
       "count                                               13432  \n",
       "unique                                               7344  \n",
       "top     ikoranabuhanga/article/kaminuza-zasabwe-gushyi...  \n",
       "freq                                                   22  "
      ]
     },
     "execution_count": 74,
     "metadata": {},
     "output_type": "execute_result"
    }
   ],
   "source": [
    "df.describe()"
   ]
  },
  {
   "cell_type": "code",
   "execution_count": 72,
   "id": "ZqZO4esonD7w",
   "metadata": {
    "colab": {
     "base_uri": "https://localhost:8080/",
     "height": 363
    },
    "id": "ZqZO4esonD7w",
    "outputId": "b419ce99-61b0-4f20-9c91-eeadbc672170"
   },
   "outputs": [
    {
     "data": {
      "text/html": [
       "\n",
       "  <div id=\"df-8fe277cd-91b7-4869-ad51-5be7d3e53abf\">\n",
       "    <div class=\"colab-df-container\">\n",
       "      <div>\n",
       "<style scoped>\n",
       "    .dataframe tbody tr th:only-of-type {\n",
       "        vertical-align: middle;\n",
       "    }\n",
       "\n",
       "    .dataframe tbody tr th {\n",
       "        vertical-align: top;\n",
       "    }\n",
       "\n",
       "    .dataframe thead th {\n",
       "        text-align: right;\n",
       "    }\n",
       "</style>\n",
       "<table border=\"1\" class=\"dataframe\">\n",
       "  <thead>\n",
       "    <tr style=\"text-align: right;\">\n",
       "      <th></th>\n",
       "      <th>Prefix</th>\n",
       "      <th>Title</th>\n",
       "    </tr>\n",
       "  </thead>\n",
       "  <tbody>\n",
       "    <tr>\n",
       "      <th>0</th>\n",
       "      <td>http://web.archive.org/web/20220504005827/http...</td>\n",
       "      <td>imyidagaduro/article/briana-wakanyujijeho-mu-r...</td>\n",
       "    </tr>\n",
       "    <tr>\n",
       "      <th>1</th>\n",
       "      <td>http://web.archive.org/web/20220504005827/http...</td>\n",
       "      <td>amakuru/u-rwanda/article/hatangajwe-impamvu-y-...</td>\n",
       "    </tr>\n",
       "    <tr>\n",
       "      <th>2</th>\n",
       "      <td>http://web.archive.org/web/20220504005827/http...</td>\n",
       "      <td>imyidagaduro/article/dj-uncle-waffles-uri-mu-b...</td>\n",
       "    </tr>\n",
       "    <tr>\n",
       "      <th>3</th>\n",
       "      <td>http://web.archive.org/web/20220504005827/http...</td>\n",
       "      <td>twinigure/ubibona-ute/article/ese-demokarasi-n...</td>\n",
       "    </tr>\n",
       "    <tr>\n",
       "      <th>4</th>\n",
       "      <td>http://web.archive.org/web/20220504005827/http...</td>\n",
       "      <td>amakuru/mu-mahanga/article/inyungu-ya-pfizer-y...</td>\n",
       "    </tr>\n",
       "    <tr>\n",
       "      <th>5</th>\n",
       "      <td>http://web.archive.org/web/20220504005827/http...</td>\n",
       "      <td>imikino/football/article/rayon-sports-na-as-ki...</td>\n",
       "    </tr>\n",
       "    <tr>\n",
       "      <th>6</th>\n",
       "      <td>http://web.archive.org/web/20220504005827/http...</td>\n",
       "      <td>amakuru/utuntu-n-utundi/article/u-bwongereza-i...</td>\n",
       "    </tr>\n",
       "    <tr>\n",
       "      <th>7</th>\n",
       "      <td>http://web.archive.org/web/20220504005827/http...</td>\n",
       "      <td>imikino/indi-mikino/article/nyarugenge-izakira...</td>\n",
       "    </tr>\n",
       "    <tr>\n",
       "      <th>8</th>\n",
       "      <td>http://web.archive.org/web/20220504005827/http...</td>\n",
       "      <td>amakuru/u-rwanda/article/huye-abarokotse-basab...</td>\n",
       "    </tr>\n",
       "    <tr>\n",
       "      <th>9</th>\n",
       "      <td>http://web.archive.org/web/20220504005827/http...</td>\n",
       "      <td>imyidagaduro/article/marina-yasusurukije-abita...</td>\n",
       "    </tr>\n",
       "  </tbody>\n",
       "</table>\n",
       "</div>\n",
       "      <button class=\"colab-df-convert\" onclick=\"convertToInteractive('df-8fe277cd-91b7-4869-ad51-5be7d3e53abf')\"\n",
       "              title=\"Convert this dataframe to an interactive table.\"\n",
       "              style=\"display:none;\">\n",
       "        \n",
       "  <svg xmlns=\"http://www.w3.org/2000/svg\" height=\"24px\"viewBox=\"0 0 24 24\"\n",
       "       width=\"24px\">\n",
       "    <path d=\"M0 0h24v24H0V0z\" fill=\"none\"/>\n",
       "    <path d=\"M18.56 5.44l.94 2.06.94-2.06 2.06-.94-2.06-.94-.94-2.06-.94 2.06-2.06.94zm-11 1L8.5 8.5l.94-2.06 2.06-.94-2.06-.94L8.5 2.5l-.94 2.06-2.06.94zm10 10l.94 2.06.94-2.06 2.06-.94-2.06-.94-.94-2.06-.94 2.06-2.06.94z\"/><path d=\"M17.41 7.96l-1.37-1.37c-.4-.4-.92-.59-1.43-.59-.52 0-1.04.2-1.43.59L10.3 9.45l-7.72 7.72c-.78.78-.78 2.05 0 2.83L4 21.41c.39.39.9.59 1.41.59.51 0 1.02-.2 1.41-.59l7.78-7.78 2.81-2.81c.8-.78.8-2.07 0-2.86zM5.41 20L4 18.59l7.72-7.72 1.47 1.35L5.41 20z\"/>\n",
       "  </svg>\n",
       "      </button>\n",
       "      \n",
       "  <style>\n",
       "    .colab-df-container {\n",
       "      display:flex;\n",
       "      flex-wrap:wrap;\n",
       "      gap: 12px;\n",
       "    }\n",
       "\n",
       "    .colab-df-convert {\n",
       "      background-color: #E8F0FE;\n",
       "      border: none;\n",
       "      border-radius: 50%;\n",
       "      cursor: pointer;\n",
       "      display: none;\n",
       "      fill: #1967D2;\n",
       "      height: 32px;\n",
       "      padding: 0 0 0 0;\n",
       "      width: 32px;\n",
       "    }\n",
       "\n",
       "    .colab-df-convert:hover {\n",
       "      background-color: #E2EBFA;\n",
       "      box-shadow: 0px 1px 2px rgba(60, 64, 67, 0.3), 0px 1px 3px 1px rgba(60, 64, 67, 0.15);\n",
       "      fill: #174EA6;\n",
       "    }\n",
       "\n",
       "    [theme=dark] .colab-df-convert {\n",
       "      background-color: #3B4455;\n",
       "      fill: #D2E3FC;\n",
       "    }\n",
       "\n",
       "    [theme=dark] .colab-df-convert:hover {\n",
       "      background-color: #434B5C;\n",
       "      box-shadow: 0px 1px 3px 1px rgba(0, 0, 0, 0.15);\n",
       "      filter: drop-shadow(0px 1px 2px rgba(0, 0, 0, 0.3));\n",
       "      fill: #FFFFFF;\n",
       "    }\n",
       "  </style>\n",
       "\n",
       "      <script>\n",
       "        const buttonEl =\n",
       "          document.querySelector('#df-8fe277cd-91b7-4869-ad51-5be7d3e53abf button.colab-df-convert');\n",
       "        buttonEl.style.display =\n",
       "          google.colab.kernel.accessAllowed ? 'block' : 'none';\n",
       "\n",
       "        async function convertToInteractive(key) {\n",
       "          const element = document.querySelector('#df-8fe277cd-91b7-4869-ad51-5be7d3e53abf');\n",
       "          const dataTable =\n",
       "            await google.colab.kernel.invokeFunction('convertToInteractive',\n",
       "                                                     [key], {});\n",
       "          if (!dataTable) return;\n",
       "\n",
       "          const docLinkHtml = 'Like what you see? Visit the ' +\n",
       "            '<a target=\"_blank\" href=https://colab.research.google.com/notebooks/data_table.ipynb>data table notebook</a>'\n",
       "            + ' to learn more about interactive tables.';\n",
       "          element.innerHTML = '';\n",
       "          dataTable['output_type'] = 'display_data';\n",
       "          await google.colab.output.renderOutput(dataTable, element);\n",
       "          const docLink = document.createElement('div');\n",
       "          docLink.innerHTML = docLinkHtml;\n",
       "          element.appendChild(docLink);\n",
       "        }\n",
       "      </script>\n",
       "    </div>\n",
       "  </div>\n",
       "  "
      ],
      "text/plain": [
       "                                              Prefix  \\\n",
       "0  http://web.archive.org/web/20220504005827/http...   \n",
       "1  http://web.archive.org/web/20220504005827/http...   \n",
       "2  http://web.archive.org/web/20220504005827/http...   \n",
       "3  http://web.archive.org/web/20220504005827/http...   \n",
       "4  http://web.archive.org/web/20220504005827/http...   \n",
       "5  http://web.archive.org/web/20220504005827/http...   \n",
       "6  http://web.archive.org/web/20220504005827/http...   \n",
       "7  http://web.archive.org/web/20220504005827/http...   \n",
       "8  http://web.archive.org/web/20220504005827/http...   \n",
       "9  http://web.archive.org/web/20220504005827/http...   \n",
       "\n",
       "                                               Title  \n",
       "0  imyidagaduro/article/briana-wakanyujijeho-mu-r...  \n",
       "1  amakuru/u-rwanda/article/hatangajwe-impamvu-y-...  \n",
       "2  imyidagaduro/article/dj-uncle-waffles-uri-mu-b...  \n",
       "3  twinigure/ubibona-ute/article/ese-demokarasi-n...  \n",
       "4  amakuru/mu-mahanga/article/inyungu-ya-pfizer-y...  \n",
       "5  imikino/football/article/rayon-sports-na-as-ki...  \n",
       "6  amakuru/utuntu-n-utundi/article/u-bwongereza-i...  \n",
       "7  imikino/indi-mikino/article/nyarugenge-izakira...  \n",
       "8  amakuru/u-rwanda/article/huye-abarokotse-basab...  \n",
       "9  imyidagaduro/article/marina-yasusurukije-abita...  "
      ]
     },
     "execution_count": 72,
     "metadata": {},
     "output_type": "execute_result"
    }
   ],
   "source": [
    "df.head(10)"
   ]
  },
  {
   "cell_type": "code",
   "execution_count": 76,
   "id": "8IWxbIV7oVGz",
   "metadata": {
    "colab": {
     "base_uri": "https://localhost:8080/",
     "height": 424
    },
    "id": "8IWxbIV7oVGz",
    "outputId": "46e82a7b-87fb-4b5e-b8e2-d081b8d39137"
   },
   "outputs": [
    {
     "data": {
      "text/html": [
       "\n",
       "  <div id=\"df-8fdd67f0-a24c-482e-a7de-c7d857275497\">\n",
       "    <div class=\"colab-df-container\">\n",
       "      <div>\n",
       "<style scoped>\n",
       "    .dataframe tbody tr th:only-of-type {\n",
       "        vertical-align: middle;\n",
       "    }\n",
       "\n",
       "    .dataframe tbody tr th {\n",
       "        vertical-align: top;\n",
       "    }\n",
       "\n",
       "    .dataframe thead th {\n",
       "        text-align: right;\n",
       "    }\n",
       "</style>\n",
       "<table border=\"1\" class=\"dataframe\">\n",
       "  <thead>\n",
       "    <tr style=\"text-align: right;\">\n",
       "      <th></th>\n",
       "      <th>Prefix</th>\n",
       "      <th>Title</th>\n",
       "    </tr>\n",
       "  </thead>\n",
       "  <tbody>\n",
       "    <tr>\n",
       "      <th>0</th>\n",
       "      <td>http://web.archive.org/web/20220504005827/http...</td>\n",
       "      <td>imyidagaduro/article/briana-wakanyujijeho-mu-r...</td>\n",
       "    </tr>\n",
       "    <tr>\n",
       "      <th>1</th>\n",
       "      <td>http://web.archive.org/web/20220504005827/http...</td>\n",
       "      <td>amakuru/u-rwanda/article/hatangajwe-impamvu-y-...</td>\n",
       "    </tr>\n",
       "    <tr>\n",
       "      <th>2</th>\n",
       "      <td>http://web.archive.org/web/20220504005827/http...</td>\n",
       "      <td>imyidagaduro/article/dj-uncle-waffles-uri-mu-b...</td>\n",
       "    </tr>\n",
       "    <tr>\n",
       "      <th>3</th>\n",
       "      <td>http://web.archive.org/web/20220504005827/http...</td>\n",
       "      <td>twinigure/ubibona-ute/article/ese-demokarasi-n...</td>\n",
       "    </tr>\n",
       "    <tr>\n",
       "      <th>4</th>\n",
       "      <td>http://web.archive.org/web/20220504005827/http...</td>\n",
       "      <td>amakuru/mu-mahanga/article/inyungu-ya-pfizer-y...</td>\n",
       "    </tr>\n",
       "    <tr>\n",
       "      <th>...</th>\n",
       "      <td>...</td>\n",
       "      <td>...</td>\n",
       "    </tr>\n",
       "    <tr>\n",
       "      <th>13345</th>\n",
       "      <td>http://web.archive.org/web/20220526235713/http...</td>\n",
       "      <td>amakuru/u-rwanda/article/rib-yafunze-musoni-wi...</td>\n",
       "    </tr>\n",
       "    <tr>\n",
       "      <th>13351</th>\n",
       "      <td>http://web.archive.org/web/20220526235713/http...</td>\n",
       "      <td>amakuru/u-rwanda/article/umugenzuzi-w-imari-ya...</td>\n",
       "    </tr>\n",
       "    <tr>\n",
       "      <th>13399</th>\n",
       "      <td>http://web.archive.org/web/20220506235720/http...</td>\n",
       "      <td>imyidagaduro/article/ferrari-yahanishije-justi...</td>\n",
       "    </tr>\n",
       "    <tr>\n",
       "      <th>13403</th>\n",
       "      <td>http://web.archive.org/web/20220506235720/http...</td>\n",
       "      <td>ubukungu/article/bpr-bank-rwanda-yamuritse-ibi...</td>\n",
       "    </tr>\n",
       "    <tr>\n",
       "      <th>13407</th>\n",
       "      <td>http://web.archive.org/web/20220506235720/http...</td>\n",
       "      <td>imyidagaduro/article/kim-kardashian-yagaragaje...</td>\n",
       "    </tr>\n",
       "  </tbody>\n",
       "</table>\n",
       "<p>7344 rows × 2 columns</p>\n",
       "</div>\n",
       "      <button class=\"colab-df-convert\" onclick=\"convertToInteractive('df-8fdd67f0-a24c-482e-a7de-c7d857275497')\"\n",
       "              title=\"Convert this dataframe to an interactive table.\"\n",
       "              style=\"display:none;\">\n",
       "        \n",
       "  <svg xmlns=\"http://www.w3.org/2000/svg\" height=\"24px\"viewBox=\"0 0 24 24\"\n",
       "       width=\"24px\">\n",
       "    <path d=\"M0 0h24v24H0V0z\" fill=\"none\"/>\n",
       "    <path d=\"M18.56 5.44l.94 2.06.94-2.06 2.06-.94-2.06-.94-.94-2.06-.94 2.06-2.06.94zm-11 1L8.5 8.5l.94-2.06 2.06-.94-2.06-.94L8.5 2.5l-.94 2.06-2.06.94zm10 10l.94 2.06.94-2.06 2.06-.94-2.06-.94-.94-2.06-.94 2.06-2.06.94z\"/><path d=\"M17.41 7.96l-1.37-1.37c-.4-.4-.92-.59-1.43-.59-.52 0-1.04.2-1.43.59L10.3 9.45l-7.72 7.72c-.78.78-.78 2.05 0 2.83L4 21.41c.39.39.9.59 1.41.59.51 0 1.02-.2 1.41-.59l7.78-7.78 2.81-2.81c.8-.78.8-2.07 0-2.86zM5.41 20L4 18.59l7.72-7.72 1.47 1.35L5.41 20z\"/>\n",
       "  </svg>\n",
       "      </button>\n",
       "      \n",
       "  <style>\n",
       "    .colab-df-container {\n",
       "      display:flex;\n",
       "      flex-wrap:wrap;\n",
       "      gap: 12px;\n",
       "    }\n",
       "\n",
       "    .colab-df-convert {\n",
       "      background-color: #E8F0FE;\n",
       "      border: none;\n",
       "      border-radius: 50%;\n",
       "      cursor: pointer;\n",
       "      display: none;\n",
       "      fill: #1967D2;\n",
       "      height: 32px;\n",
       "      padding: 0 0 0 0;\n",
       "      width: 32px;\n",
       "    }\n",
       "\n",
       "    .colab-df-convert:hover {\n",
       "      background-color: #E2EBFA;\n",
       "      box-shadow: 0px 1px 2px rgba(60, 64, 67, 0.3), 0px 1px 3px 1px rgba(60, 64, 67, 0.15);\n",
       "      fill: #174EA6;\n",
       "    }\n",
       "\n",
       "    [theme=dark] .colab-df-convert {\n",
       "      background-color: #3B4455;\n",
       "      fill: #D2E3FC;\n",
       "    }\n",
       "\n",
       "    [theme=dark] .colab-df-convert:hover {\n",
       "      background-color: #434B5C;\n",
       "      box-shadow: 0px 1px 3px 1px rgba(0, 0, 0, 0.15);\n",
       "      filter: drop-shadow(0px 1px 2px rgba(0, 0, 0, 0.3));\n",
       "      fill: #FFFFFF;\n",
       "    }\n",
       "  </style>\n",
       "\n",
       "      <script>\n",
       "        const buttonEl =\n",
       "          document.querySelector('#df-8fdd67f0-a24c-482e-a7de-c7d857275497 button.colab-df-convert');\n",
       "        buttonEl.style.display =\n",
       "          google.colab.kernel.accessAllowed ? 'block' : 'none';\n",
       "\n",
       "        async function convertToInteractive(key) {\n",
       "          const element = document.querySelector('#df-8fdd67f0-a24c-482e-a7de-c7d857275497');\n",
       "          const dataTable =\n",
       "            await google.colab.kernel.invokeFunction('convertToInteractive',\n",
       "                                                     [key], {});\n",
       "          if (!dataTable) return;\n",
       "\n",
       "          const docLinkHtml = 'Like what you see? Visit the ' +\n",
       "            '<a target=\"_blank\" href=https://colab.research.google.com/notebooks/data_table.ipynb>data table notebook</a>'\n",
       "            + ' to learn more about interactive tables.';\n",
       "          element.innerHTML = '';\n",
       "          dataTable['output_type'] = 'display_data';\n",
       "          await google.colab.output.renderOutput(dataTable, element);\n",
       "          const docLink = document.createElement('div');\n",
       "          docLink.innerHTML = docLinkHtml;\n",
       "          element.appendChild(docLink);\n",
       "        }\n",
       "      </script>\n",
       "    </div>\n",
       "  </div>\n",
       "  "
      ],
      "text/plain": [
       "                                                  Prefix  \\\n",
       "0      http://web.archive.org/web/20220504005827/http...   \n",
       "1      http://web.archive.org/web/20220504005827/http...   \n",
       "2      http://web.archive.org/web/20220504005827/http...   \n",
       "3      http://web.archive.org/web/20220504005827/http...   \n",
       "4      http://web.archive.org/web/20220504005827/http...   \n",
       "...                                                  ...   \n",
       "13345  http://web.archive.org/web/20220526235713/http...   \n",
       "13351  http://web.archive.org/web/20220526235713/http...   \n",
       "13399  http://web.archive.org/web/20220506235720/http...   \n",
       "13403  http://web.archive.org/web/20220506235720/http...   \n",
       "13407  http://web.archive.org/web/20220506235720/http...   \n",
       "\n",
       "                                                   Title  \n",
       "0      imyidagaduro/article/briana-wakanyujijeho-mu-r...  \n",
       "1      amakuru/u-rwanda/article/hatangajwe-impamvu-y-...  \n",
       "2      imyidagaduro/article/dj-uncle-waffles-uri-mu-b...  \n",
       "3      twinigure/ubibona-ute/article/ese-demokarasi-n...  \n",
       "4      amakuru/mu-mahanga/article/inyungu-ya-pfizer-y...  \n",
       "...                                                  ...  \n",
       "13345  amakuru/u-rwanda/article/rib-yafunze-musoni-wi...  \n",
       "13351  amakuru/u-rwanda/article/umugenzuzi-w-imari-ya...  \n",
       "13399  imyidagaduro/article/ferrari-yahanishije-justi...  \n",
       "13403  ubukungu/article/bpr-bank-rwanda-yamuritse-ibi...  \n",
       "13407  imyidagaduro/article/kim-kardashian-yagaragaje...  \n",
       "\n",
       "[7344 rows x 2 columns]"
      ]
     },
     "execution_count": 76,
     "metadata": {},
     "output_type": "execute_result"
    }
   ],
   "source": [
    "df.drop_duplicates(subset=['Title'])"
   ]
  },
  {
   "cell_type": "code",
   "execution_count": 89,
   "id": "ysu73N6crER1",
   "metadata": {
    "id": "ysu73N6crER1"
   },
   "outputs": [],
   "source": [
    "content = requests.get(df['Prefix'][0]+df['Title'][0]).content\n",
    "raw_content = BeautifulSoup(content, 'html.parser')\n"
   ]
  },
  {
   "cell_type": "code",
   "execution_count": 110,
   "id": "LB43n07ir1Bp",
   "metadata": {
    "colab": {
     "base_uri": "https://localhost:8080/"
    },
    "id": "LB43n07ir1Bp",
    "outputId": "1072f3f3-03b4-430a-fd88-ebcaf17442ee"
   },
   "outputs": [
    {
     "data": {
      "text/plain": [
       "<p>Ni urugendo uyu munyamideri ukomoka muri Australia azamaramo iminsi ari mu Rwanda ndetse akaba anifuza kwizihiriza umunsi mukuru we w’amavuko mu rw’imisozi igihumbi.</p>"
      ]
     },
     "execution_count": 110,
     "metadata": {},
     "output_type": "execute_result"
    }
   ],
   "source": [
    "BeautifulSoup(str(raw_content.find_all('div', class_=\"fulltext margintop10\"))).find_all('p')[1]"
   ]
  },
  {
   "cell_type": "code",
   "execution_count": 88,
   "id": "gV6Akgg8rpA4",
   "metadata": {
    "colab": {
     "base_uri": "https://localhost:8080/",
     "height": 140
    },
    "id": "gV6Akgg8rpA4",
    "outputId": "48b35469-4327-49b0-bf6b-bec769328590"
   },
   "outputs": [
    {
     "data": {
      "application/vnd.google.colaboratory.intrinsic+json": {
       "type": "string"
      },
      "text/plain": [
       "'[<p><p>Umunyamideri Briana Jai wamenyekanye mu minsi ishize ubwo yari acuditse n’umuhanzi Harmonize uri mu bafite izina rikomeye muri Afurika y’Iburasirazuba ategerejwe mu Rwanda.</p></p>, <p>Umunyamideri Briana Jai wamenyekanye mu minsi ishize ubwo yari acuditse n’umuhanzi Harmonize uri mu bafite izina rikomeye muri Afurika y’Iburasirazuba ategerejwe mu Rwanda.</p>, <p>Ni urugendo uyu munyamideri ukomoka muri Australia azamaramo iminsi ari mu Rwanda ndetse akaba anifuza kwizihiriza umunsi mukuru we w’amavuko mu rw’imisozi igihumbi.</p>, <p>Briana agiye gukorera uru rugendo mu Rwanda bitewe n’inshuti ye magara yitwa Nadia nayo ituye muri Australia ariko ikaba amaze iminsi mu gihugu.</p>, <p>Mu kiganiro na IGIHE, Nadia, inshuti ya hafi ya Briana yavuze ko uyu mukobwa usanzwe azamara ibiruhuko bye mu Rwanda.</p>, <p>Ati “Briana agiye kuza mu Rwanda mu gihe byibuza cy’amezi abiri, aje mu biruhuko ndetse ni naho azizihiriza umunsi mukuru we w’amavuko. Uretse ibyo azaba ari no kwiga Igihugu ku buryo bikunze yanahashora amafaranga kuko ubwo twavuganaga twatekerezaga n’uko twakwimukira inaha.”</p>, <p>Nadia yavuze ko uretse kuruhukira mu Rwanda no kureba aho yashora imari, binashoboka ko bahagira mu rugo ha kabiri.</p>, <p>Ati “Njye namaze gushima inaha ni heza, na Briana namusabye ko yaza akahareba, nahashima nawe nawe hari imishinga twavuganye dushobora kuhakorera.\"</p>, <p>Uretse ibi ariko byitezwe ko hari ibikorwa by’imyidagaduro azagaragaramo, birimo kuhafatira amashusho y’indirimbo, n’igikorwa kizahuza ibyamamare mu Rwanda.</p>, <p>Briana utegerejwe i Kigali yari amaze igihe acuditse na Harmonize, umwe mu bahanzi bakomeye mu Karere ka Afurika y’Iburasirazuba. Inkuru z’aba bombi zari zimaze igihe zica ibintu mu itangazamakuru ariko amakuru aheruka avuga ko batandukanye nubwo icyo bapfuye kitagarutsweho cyane.</p>, <p>Witandukira kubijyanye n\\'iyi nkuru; wikwandika ibisebanya, ibyamamaza cyangwa bivangura; wikwandika ibiteye isoni, Wifuza kubona byihuse ibivugwa/ibisubizo ku gitekerezo cyawe, andika email yawe ahabugenewe. Ibi bidakurikijwe igitekerezo cyanyu gishobora kutagaragara hano cyangwa kigasibwa. </p>, <p>Igitekerezo cyawe kigaragara nyuma y\\'isuzuma rikorwa na IGIHE.com , Murakoze!</p>, <p>\\nMarketing : 0788 89 59 53<br/>\\nEditor : 0788 27 26 21<br/>\\nManagement : 0788 74 29 08<br/>\\nEmails : <a class=\"__cf_email__\" data-cfemail=\"c9a0a7afa689a0aea0a1ace7aaa6a4\" href=\"/web/20220503205944/https://igihe.com/cdn-cgi/l/email-protection\">[email\\xa0protected]</a> / <a class=\"__cf_email__\" data-cfemail=\"bed3dfccd5dbcad7d0d9fed7d9d7d6db90ddd1d3\" href=\"/web/20220503205944/https://igihe.com/cdn-cgi/l/email-protection\">[email\\xa0protected]</a><br/>\\n</p>]'"
      ]
     },
     "execution_count": 88,
     "metadata": {},
     "output_type": "execute_result"
    }
   ],
   "source": [
    "str(raw_content)"
   ]
  },
  {
   "cell_type": "code",
   "execution_count": null,
   "id": "Oj_Rvlhqo2fE",
   "metadata": {
    "id": "Oj_Rvlhqo2fE"
   },
   "outputs": [],
   "source": [
    "def get_article_text(link):\n",
    "  content = requests.get(link).content\n",
    "  raw_content = BeautifulSoup(content, 'html.parser').find_all('div', class_='fulltext').children()\n",
    "  tex\n"
   ]
  }
 ],
 "metadata": {
  "colab": {
   "provenance": []
  },
  "kernelspec": {
   "display_name": "Python 3 (ipykernel)",
   "language": "python",
   "name": "python3"
  },
  "language_info": {
   "codemirror_mode": {
    "name": "ipython",
    "version": 3
   },
   "file_extension": ".py",
   "mimetype": "text/x-python",
   "name": "python",
   "nbconvert_exporter": "python",
   "pygments_lexer": "ipython3",
   "version": "3.9.12"
  }
 },
 "nbformat": 4,
 "nbformat_minor": 5
}

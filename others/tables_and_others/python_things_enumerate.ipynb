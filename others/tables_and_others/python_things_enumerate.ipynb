{
 "cells": [
  {
   "cell_type": "markdown",
   "id": "b6434d7d",
   "metadata": {},
   "source": [
    "# What does enumerate do in Python?\n",
    "\n",
    "The enumerate function in Python converts a data collection object into an enumerate object. Enumerate returns an object that contains a counter as a key for each value within an object, making items within the collection easier to access.\n",
    "\n",
    "Looping through objects is useful but we often need the means to track loops, and the items accessed within that iteration of the loop. Enumerate helps with this need by assigning a counter to each item in the object, allowing us to track the accessed items.\n",
    "\n",
    "This also makes it easier to manipulate our data collections where such a thing is possible. Not all data collection objects in Python are mutable, sets are a great example of this.\n",
    "\n",
    "# How does enumerate work in Python?\n",
    "\n",
    "Enumerate functions much like a for loop, it loops over a collection of data once for each item in it. The primary difference is that enumerate also automatically modifies the data it is fed, essentially turning each item into a key-value pair. As the function iterates over the object, each item is paired with a number that corresponds to the number of times the loop has run including the current loop.\n",
    "\n",
    "The enumerate function accepts two parameters: the required iterable object, and the optional starting number. The starting number parameter accepts an integer and designates what number the function should start counting at. Given that it is optional, the default starting number is always zero, much like the indexing of arrays.\n",
    "\n",
    "Let’s look at some examples of this, and see how the input is changed by examining the output."
   ]
  },
  {
   "cell_type": "markdown",
   "id": "3c890d70",
   "metadata": {},
   "source": [
    "Often, when dealing with iterators, we also get need to keep a count of iterations. Python eases the programmers’ task by providing a built-in function enumerate() for this task. Enumerate() method adds a counter to an iterable and returns it in a form of enumerating object. This enumerated object can then be used directly for loops or converted into a list of tuples using the list() method."
   ]
  },
  {
   "cell_type": "code",
   "execution_count": 1,
   "id": "11767e57",
   "metadata": {},
   "outputs": [
    {
     "name": "stdout",
     "output_type": "stream",
     "text": [
      "Return type: <class 'enumerate'>\n",
      "[(0, 'eat'), (1, 'sleep'), (2, 'repeat')]\n",
      "[(2, 'g'), (3, 'e'), (4, 'e'), (5, 'k')]\n"
     ]
    }
   ],
   "source": [
    "# Syntax: \n",
    "\n",
    "# enumerate(iterable, start=0)\n",
    "\n",
    "# Parameters:\n",
    "\n",
    "#     Iterable: any object that supports iteration\n",
    "#     Start: the index value from which the counter is to be started, by default it is 0\n",
    "\n",
    "# Python program to illustrate\n",
    "# enumerate function\n",
    "l1 = [\"eat\", \"sleep\", \"repeat\"]\n",
    "s1 = \"geek\"\n",
    "  \n",
    "# creating enumerate objects\n",
    "obj1 = enumerate(l1)\n",
    "obj2 = enumerate(s1)\n",
    "  \n",
    "print (\"Return type:\", type(obj1))\n",
    "print (list(enumerate(l1)))\n",
    "  \n",
    "# changing start index to 2 from 0\n",
    "print (list(enumerate(s1, 2)))"
   ]
  },
  {
   "cell_type": "code",
   "execution_count": 5,
   "id": "44ec2f1a",
   "metadata": {},
   "outputs": [
    {
     "name": "stdout",
     "output_type": "stream",
     "text": [
      "Collecting jupyter_contrib_nbextensions\n",
      "  Downloading jupyter_contrib_nbextensions-0.5.1-py2.py3-none-any.whl (20.9 MB)\n",
      "Requirement already satisfied: ipython-genutils in c:\\users\\vugatri\\anaconda3\\lib\\site-packages (from jupyter_contrib_nbextensions) (0.2.0)\n",
      "Collecting jupyter-contrib-core>=0.3.3\n",
      "  Downloading jupyter_contrib_core-0.4.0-py2.py3-none-any.whl (17 kB)\n",
      "Collecting jupyter-highlight-selected-word>=0.1.1\n",
      "  Downloading jupyter_highlight_selected_word-0.2.0-py2.py3-none-any.whl (11 kB)\n",
      "Requirement already satisfied: traitlets>=4.1 in c:\\users\\vugatri\\anaconda3\\lib\\site-packages (from jupyter_contrib_nbextensions) (5.1.1)\n",
      "Requirement already satisfied: lxml in c:\\users\\vugatri\\anaconda3\\lib\\site-packages (from jupyter_contrib_nbextensions) (4.8.0)\n",
      "Requirement already satisfied: nbconvert>=4.2 in c:\\users\\vugatri\\anaconda3\\lib\\site-packages (from jupyter_contrib_nbextensions) (6.4.4)\n",
      "Collecting jupyter-latex-envs>=1.3.8\n",
      "  Downloading jupyter_latex_envs-1.4.6.tar.gz (861 kB)\n",
      "Requirement already satisfied: jupyter-core in c:\\users\\vugatri\\anaconda3\\lib\\site-packages (from jupyter_contrib_nbextensions) (4.9.2)\n",
      "Collecting jupyter-nbextensions-configurator>=0.4.0\n",
      "  Downloading jupyter_nbextensions_configurator-0.5.0-py2.py3-none-any.whl (467 kB)\n",
      "Requirement already satisfied: notebook>=4.0 in c:\\users\\vugatri\\anaconda3\\lib\\site-packages (from jupyter_contrib_nbextensions) (6.4.8)\n",
      "Requirement already satisfied: tornado in c:\\users\\vugatri\\anaconda3\\lib\\site-packages (from jupyter_contrib_nbextensions) (6.1)\n",
      "Requirement already satisfied: pyyaml in c:\\users\\vugatri\\anaconda3\\lib\\site-packages (from jupyter_contrib_nbextensions) (6.0)\n",
      "Requirement already satisfied: setuptools in c:\\users\\vugatri\\anaconda3\\lib\\site-packages (from jupyter-contrib-core>=0.3.3->jupyter_contrib_nbextensions) (61.2.0)\n",
      "Requirement already satisfied: ipython in c:\\users\\vugatri\\anaconda3\\lib\\site-packages (from jupyter-latex-envs>=1.3.8->jupyter_contrib_nbextensions) (8.2.0)\n",
      "Requirement already satisfied: nbformat>=4.4 in c:\\users\\vugatri\\anaconda3\\lib\\site-packages (from nbconvert>=4.2->jupyter_contrib_nbextensions) (5.3.0)\n",
      "Requirement already satisfied: testpath in c:\\users\\vugatri\\anaconda3\\lib\\site-packages (from nbconvert>=4.2->jupyter_contrib_nbextensions) (0.5.0)\n",
      "Requirement already satisfied: mistune<2,>=0.8.1 in c:\\users\\vugatri\\anaconda3\\lib\\site-packages (from nbconvert>=4.2->jupyter_contrib_nbextensions) (0.8.4)\n",
      "Requirement already satisfied: defusedxml in c:\\users\\vugatri\\anaconda3\\lib\\site-packages (from nbconvert>=4.2->jupyter_contrib_nbextensions) (0.7.1)\n",
      "Requirement already satisfied: beautifulsoup4 in c:\\users\\vugatri\\anaconda3\\lib\\site-packages (from nbconvert>=4.2->jupyter_contrib_nbextensions) (4.11.1)\n",
      "Requirement already satisfied: jinja2>=2.4 in c:\\users\\vugatri\\anaconda3\\lib\\site-packages (from nbconvert>=4.2->jupyter_contrib_nbextensions) (2.11.3)\n",
      "Requirement already satisfied: bleach in c:\\users\\vugatri\\anaconda3\\lib\\site-packages (from nbconvert>=4.2->jupyter_contrib_nbextensions) (4.1.0)\n",
      "Requirement already satisfied: jupyterlab-pygments in c:\\users\\vugatri\\anaconda3\\lib\\site-packages (from nbconvert>=4.2->jupyter_contrib_nbextensions) (0.1.2)\n",
      "Requirement already satisfied: entrypoints>=0.2.2 in c:\\users\\vugatri\\anaconda3\\lib\\site-packages (from nbconvert>=4.2->jupyter_contrib_nbextensions) (0.4)\n",
      "Requirement already satisfied: nbclient<0.6.0,>=0.5.0 in c:\\users\\vugatri\\anaconda3\\lib\\site-packages (from nbconvert>=4.2->jupyter_contrib_nbextensions) (0.5.13)\n",
      "Requirement already satisfied: pygments>=2.4.1 in c:\\users\\vugatri\\anaconda3\\lib\\site-packages (from nbconvert>=4.2->jupyter_contrib_nbextensions) (2.11.2)\n",
      "Requirement already satisfied: pandocfilters>=1.4.1 in c:\\users\\vugatri\\anaconda3\\lib\\site-packages (from nbconvert>=4.2->jupyter_contrib_nbextensions) (1.5.0)\n",
      "Requirement already satisfied: MarkupSafe>=0.23 in c:\\users\\vugatri\\anaconda3\\lib\\site-packages (from jinja2>=2.4->nbconvert>=4.2->jupyter_contrib_nbextensions) (2.0.1)\n",
      "Requirement already satisfied: nest-asyncio in c:\\users\\vugatri\\anaconda3\\lib\\site-packages (from nbclient<0.6.0,>=0.5.0->nbconvert>=4.2->jupyter_contrib_nbextensions) (1.5.5)\n",
      "Requirement already satisfied: jupyter-client>=6.1.5 in c:\\users\\vugatri\\anaconda3\\lib\\site-packages (from nbclient<0.6.0,>=0.5.0->nbconvert>=4.2->jupyter_contrib_nbextensions) (6.1.12)\n",
      "Requirement already satisfied: pyzmq>=13 in c:\\users\\vugatri\\anaconda3\\lib\\site-packages (from jupyter-client>=6.1.5->nbclient<0.6.0,>=0.5.0->nbconvert>=4.2->jupyter_contrib_nbextensions) (22.3.0)\n",
      "Requirement already satisfied: python-dateutil>=2.1 in c:\\users\\vugatri\\anaconda3\\lib\\site-packages (from jupyter-client>=6.1.5->nbclient<0.6.0,>=0.5.0->nbconvert>=4.2->jupyter_contrib_nbextensions) (2.8.2)\n",
      "Requirement already satisfied: pywin32>=1.0 in c:\\users\\vugatri\\anaconda3\\lib\\site-packages (from jupyter-core->jupyter_contrib_nbextensions) (302)\n",
      "Requirement already satisfied: jsonschema>=2.6 in c:\\users\\vugatri\\anaconda3\\lib\\site-packages (from nbformat>=4.4->nbconvert>=4.2->jupyter_contrib_nbextensions) (4.4.0)\n",
      "Requirement already satisfied: fastjsonschema in c:\\users\\vugatri\\anaconda3\\lib\\site-packages (from nbformat>=4.4->nbconvert>=4.2->jupyter_contrib_nbextensions) (2.15.1)\n",
      "Requirement already satisfied: pyrsistent!=0.17.0,!=0.17.1,!=0.17.2,>=0.14.0 in c:\\users\\vugatri\\anaconda3\\lib\\site-packages (from jsonschema>=2.6->nbformat>=4.4->nbconvert>=4.2->jupyter_contrib_nbextensions) (0.18.0)\n",
      "Requirement already satisfied: attrs>=17.4.0 in c:\\users\\vugatri\\anaconda3\\lib\\site-packages (from jsonschema>=2.6->nbformat>=4.4->nbconvert>=4.2->jupyter_contrib_nbextensions) (21.4.0)\n",
      "Requirement already satisfied: prometheus-client in c:\\users\\vugatri\\anaconda3\\lib\\site-packages (from notebook>=4.0->jupyter_contrib_nbextensions) (0.13.1)\n",
      "Requirement already satisfied: ipykernel in c:\\users\\vugatri\\anaconda3\\lib\\site-packages (from notebook>=4.0->jupyter_contrib_nbextensions) (6.9.1)\n",
      "Requirement already satisfied: Send2Trash>=1.8.0 in c:\\users\\vugatri\\anaconda3\\lib\\site-packages (from notebook>=4.0->jupyter_contrib_nbextensions) (1.8.0)\n",
      "Requirement already satisfied: argon2-cffi in c:\\users\\vugatri\\anaconda3\\lib\\site-packages (from notebook>=4.0->jupyter_contrib_nbextensions) (21.3.0)\n",
      "Requirement already satisfied: terminado>=0.8.3 in c:\\users\\vugatri\\anaconda3\\lib\\site-packages (from notebook>=4.0->jupyter_contrib_nbextensions) (0.13.1)\n",
      "Requirement already satisfied: six>=1.5 in c:\\users\\vugatri\\anaconda3\\lib\\site-packages (from python-dateutil>=2.1->jupyter-client>=6.1.5->nbclient<0.6.0,>=0.5.0->nbconvert>=4.2->jupyter_contrib_nbextensions) (1.16.0)\n",
      "Requirement already satisfied: pywinpty>=1.1.0 in c:\\users\\vugatri\\anaconda3\\lib\\site-packages (from terminado>=0.8.3->notebook>=4.0->jupyter_contrib_nbextensions) (2.0.2)\n",
      "Requirement already satisfied: argon2-cffi-bindings in c:\\users\\vugatri\\anaconda3\\lib\\site-packages (from argon2-cffi->notebook>=4.0->jupyter_contrib_nbextensions) (21.2.0)\n",
      "Requirement already satisfied: cffi>=1.0.1 in c:\\users\\vugatri\\anaconda3\\lib\\site-packages (from argon2-cffi-bindings->argon2-cffi->notebook>=4.0->jupyter_contrib_nbextensions) (1.15.0)\n",
      "Requirement already satisfied: pycparser in c:\\users\\vugatri\\anaconda3\\lib\\site-packages (from cffi>=1.0.1->argon2-cffi-bindings->argon2-cffi->notebook>=4.0->jupyter_contrib_nbextensions) (2.21)\n",
      "Requirement already satisfied: soupsieve>1.2 in c:\\users\\vugatri\\anaconda3\\lib\\site-packages (from beautifulsoup4->nbconvert>=4.2->jupyter_contrib_nbextensions) (2.3.1)\n",
      "Requirement already satisfied: packaging in c:\\users\\vugatri\\anaconda3\\lib\\site-packages (from bleach->nbconvert>=4.2->jupyter_contrib_nbextensions) (21.3)\n",
      "Requirement already satisfied: webencodings in c:\\users\\vugatri\\anaconda3\\lib\\site-packages (from bleach->nbconvert>=4.2->jupyter_contrib_nbextensions) (0.5.1)\n",
      "Requirement already satisfied: matplotlib-inline<0.2.0,>=0.1.0 in c:\\users\\vugatri\\anaconda3\\lib\\site-packages (from ipykernel->notebook>=4.0->jupyter_contrib_nbextensions) (0.1.2)\n",
      "Requirement already satisfied: debugpy<2.0,>=1.0.0 in c:\\users\\vugatri\\anaconda3\\lib\\site-packages (from ipykernel->notebook>=4.0->jupyter_contrib_nbextensions) (1.5.1)\n",
      "Requirement already satisfied: backcall in c:\\users\\vugatri\\anaconda3\\lib\\site-packages (from ipython->jupyter-latex-envs>=1.3.8->jupyter_contrib_nbextensions) (0.2.0)\n"
     ]
    },
    {
     "name": "stdout",
     "output_type": "stream",
     "text": [
      "Requirement already satisfied: pickleshare in c:\\users\\vugatri\\anaconda3\\lib\\site-packages (from ipython->jupyter-latex-envs>=1.3.8->jupyter_contrib_nbextensions) (0.7.5)\n",
      "Requirement already satisfied: colorama in c:\\users\\vugatri\\anaconda3\\lib\\site-packages (from ipython->jupyter-latex-envs>=1.3.8->jupyter_contrib_nbextensions) (0.4.4)\n",
      "Requirement already satisfied: jedi>=0.16 in c:\\users\\vugatri\\anaconda3\\lib\\site-packages (from ipython->jupyter-latex-envs>=1.3.8->jupyter_contrib_nbextensions) (0.18.1)\n",
      "Requirement already satisfied: stack-data in c:\\users\\vugatri\\anaconda3\\lib\\site-packages (from ipython->jupyter-latex-envs>=1.3.8->jupyter_contrib_nbextensions) (0.2.0)\n",
      "Requirement already satisfied: prompt-toolkit!=3.0.0,!=3.0.1,<3.1.0,>=2.0.0 in c:\\users\\vugatri\\anaconda3\\lib\\site-packages (from ipython->jupyter-latex-envs>=1.3.8->jupyter_contrib_nbextensions) (3.0.20)\n",
      "Requirement already satisfied: decorator in c:\\users\\vugatri\\anaconda3\\lib\\site-packages (from ipython->jupyter-latex-envs>=1.3.8->jupyter_contrib_nbextensions) (5.1.1)\n",
      "Requirement already satisfied: parso<0.9.0,>=0.8.0 in c:\\users\\vugatri\\anaconda3\\lib\\site-packages (from jedi>=0.16->ipython->jupyter-latex-envs>=1.3.8->jupyter_contrib_nbextensions) (0.8.3)\n",
      "Requirement already satisfied: wcwidth in c:\\users\\vugatri\\anaconda3\\lib\\site-packages (from prompt-toolkit!=3.0.0,!=3.0.1,<3.1.0,>=2.0.0->ipython->jupyter-latex-envs>=1.3.8->jupyter_contrib_nbextensions) (0.2.5)\n",
      "Requirement already satisfied: pyparsing!=3.0.5,>=2.0.2 in c:\\users\\vugatri\\anaconda3\\lib\\site-packages (from packaging->bleach->nbconvert>=4.2->jupyter_contrib_nbextensions) (3.0.4)\n",
      "Requirement already satisfied: executing in c:\\users\\vugatri\\anaconda3\\lib\\site-packages (from stack-data->ipython->jupyter-latex-envs>=1.3.8->jupyter_contrib_nbextensions) (0.8.3)\n",
      "Requirement already satisfied: pure-eval in c:\\users\\vugatri\\anaconda3\\lib\\site-packages (from stack-data->ipython->jupyter-latex-envs>=1.3.8->jupyter_contrib_nbextensions) (0.2.2)\n",
      "Requirement already satisfied: asttokens in c:\\users\\vugatri\\anaconda3\\lib\\site-packages (from stack-data->ipython->jupyter-latex-envs>=1.3.8->jupyter_contrib_nbextensions) (2.0.5)\n",
      "Building wheels for collected packages: jupyter-latex-envs\n",
      "  Building wheel for jupyter-latex-envs (setup.py): started\n",
      "  Building wheel for jupyter-latex-envs (setup.py): finished with status 'done'\n",
      "  Created wheel for jupyter-latex-envs: filename=jupyter_latex_envs-1.4.6-py2.py3-none-any.whl size=963413 sha256=e3f02cfcc6bab126915e193ffec91a784f5cb0f6d4d11e904a315105b0628b63\n",
      "  Stored in directory: c:\\users\\vugatri\\appdata\\local\\pip\\cache\\wheels\\f7\\b5\\78\\f5b899dd8fc137fe0bfe26b382713f6d171c9eac2fb1fa091f\n",
      "Successfully built jupyter-latex-envs\n",
      "Installing collected packages: jupyter-contrib-core, jupyter-nbextensions-configurator, jupyter-latex-envs, jupyter-highlight-selected-word, jupyter-contrib-nbextensions\n",
      "Successfully installed jupyter-contrib-core-0.4.0 jupyter-contrib-nbextensions-0.5.1 jupyter-highlight-selected-word-0.2.0 jupyter-latex-envs-1.4.6 jupyter-nbextensions-configurator-0.5.0\n"
     ]
    }
   ],
   "source": [
    "!pip install jupyter_contrib_nbextensions"
   ]
  },
  {
   "cell_type": "code",
   "execution_count": 7,
   "id": "4fdce8b9",
   "metadata": {},
   "outputs": [
    {
     "name": "stderr",
     "output_type": "stream",
     "text": [
      "[I 03:04:38 InstallContribNbextensionsApp] jupyter contrib nbextension install --user\n",
      "[I 03:04:38 InstallContribNbextensionsApp] Installing jupyter_contrib_nbextensions nbextension files to jupyter data directory\n",
      "[I 03:04:39 InstallContribNbextensionsApp] Installing C:\\Users\\Vugatri\\Anaconda3\\lib\\site-packages\\jupyter_contrib_nbextensions\\nbextensions\\addbefore -> addbefore\n",
      "[I 03:04:39 InstallContribNbextensionsApp] Up to date: C:\\Users\\Vugatri\\AppData\\Roaming\\jupyter\\nbextensions\\addbefore\\addbefore.yaml\n",
      "[I 03:04:39 InstallContribNbextensionsApp] Up to date: C:\\Users\\Vugatri\\AppData\\Roaming\\jupyter\\nbextensions\\addbefore\\icon.png\n",
      "[I 03:04:39 InstallContribNbextensionsApp] Up to date: C:\\Users\\Vugatri\\AppData\\Roaming\\jupyter\\nbextensions\\addbefore\\main.js\n",
      "[I 03:04:39 InstallContribNbextensionsApp] Up to date: C:\\Users\\Vugatri\\AppData\\Roaming\\jupyter\\nbextensions\\addbefore\\readme.md\n",
      "[I 03:04:39 InstallContribNbextensionsApp] - Validating: ok\n",
      "[I 03:04:39 InstallContribNbextensionsApp] Installing C:\\Users\\Vugatri\\Anaconda3\\lib\\site-packages\\jupyter_contrib_nbextensions\\nbextensions\\autosavetime -> autosavetime\n",
      "[I 03:04:39 InstallContribNbextensionsApp] Up to date: C:\\Users\\Vugatri\\AppData\\Roaming\\jupyter\\nbextensions\\autosavetime\\autosavetime.yaml\n",
      "[I 03:04:39 InstallContribNbextensionsApp] Up to date: C:\\Users\\Vugatri\\AppData\\Roaming\\jupyter\\nbextensions\\autosavetime\\icon.png\n",
      "[I 03:04:39 InstallContribNbextensionsApp] Up to date: C:\\Users\\Vugatri\\AppData\\Roaming\\jupyter\\nbextensions\\autosavetime\\main.js\n",
      "[I 03:04:39 InstallContribNbextensionsApp] Up to date: C:\\Users\\Vugatri\\AppData\\Roaming\\jupyter\\nbextensions\\autosavetime\\README.md\n",
      "[I 03:04:39 InstallContribNbextensionsApp] - Validating: ok\n",
      "[I 03:04:39 InstallContribNbextensionsApp] Installing C:\\Users\\Vugatri\\Anaconda3\\lib\\site-packages\\jupyter_contrib_nbextensions\\nbextensions\\autoscroll -> autoscroll\n",
      "[I 03:04:39 InstallContribNbextensionsApp] Up to date: C:\\Users\\Vugatri\\AppData\\Roaming\\jupyter\\nbextensions\\autoscroll\\autoscroll.yaml\n",
      "[I 03:04:39 InstallContribNbextensionsApp] Up to date: C:\\Users\\Vugatri\\AppData\\Roaming\\jupyter\\nbextensions\\autoscroll\\icon.png\n",
      "[I 03:04:39 InstallContribNbextensionsApp] Up to date: C:\\Users\\Vugatri\\AppData\\Roaming\\jupyter\\nbextensions\\autoscroll\\main.js\n",
      "[I 03:04:39 InstallContribNbextensionsApp] Up to date: C:\\Users\\Vugatri\\AppData\\Roaming\\jupyter\\nbextensions\\autoscroll\\README.md\n",
      "[I 03:04:39 InstallContribNbextensionsApp] - Validating: ok\n",
      "[I 03:04:39 InstallContribNbextensionsApp] Installing C:\\Users\\Vugatri\\Anaconda3\\lib\\site-packages\\jupyter_contrib_nbextensions\\nbextensions\\cell_filter -> cell_filter\n",
      "[I 03:04:39 InstallContribNbextensionsApp] Up to date: C:\\Users\\Vugatri\\AppData\\Roaming\\jupyter\\nbextensions\\cell_filter\\cell_filter.js\n",
      "[I 03:04:39 InstallContribNbextensionsApp] Up to date: C:\\Users\\Vugatri\\AppData\\Roaming\\jupyter\\nbextensions\\cell_filter\\cell_filter.yml\n",
      "[I 03:04:39 InstallContribNbextensionsApp] Up to date: C:\\Users\\Vugatri\\AppData\\Roaming\\jupyter\\nbextensions\\cell_filter\\README.md\n",
      "[I 03:04:39 InstallContribNbextensionsApp] - Validating: ok\n",
      "[I 03:04:39 InstallContribNbextensionsApp] Installing C:\\Users\\Vugatri\\Anaconda3\\lib\\site-packages\\jupyter_contrib_nbextensions\\nbextensions\\codefolding -> codefolding\n",
      "[I 03:04:39 InstallContribNbextensionsApp] Up to date: C:\\Users\\Vugatri\\AppData\\Roaming\\jupyter\\nbextensions\\codefolding\\codefolding.yaml\n",
      "[I 03:04:39 InstallContribNbextensionsApp] Up to date: C:\\Users\\Vugatri\\AppData\\Roaming\\jupyter\\nbextensions\\codefolding\\codefolding_editor.png\n",
      "[I 03:04:39 InstallContribNbextensionsApp] Up to date: C:\\Users\\Vugatri\\AppData\\Roaming\\jupyter\\nbextensions\\codefolding\\codefolding_editor.yaml\n",
      "[I 03:04:39 InstallContribNbextensionsApp] Up to date: C:\\Users\\Vugatri\\AppData\\Roaming\\jupyter\\nbextensions\\codefolding\\codefolding_firstline_folded.png\n",
      "[I 03:04:39 InstallContribNbextensionsApp] Up to date: C:\\Users\\Vugatri\\AppData\\Roaming\\jupyter\\nbextensions\\codefolding\\codefolding_firstline_unfolded.png\n",
      "[I 03:04:39 InstallContribNbextensionsApp] Up to date: C:\\Users\\Vugatri\\AppData\\Roaming\\jupyter\\nbextensions\\codefolding\\codefolding_indent_folded_1.png\n",
      "[I 03:04:39 InstallContribNbextensionsApp] Up to date: C:\\Users\\Vugatri\\AppData\\Roaming\\jupyter\\nbextensions\\codefolding\\codefolding_indent_folded_2.png\n",
      "[I 03:04:39 InstallContribNbextensionsApp] Up to date: C:\\Users\\Vugatri\\AppData\\Roaming\\jupyter\\nbextensions\\codefolding\\codefolding_indent_unfolded.png\n",
      "[I 03:04:39 InstallContribNbextensionsApp] Up to date: C:\\Users\\Vugatri\\AppData\\Roaming\\jupyter\\nbextensions\\codefolding\\edit.js\n",
      "[I 03:04:39 InstallContribNbextensionsApp] Up to date: C:\\Users\\Vugatri\\AppData\\Roaming\\jupyter\\nbextensions\\codefolding\\firstline-fold.js\n",
      "[I 03:04:39 InstallContribNbextensionsApp] Up to date: C:\\Users\\Vugatri\\AppData\\Roaming\\jupyter\\nbextensions\\codefolding\\foldgutter.css\n",
      "[I 03:04:39 InstallContribNbextensionsApp] Up to date: C:\\Users\\Vugatri\\AppData\\Roaming\\jupyter\\nbextensions\\codefolding\\icon.png\n",
      "[I 03:04:39 InstallContribNbextensionsApp] Up to date: C:\\Users\\Vugatri\\AppData\\Roaming\\jupyter\\nbextensions\\codefolding\\magic-fold.js\n",
      "[I 03:04:39 InstallContribNbextensionsApp] Up to date: C:\\Users\\Vugatri\\AppData\\Roaming\\jupyter\\nbextensions\\codefolding\\magic-folded.png\n",
      "[I 03:04:39 InstallContribNbextensionsApp] Up to date: C:\\Users\\Vugatri\\AppData\\Roaming\\jupyter\\nbextensions\\codefolding\\magic-unfolded.png\n",
      "[I 03:04:39 InstallContribNbextensionsApp] Up to date: C:\\Users\\Vugatri\\AppData\\Roaming\\jupyter\\nbextensions\\codefolding\\main.js\n",
      "[I 03:04:39 InstallContribNbextensionsApp] Up to date: C:\\Users\\Vugatri\\AppData\\Roaming\\jupyter\\nbextensions\\codefolding\\readme.md\n",
      "[I 03:04:39 InstallContribNbextensionsApp] - Validating: ok\n",
      "[I 03:04:39 InstallContribNbextensionsApp] Installing C:\\Users\\Vugatri\\Anaconda3\\lib\\site-packages\\jupyter_contrib_nbextensions\\nbextensions\\codefolding -> codefolding\n",
      "[I 03:04:39 InstallContribNbextensionsApp] Up to date: C:\\Users\\Vugatri\\AppData\\Roaming\\jupyter\\nbextensions\\codefolding\\codefolding.yaml\n",
      "[I 03:04:39 InstallContribNbextensionsApp] Up to date: C:\\Users\\Vugatri\\AppData\\Roaming\\jupyter\\nbextensions\\codefolding\\codefolding_editor.png\n",
      "[I 03:04:39 InstallContribNbextensionsApp] Up to date: C:\\Users\\Vugatri\\AppData\\Roaming\\jupyter\\nbextensions\\codefolding\\codefolding_editor.yaml\n",
      "[I 03:04:39 InstallContribNbextensionsApp] Up to date: C:\\Users\\Vugatri\\AppData\\Roaming\\jupyter\\nbextensions\\codefolding\\codefolding_firstline_folded.png\n",
      "[I 03:04:39 InstallContribNbextensionsApp] Up to date: C:\\Users\\Vugatri\\AppData\\Roaming\\jupyter\\nbextensions\\codefolding\\codefolding_firstline_unfolded.png\n",
      "[I 03:04:39 InstallContribNbextensionsApp] Up to date: C:\\Users\\Vugatri\\AppData\\Roaming\\jupyter\\nbextensions\\codefolding\\codefolding_indent_folded_1.png\n",
      "[I 03:04:39 InstallContribNbextensionsApp] Up to date: C:\\Users\\Vugatri\\AppData\\Roaming\\jupyter\\nbextensions\\codefolding\\codefolding_indent_folded_2.png\n",
      "[I 03:04:39 InstallContribNbextensionsApp] Up to date: C:\\Users\\Vugatri\\AppData\\Roaming\\jupyter\\nbextensions\\codefolding\\codefolding_indent_unfolded.png\n",
      "[I 03:04:39 InstallContribNbextensionsApp] Up to date: C:\\Users\\Vugatri\\AppData\\Roaming\\jupyter\\nbextensions\\codefolding\\edit.js\n",
      "[I 03:04:39 InstallContribNbextensionsApp] Up to date: C:\\Users\\Vugatri\\AppData\\Roaming\\jupyter\\nbextensions\\codefolding\\firstline-fold.js\n",
      "[I 03:04:39 InstallContribNbextensionsApp] Up to date: C:\\Users\\Vugatri\\AppData\\Roaming\\jupyter\\nbextensions\\codefolding\\foldgutter.css\n",
      "[I 03:04:39 InstallContribNbextensionsApp] Up to date: C:\\Users\\Vugatri\\AppData\\Roaming\\jupyter\\nbextensions\\codefolding\\icon.png\n",
      "[I 03:04:39 InstallContribNbextensionsApp] Up to date: C:\\Users\\Vugatri\\AppData\\Roaming\\jupyter\\nbextensions\\codefolding\\magic-fold.js\n",
      "[I 03:04:39 InstallContribNbextensionsApp] Up to date: C:\\Users\\Vugatri\\AppData\\Roaming\\jupyter\\nbextensions\\codefolding\\magic-folded.png\n",
      "[I 03:04:39 InstallContribNbextensionsApp] Up to date: C:\\Users\\Vugatri\\AppData\\Roaming\\jupyter\\nbextensions\\codefolding\\magic-unfolded.png\n",
      "[I 03:04:39 InstallContribNbextensionsApp] Up to date: C:\\Users\\Vugatri\\AppData\\Roaming\\jupyter\\nbextensions\\codefolding\\main.js\n",
      "[I 03:04:39 InstallContribNbextensionsApp] Up to date: C:\\Users\\Vugatri\\AppData\\Roaming\\jupyter\\nbextensions\\codefolding\\readme.md\n",
      "[I 03:04:39 InstallContribNbextensionsApp] - Validating: ok\n",
      "[I 03:04:39 InstallContribNbextensionsApp] Installing C:\\Users\\Vugatri\\Anaconda3\\lib\\site-packages\\jupyter_contrib_nbextensions\\nbextensions\\codemirror_mode_extensions -> codemirror_mode_extensions\n",
      "[I 03:04:39 InstallContribNbextensionsApp] Up to date: C:\\Users\\Vugatri\\AppData\\Roaming\\jupyter\\nbextensions\\codemirror_mode_extensions\\codemirror_mode_extensions.yaml\n",
      "[I 03:04:39 InstallContribNbextensionsApp] Up to date: C:\\Users\\Vugatri\\AppData\\Roaming\\jupyter\\nbextensions\\codemirror_mode_extensions\\main.js\n",
      "[I 03:04:39 InstallContribNbextensionsApp] - Validating: ok\n",
      "[I 03:04:39 InstallContribNbextensionsApp] Installing C:\\Users\\Vugatri\\Anaconda3\\lib\\site-packages\\jupyter_contrib_nbextensions\\nbextensions\\code_font_size -> code_font_size\n",
      "[I 03:04:39 InstallContribNbextensionsApp] Up to date: C:\\Users\\Vugatri\\AppData\\Roaming\\jupyter\\nbextensions\\code_font_size\\code_font_size.js\n",
      "[I 03:04:39 InstallContribNbextensionsApp] Up to date: C:\\Users\\Vugatri\\AppData\\Roaming\\jupyter\\nbextensions\\code_font_size\\code_font_size.yaml\n",
      "[I 03:04:39 InstallContribNbextensionsApp] Up to date: C:\\Users\\Vugatri\\AppData\\Roaming\\jupyter\\nbextensions\\code_font_size\\README.md\n",
      "[I 03:04:39 InstallContribNbextensionsApp] - Validating: ok\n",
      "[I 03:04:39 InstallContribNbextensionsApp] Installing C:\\Users\\Vugatri\\Anaconda3\\lib\\site-packages\\jupyter_contrib_nbextensions\\nbextensions\\code_prettify -> code_prettify\n",
      "[I 03:04:39 InstallContribNbextensionsApp] Up to date: C:\\Users\\Vugatri\\AppData\\Roaming\\jupyter\\nbextensions\\code_prettify\\2to3.js\n",
      "[I 03:04:39 InstallContribNbextensionsApp] Up to date: C:\\Users\\Vugatri\\AppData\\Roaming\\jupyter\\nbextensions\\code_prettify\\2to3.yaml\n",
      "[I 03:04:39 InstallContribNbextensionsApp] Up to date: C:\\Users\\Vugatri\\AppData\\Roaming\\jupyter\\nbextensions\\code_prettify\\autopep8.js\n",
      "[I 03:04:39 InstallContribNbextensionsApp] Up to date: C:\\Users\\Vugatri\\AppData\\Roaming\\jupyter\\nbextensions\\code_prettify\\autopep8.yaml\n",
      "[I 03:04:39 InstallContribNbextensionsApp] Up to date: C:\\Users\\Vugatri\\AppData\\Roaming\\jupyter\\nbextensions\\code_prettify\\code_prettify.js\n",
      "[I 03:04:39 InstallContribNbextensionsApp] Up to date: C:\\Users\\Vugatri\\AppData\\Roaming\\jupyter\\nbextensions\\code_prettify\\code_prettify.yaml\n",
      "[I 03:04:39 InstallContribNbextensionsApp] Up to date: C:\\Users\\Vugatri\\AppData\\Roaming\\jupyter\\nbextensions\\code_prettify\\demo-jv.gif\n",
      "[I 03:04:39 InstallContribNbextensionsApp] Up to date: C:\\Users\\Vugatri\\AppData\\Roaming\\jupyter\\nbextensions\\code_prettify\\demo-py.gif\n",
      "[I 03:04:39 InstallContribNbextensionsApp] Up to date: C:\\Users\\Vugatri\\AppData\\Roaming\\jupyter\\nbextensions\\code_prettify\\demo-R.gif\n",
      "[I 03:04:39 InstallContribNbextensionsApp] Up to date: C:\\Users\\Vugatri\\AppData\\Roaming\\jupyter\\nbextensions\\code_prettify\\demo_2to3.gif\n",
      "[I 03:04:39 InstallContribNbextensionsApp] Up to date: C:\\Users\\Vugatri\\AppData\\Roaming\\jupyter\\nbextensions\\code_prettify\\isort.js\n",
      "[I 03:04:39 InstallContribNbextensionsApp] Up to date: C:\\Users\\Vugatri\\AppData\\Roaming\\jupyter\\nbextensions\\code_prettify\\isort.yaml\n",
      "[I 03:04:39 InstallContribNbextensionsApp] Up to date: C:\\Users\\Vugatri\\AppData\\Roaming\\jupyter\\nbextensions\\code_prettify\\kernel_exec_on_cell.js\n",
      "[I 03:04:39 InstallContribNbextensionsApp] Up to date: C:\\Users\\Vugatri\\AppData\\Roaming\\jupyter\\nbextensions\\code_prettify\\README.md\n",
      "[I 03:04:39 InstallContribNbextensionsApp] Up to date: C:\\Users\\Vugatri\\AppData\\Roaming\\jupyter\\nbextensions\\code_prettify\\README_2to3.md\n",
      "[I 03:04:39 InstallContribNbextensionsApp] Up to date: C:\\Users\\Vugatri\\AppData\\Roaming\\jupyter\\nbextensions\\code_prettify\\README_autopep8.md\n",
      "[I 03:04:39 InstallContribNbextensionsApp] Up to date: C:\\Users\\Vugatri\\AppData\\Roaming\\jupyter\\nbextensions\\code_prettify\\README_code_prettify.md\n",
      "[I 03:04:39 InstallContribNbextensionsApp] Up to date: C:\\Users\\Vugatri\\AppData\\Roaming\\jupyter\\nbextensions\\code_prettify\\README_isort.md\n",
      "[I 03:04:39 InstallContribNbextensionsApp] - Validating: ok\n",
      "[I 03:04:39 InstallContribNbextensionsApp] Installing C:\\Users\\Vugatri\\Anaconda3\\lib\\site-packages\\jupyter_contrib_nbextensions\\nbextensions\\code_prettify -> code_prettify\n",
      "[I 03:04:39 InstallContribNbextensionsApp] Up to date: C:\\Users\\Vugatri\\AppData\\Roaming\\jupyter\\nbextensions\\code_prettify\\2to3.js\n",
      "[I 03:04:39 InstallContribNbextensionsApp] Up to date: C:\\Users\\Vugatri\\AppData\\Roaming\\jupyter\\nbextensions\\code_prettify\\2to3.yaml\n",
      "[I 03:04:39 InstallContribNbextensionsApp] Up to date: C:\\Users\\Vugatri\\AppData\\Roaming\\jupyter\\nbextensions\\code_prettify\\autopep8.js\n",
      "[I 03:04:39 InstallContribNbextensionsApp] Up to date: C:\\Users\\Vugatri\\AppData\\Roaming\\jupyter\\nbextensions\\code_prettify\\autopep8.yaml\n"
     ]
    },
    {
     "name": "stderr",
     "output_type": "stream",
     "text": [
      "[I 03:04:39 InstallContribNbextensionsApp] Up to date: C:\\Users\\Vugatri\\AppData\\Roaming\\jupyter\\nbextensions\\code_prettify\\code_prettify.js\n",
      "[I 03:04:39 InstallContribNbextensionsApp] Up to date: C:\\Users\\Vugatri\\AppData\\Roaming\\jupyter\\nbextensions\\code_prettify\\code_prettify.yaml\n",
      "[I 03:04:39 InstallContribNbextensionsApp] Up to date: C:\\Users\\Vugatri\\AppData\\Roaming\\jupyter\\nbextensions\\code_prettify\\demo-jv.gif\n",
      "[I 03:04:39 InstallContribNbextensionsApp] Up to date: C:\\Users\\Vugatri\\AppData\\Roaming\\jupyter\\nbextensions\\code_prettify\\demo-py.gif\n",
      "[I 03:04:39 InstallContribNbextensionsApp] Up to date: C:\\Users\\Vugatri\\AppData\\Roaming\\jupyter\\nbextensions\\code_prettify\\demo-R.gif\n",
      "[I 03:04:39 InstallContribNbextensionsApp] Up to date: C:\\Users\\Vugatri\\AppData\\Roaming\\jupyter\\nbextensions\\code_prettify\\demo_2to3.gif\n",
      "[I 03:04:39 InstallContribNbextensionsApp] Up to date: C:\\Users\\Vugatri\\AppData\\Roaming\\jupyter\\nbextensions\\code_prettify\\isort.js\n",
      "[I 03:04:39 InstallContribNbextensionsApp] Up to date: C:\\Users\\Vugatri\\AppData\\Roaming\\jupyter\\nbextensions\\code_prettify\\isort.yaml\n",
      "[I 03:04:39 InstallContribNbextensionsApp] Up to date: C:\\Users\\Vugatri\\AppData\\Roaming\\jupyter\\nbextensions\\code_prettify\\kernel_exec_on_cell.js\n",
      "[I 03:04:39 InstallContribNbextensionsApp] Up to date: C:\\Users\\Vugatri\\AppData\\Roaming\\jupyter\\nbextensions\\code_prettify\\README.md\n",
      "[I 03:04:39 InstallContribNbextensionsApp] Up to date: C:\\Users\\Vugatri\\AppData\\Roaming\\jupyter\\nbextensions\\code_prettify\\README_2to3.md\n",
      "[I 03:04:39 InstallContribNbextensionsApp] Up to date: C:\\Users\\Vugatri\\AppData\\Roaming\\jupyter\\nbextensions\\code_prettify\\README_autopep8.md\n",
      "[I 03:04:39 InstallContribNbextensionsApp] Up to date: C:\\Users\\Vugatri\\AppData\\Roaming\\jupyter\\nbextensions\\code_prettify\\README_code_prettify.md\n",
      "[I 03:04:39 InstallContribNbextensionsApp] Up to date: C:\\Users\\Vugatri\\AppData\\Roaming\\jupyter\\nbextensions\\code_prettify\\README_isort.md\n",
      "[I 03:04:39 InstallContribNbextensionsApp] - Validating: ok\n",
      "[I 03:04:39 InstallContribNbextensionsApp] Installing C:\\Users\\Vugatri\\Anaconda3\\lib\\site-packages\\jupyter_contrib_nbextensions\\nbextensions\\code_prettify -> code_prettify\n",
      "[I 03:04:39 InstallContribNbextensionsApp] Up to date: C:\\Users\\Vugatri\\AppData\\Roaming\\jupyter\\nbextensions\\code_prettify\\2to3.js\n",
      "[I 03:04:39 InstallContribNbextensionsApp] Up to date: C:\\Users\\Vugatri\\AppData\\Roaming\\jupyter\\nbextensions\\code_prettify\\2to3.yaml\n",
      "[I 03:04:39 InstallContribNbextensionsApp] Up to date: C:\\Users\\Vugatri\\AppData\\Roaming\\jupyter\\nbextensions\\code_prettify\\autopep8.js\n",
      "[I 03:04:39 InstallContribNbextensionsApp] Up to date: C:\\Users\\Vugatri\\AppData\\Roaming\\jupyter\\nbextensions\\code_prettify\\autopep8.yaml\n",
      "[I 03:04:39 InstallContribNbextensionsApp] Up to date: C:\\Users\\Vugatri\\AppData\\Roaming\\jupyter\\nbextensions\\code_prettify\\code_prettify.js\n",
      "[I 03:04:39 InstallContribNbextensionsApp] Up to date: C:\\Users\\Vugatri\\AppData\\Roaming\\jupyter\\nbextensions\\code_prettify\\code_prettify.yaml\n",
      "[I 03:04:39 InstallContribNbextensionsApp] Up to date: C:\\Users\\Vugatri\\AppData\\Roaming\\jupyter\\nbextensions\\code_prettify\\demo-jv.gif\n",
      "[I 03:04:39 InstallContribNbextensionsApp] Up to date: C:\\Users\\Vugatri\\AppData\\Roaming\\jupyter\\nbextensions\\code_prettify\\demo-py.gif\n",
      "[I 03:04:39 InstallContribNbextensionsApp] Up to date: C:\\Users\\Vugatri\\AppData\\Roaming\\jupyter\\nbextensions\\code_prettify\\demo-R.gif\n",
      "[I 03:04:39 InstallContribNbextensionsApp] Up to date: C:\\Users\\Vugatri\\AppData\\Roaming\\jupyter\\nbextensions\\code_prettify\\demo_2to3.gif\n",
      "[I 03:04:39 InstallContribNbextensionsApp] Up to date: C:\\Users\\Vugatri\\AppData\\Roaming\\jupyter\\nbextensions\\code_prettify\\isort.js\n",
      "[I 03:04:39 InstallContribNbextensionsApp] Up to date: C:\\Users\\Vugatri\\AppData\\Roaming\\jupyter\\nbextensions\\code_prettify\\isort.yaml\n",
      "[I 03:04:39 InstallContribNbextensionsApp] Up to date: C:\\Users\\Vugatri\\AppData\\Roaming\\jupyter\\nbextensions\\code_prettify\\kernel_exec_on_cell.js\n",
      "[I 03:04:39 InstallContribNbextensionsApp] Up to date: C:\\Users\\Vugatri\\AppData\\Roaming\\jupyter\\nbextensions\\code_prettify\\README.md\n",
      "[I 03:04:39 InstallContribNbextensionsApp] Up to date: C:\\Users\\Vugatri\\AppData\\Roaming\\jupyter\\nbextensions\\code_prettify\\README_2to3.md\n",
      "[I 03:04:39 InstallContribNbextensionsApp] Up to date: C:\\Users\\Vugatri\\AppData\\Roaming\\jupyter\\nbextensions\\code_prettify\\README_autopep8.md\n",
      "[I 03:04:39 InstallContribNbextensionsApp] Up to date: C:\\Users\\Vugatri\\AppData\\Roaming\\jupyter\\nbextensions\\code_prettify\\README_code_prettify.md\n",
      "[I 03:04:39 InstallContribNbextensionsApp] Up to date: C:\\Users\\Vugatri\\AppData\\Roaming\\jupyter\\nbextensions\\code_prettify\\README_isort.md\n",
      "[I 03:04:39 InstallContribNbextensionsApp] - Validating: ok\n",
      "[I 03:04:39 InstallContribNbextensionsApp] Installing C:\\Users\\Vugatri\\Anaconda3\\lib\\site-packages\\jupyter_contrib_nbextensions\\nbextensions\\code_prettify -> code_prettify\n",
      "[I 03:04:39 InstallContribNbextensionsApp] Up to date: C:\\Users\\Vugatri\\AppData\\Roaming\\jupyter\\nbextensions\\code_prettify\\2to3.js\n",
      "[I 03:04:39 InstallContribNbextensionsApp] Up to date: C:\\Users\\Vugatri\\AppData\\Roaming\\jupyter\\nbextensions\\code_prettify\\2to3.yaml\n",
      "[I 03:04:39 InstallContribNbextensionsApp] Up to date: C:\\Users\\Vugatri\\AppData\\Roaming\\jupyter\\nbextensions\\code_prettify\\autopep8.js\n",
      "[I 03:04:39 InstallContribNbextensionsApp] Up to date: C:\\Users\\Vugatri\\AppData\\Roaming\\jupyter\\nbextensions\\code_prettify\\autopep8.yaml\n",
      "[I 03:04:39 InstallContribNbextensionsApp] Up to date: C:\\Users\\Vugatri\\AppData\\Roaming\\jupyter\\nbextensions\\code_prettify\\code_prettify.js\n",
      "[I 03:04:39 InstallContribNbextensionsApp] Up to date: C:\\Users\\Vugatri\\AppData\\Roaming\\jupyter\\nbextensions\\code_prettify\\code_prettify.yaml\n",
      "[I 03:04:39 InstallContribNbextensionsApp] Up to date: C:\\Users\\Vugatri\\AppData\\Roaming\\jupyter\\nbextensions\\code_prettify\\demo-jv.gif\n",
      "[I 03:04:39 InstallContribNbextensionsApp] Up to date: C:\\Users\\Vugatri\\AppData\\Roaming\\jupyter\\nbextensions\\code_prettify\\demo-py.gif\n",
      "[I 03:04:39 InstallContribNbextensionsApp] Up to date: C:\\Users\\Vugatri\\AppData\\Roaming\\jupyter\\nbextensions\\code_prettify\\demo-R.gif\n",
      "[I 03:04:39 InstallContribNbextensionsApp] Up to date: C:\\Users\\Vugatri\\AppData\\Roaming\\jupyter\\nbextensions\\code_prettify\\demo_2to3.gif\n",
      "[I 03:04:39 InstallContribNbextensionsApp] Up to date: C:\\Users\\Vugatri\\AppData\\Roaming\\jupyter\\nbextensions\\code_prettify\\isort.js\n",
      "[I 03:04:39 InstallContribNbextensionsApp] Up to date: C:\\Users\\Vugatri\\AppData\\Roaming\\jupyter\\nbextensions\\code_prettify\\isort.yaml\n",
      "[I 03:04:39 InstallContribNbextensionsApp] Up to date: C:\\Users\\Vugatri\\AppData\\Roaming\\jupyter\\nbextensions\\code_prettify\\kernel_exec_on_cell.js\n",
      "[I 03:04:39 InstallContribNbextensionsApp] Up to date: C:\\Users\\Vugatri\\AppData\\Roaming\\jupyter\\nbextensions\\code_prettify\\README.md\n",
      "[I 03:04:39 InstallContribNbextensionsApp] Up to date: C:\\Users\\Vugatri\\AppData\\Roaming\\jupyter\\nbextensions\\code_prettify\\README_2to3.md\n",
      "[I 03:04:39 InstallContribNbextensionsApp] Up to date: C:\\Users\\Vugatri\\AppData\\Roaming\\jupyter\\nbextensions\\code_prettify\\README_autopep8.md\n",
      "[I 03:04:39 InstallContribNbextensionsApp] Up to date: C:\\Users\\Vugatri\\AppData\\Roaming\\jupyter\\nbextensions\\code_prettify\\README_code_prettify.md\n",
      "[I 03:04:39 InstallContribNbextensionsApp] Up to date: C:\\Users\\Vugatri\\AppData\\Roaming\\jupyter\\nbextensions\\code_prettify\\README_isort.md\n",
      "[I 03:04:39 InstallContribNbextensionsApp] - Validating: ok\n",
      "[I 03:04:39 InstallContribNbextensionsApp] Installing C:\\Users\\Vugatri\\Anaconda3\\lib\\site-packages\\jupyter_contrib_nbextensions\\nbextensions\\collapsible_headings -> collapsible_headings\n",
      "[I 03:04:39 InstallContribNbextensionsApp] Up to date: C:\\Users\\Vugatri\\AppData\\Roaming\\jupyter\\nbextensions\\collapsible_headings\\collapsible_headings.yaml\n",
      "[I 03:04:39 InstallContribNbextensionsApp] Up to date: C:\\Users\\Vugatri\\AppData\\Roaming\\jupyter\\nbextensions\\collapsible_headings\\icon.png\n",
      "[I 03:04:39 InstallContribNbextensionsApp] Up to date: C:\\Users\\Vugatri\\AppData\\Roaming\\jupyter\\nbextensions\\collapsible_headings\\main.css\n",
      "[I 03:04:39 InstallContribNbextensionsApp] Up to date: C:\\Users\\Vugatri\\AppData\\Roaming\\jupyter\\nbextensions\\collapsible_headings\\main.js\n",
      "[I 03:04:39 InstallContribNbextensionsApp] Up to date: C:\\Users\\Vugatri\\AppData\\Roaming\\jupyter\\nbextensions\\collapsible_headings\\readme.md\n",
      "[I 03:04:39 InstallContribNbextensionsApp] Up to date: C:\\Users\\Vugatri\\AppData\\Roaming\\jupyter\\nbextensions\\collapsible_headings\\screenshot.png\n",
      "[I 03:04:39 InstallContribNbextensionsApp] - Validating: ok\n",
      "[I 03:04:39 InstallContribNbextensionsApp] Installing C:\\Users\\Vugatri\\Anaconda3\\lib\\site-packages\\jupyter_contrib_nbextensions\\nbextensions\\comment-uncomment -> comment-uncomment\n",
      "[I 03:04:39 InstallContribNbextensionsApp] Up to date: C:\\Users\\Vugatri\\AppData\\Roaming\\jupyter\\nbextensions\\comment-uncomment\\comment-uncomment.yaml\n",
      "[I 03:04:39 InstallContribNbextensionsApp] Up to date: C:\\Users\\Vugatri\\AppData\\Roaming\\jupyter\\nbextensions\\comment-uncomment\\icon.png\n",
      "[I 03:04:39 InstallContribNbextensionsApp] Up to date: C:\\Users\\Vugatri\\AppData\\Roaming\\jupyter\\nbextensions\\comment-uncomment\\main.js\n",
      "[I 03:04:39 InstallContribNbextensionsApp] Up to date: C:\\Users\\Vugatri\\AppData\\Roaming\\jupyter\\nbextensions\\comment-uncomment\\readme.md\n",
      "[I 03:04:39 InstallContribNbextensionsApp] - Validating: ok\n",
      "[I 03:04:39 InstallContribNbextensionsApp] Installing C:\\Users\\Vugatri\\Anaconda3\\lib\\site-packages\\jupyter_contrib_nbextensions\\nbextensions\\contrib_nbextensions_help_item -> contrib_nbextensions_help_item\n",
      "[I 03:04:39 InstallContribNbextensionsApp] Up to date: C:\\Users\\Vugatri\\AppData\\Roaming\\jupyter\\nbextensions\\contrib_nbextensions_help_item\\contrib_nbextensions_help_item.yaml\n",
      "[I 03:04:39 InstallContribNbextensionsApp] Up to date: C:\\Users\\Vugatri\\AppData\\Roaming\\jupyter\\nbextensions\\contrib_nbextensions_help_item\\main.js\n",
      "[I 03:04:39 InstallContribNbextensionsApp] Up to date: C:\\Users\\Vugatri\\AppData\\Roaming\\jupyter\\nbextensions\\contrib_nbextensions_help_item\\README.md\n",
      "[I 03:04:39 InstallContribNbextensionsApp] - Validating: ok\n",
      "[I 03:04:39 InstallContribNbextensionsApp] Installing C:\\Users\\Vugatri\\Anaconda3\\lib\\site-packages\\jupyter_contrib_nbextensions\\nbextensions\\datestamper -> datestamper\n",
      "[I 03:04:39 InstallContribNbextensionsApp] Up to date: C:\\Users\\Vugatri\\AppData\\Roaming\\jupyter\\nbextensions\\datestamper\\icon.png\n",
      "[I 03:04:39 InstallContribNbextensionsApp] Up to date: C:\\Users\\Vugatri\\AppData\\Roaming\\jupyter\\nbextensions\\datestamper\\main.js\n",
      "[I 03:04:39 InstallContribNbextensionsApp] Up to date: C:\\Users\\Vugatri\\AppData\\Roaming\\jupyter\\nbextensions\\datestamper\\main.yaml\n",
      "[I 03:04:39 InstallContribNbextensionsApp] Up to date: C:\\Users\\Vugatri\\AppData\\Roaming\\jupyter\\nbextensions\\datestamper\\readme.md\n",
      "[I 03:04:39 InstallContribNbextensionsApp] - Validating: ok\n",
      "[I 03:04:39 InstallContribNbextensionsApp] Installing C:\\Users\\Vugatri\\Anaconda3\\lib\\site-packages\\jupyter_contrib_nbextensions\\nbextensions\\equation-numbering -> equation-numbering\n",
      "[I 03:04:39 InstallContribNbextensionsApp] Up to date: C:\\Users\\Vugatri\\AppData\\Roaming\\jupyter\\nbextensions\\equation-numbering\\button.png\n",
      "[I 03:04:39 InstallContribNbextensionsApp] Up to date: C:\\Users\\Vugatri\\AppData\\Roaming\\jupyter\\nbextensions\\equation-numbering\\icon.png\n",
      "[I 03:04:39 InstallContribNbextensionsApp] Up to date: C:\\Users\\Vugatri\\AppData\\Roaming\\jupyter\\nbextensions\\equation-numbering\\info.yaml\n",
      "[I 03:04:39 InstallContribNbextensionsApp] Up to date: C:\\Users\\Vugatri\\AppData\\Roaming\\jupyter\\nbextensions\\equation-numbering\\main.js\n",
      "[I 03:04:39 InstallContribNbextensionsApp] Up to date: C:\\Users\\Vugatri\\AppData\\Roaming\\jupyter\\nbextensions\\equation-numbering\\readme.md\n",
      "[I 03:04:39 InstallContribNbextensionsApp] - Validating: ok\n",
      "[I 03:04:39 InstallContribNbextensionsApp] Installing C:\\Users\\Vugatri\\Anaconda3\\lib\\site-packages\\jupyter_contrib_nbextensions\\nbextensions\\execute_time -> execute_time\n",
      "[I 03:04:39 InstallContribNbextensionsApp] Up to date: C:\\Users\\Vugatri\\AppData\\Roaming\\jupyter\\nbextensions\\execute_time\\ExecuteTime.css\n",
      "[I 03:04:39 InstallContribNbextensionsApp] Up to date: C:\\Users\\Vugatri\\AppData\\Roaming\\jupyter\\nbextensions\\execute_time\\ExecuteTime.js\n",
      "[I 03:04:39 InstallContribNbextensionsApp] Up to date: C:\\Users\\Vugatri\\AppData\\Roaming\\jupyter\\nbextensions\\execute_time\\ExecuteTime.yaml\n",
      "[I 03:04:39 InstallContribNbextensionsApp] Up to date: C:\\Users\\Vugatri\\AppData\\Roaming\\jupyter\\nbextensions\\execute_time\\execution-timings-box.png\n",
      "[I 03:04:39 InstallContribNbextensionsApp] Up to date: C:\\Users\\Vugatri\\AppData\\Roaming\\jupyter\\nbextensions\\execute_time\\execution-timings-menu.png\n",
      "[I 03:04:39 InstallContribNbextensionsApp] Up to date: C:\\Users\\Vugatri\\AppData\\Roaming\\jupyter\\nbextensions\\execute_time\\icon.png\n",
      "[I 03:04:39 InstallContribNbextensionsApp] Up to date: C:\\Users\\Vugatri\\AppData\\Roaming\\jupyter\\nbextensions\\execute_time\\readme.md\n",
      "[I 03:04:39 InstallContribNbextensionsApp] - Validating: ok\n",
      "[I 03:04:39 InstallContribNbextensionsApp] Installing C:\\Users\\Vugatri\\Anaconda3\\lib\\site-packages\\jupyter_contrib_nbextensions\\nbextensions\\execution_dependencies -> execution_dependencies\n",
      "[I 03:04:39 InstallContribNbextensionsApp] Up to date: C:\\Users\\Vugatri\\AppData\\Roaming\\jupyter\\nbextensions\\execution_dependencies\\execution_dependencies.js\n",
      "[I 03:04:39 InstallContribNbextensionsApp] Up to date: C:\\Users\\Vugatri\\AppData\\Roaming\\jupyter\\nbextensions\\execution_dependencies\\execution_dependencies.yml\n",
      "[I 03:04:39 InstallContribNbextensionsApp] Up to date: C:\\Users\\Vugatri\\AppData\\Roaming\\jupyter\\nbextensions\\execution_dependencies\\README.md\n",
      "[I 03:04:39 InstallContribNbextensionsApp] - Validating: ok\n",
      "[I 03:04:39 InstallContribNbextensionsApp] Installing C:\\Users\\Vugatri\\Anaconda3\\lib\\site-packages\\jupyter_contrib_nbextensions\\nbextensions\\exercise -> exercise\n",
      "[I 03:04:39 InstallContribNbextensionsApp] Up to date: C:\\Users\\Vugatri\\AppData\\Roaming\\jupyter\\nbextensions\\exercise\\exercise.yaml\n",
      "[I 03:04:39 InstallContribNbextensionsApp] Up to date: C:\\Users\\Vugatri\\AppData\\Roaming\\jupyter\\nbextensions\\exercise\\history.md\n",
      "[I 03:04:39 InstallContribNbextensionsApp] Up to date: C:\\Users\\Vugatri\\AppData\\Roaming\\jupyter\\nbextensions\\exercise\\icon.png\n",
      "[I 03:04:39 InstallContribNbextensionsApp] Up to date: C:\\Users\\Vugatri\\AppData\\Roaming\\jupyter\\nbextensions\\exercise\\image.gif\n",
      "[I 03:04:39 InstallContribNbextensionsApp] Up to date: C:\\Users\\Vugatri\\AppData\\Roaming\\jupyter\\nbextensions\\exercise\\main.css\n",
      "[I 03:04:39 InstallContribNbextensionsApp] Up to date: C:\\Users\\Vugatri\\AppData\\Roaming\\jupyter\\nbextensions\\exercise\\main.js\n",
      "[I 03:04:39 InstallContribNbextensionsApp] Up to date: C:\\Users\\Vugatri\\AppData\\Roaming\\jupyter\\nbextensions\\exercise\\readme.md\n",
      "[I 03:04:39 InstallContribNbextensionsApp] - Validating: ok\n",
      "[I 03:04:39 InstallContribNbextensionsApp] Installing C:\\Users\\Vugatri\\Anaconda3\\lib\\site-packages\\jupyter_contrib_nbextensions\\nbextensions\\exercise2 -> exercise2\n",
      "[I 03:04:39 InstallContribNbextensionsApp] Up to date: C:\\Users\\Vugatri\\AppData\\Roaming\\jupyter\\nbextensions\\exercise2\\exercise2.yaml\n",
      "[I 03:04:39 InstallContribNbextensionsApp] Up to date: C:\\Users\\Vugatri\\AppData\\Roaming\\jupyter\\nbextensions\\exercise2\\icon.png\n",
      "[I 03:04:39 InstallContribNbextensionsApp] Up to date: C:\\Users\\Vugatri\\AppData\\Roaming\\jupyter\\nbextensions\\exercise2\\image.gif\n",
      "[I 03:04:39 InstallContribNbextensionsApp] Up to date: C:\\Users\\Vugatri\\AppData\\Roaming\\jupyter\\nbextensions\\exercise2\\main.css\n",
      "[I 03:04:39 InstallContribNbextensionsApp] Up to date: C:\\Users\\Vugatri\\AppData\\Roaming\\jupyter\\nbextensions\\exercise2\\main.js\n",
      "[I 03:04:39 InstallContribNbextensionsApp] Up to date: C:\\Users\\Vugatri\\AppData\\Roaming\\jupyter\\nbextensions\\exercise2\\readme.md\n",
      "[I 03:04:39 InstallContribNbextensionsApp] - Validating: ok\n",
      "[I 03:04:39 InstallContribNbextensionsApp] Installing C:\\Users\\Vugatri\\Anaconda3\\lib\\site-packages\\jupyter_contrib_nbextensions\\nbextensions\\export_embedded -> export_embedded\n",
      "[I 03:04:39 InstallContribNbextensionsApp] Up to date: C:\\Users\\Vugatri\\AppData\\Roaming\\jupyter\\nbextensions\\export_embedded\\export_embedded.yaml\n",
      "[I 03:04:39 InstallContribNbextensionsApp] Up to date: C:\\Users\\Vugatri\\AppData\\Roaming\\jupyter\\nbextensions\\export_embedded\\icon.png\n",
      "[I 03:04:39 InstallContribNbextensionsApp] Up to date: C:\\Users\\Vugatri\\AppData\\Roaming\\jupyter\\nbextensions\\export_embedded\\main.js\n",
      "[I 03:04:39 InstallContribNbextensionsApp] Up to date: C:\\Users\\Vugatri\\AppData\\Roaming\\jupyter\\nbextensions\\export_embedded\\readme.md\n",
      "[I 03:04:39 InstallContribNbextensionsApp] - Validating: ok\n",
      "[I 03:04:39 InstallContribNbextensionsApp] Installing C:\\Users\\Vugatri\\Anaconda3\\lib\\site-packages\\jupyter_contrib_nbextensions\\nbextensions\\freeze -> freeze\n",
      "[I 03:04:39 InstallContribNbextensionsApp] Up to date: C:\\Users\\Vugatri\\AppData\\Roaming\\jupyter\\nbextensions\\freeze\\config.yaml\n",
      "[I 03:04:39 InstallContribNbextensionsApp] Up to date: C:\\Users\\Vugatri\\AppData\\Roaming\\jupyter\\nbextensions\\freeze\\icon.png\n",
      "[I 03:04:39 InstallContribNbextensionsApp] Up to date: C:\\Users\\Vugatri\\AppData\\Roaming\\jupyter\\nbextensions\\freeze\\main.js\n",
      "[I 03:04:39 InstallContribNbextensionsApp] Up to date: C:\\Users\\Vugatri\\AppData\\Roaming\\jupyter\\nbextensions\\freeze\\readme.md\n",
      "[I 03:04:39 InstallContribNbextensionsApp] - Validating: ok\n",
      "[I 03:04:39 InstallContribNbextensionsApp] Installing C:\\Users\\Vugatri\\Anaconda3\\lib\\site-packages\\jupyter_contrib_nbextensions\\nbextensions\\gist_it -> gist_it\n",
      "[I 03:04:39 InstallContribNbextensionsApp] Up to date: C:\\Users\\Vugatri\\AppData\\Roaming\\jupyter\\nbextensions\\gist_it\\gist_it.yaml\n",
      "[I 03:04:39 InstallContribNbextensionsApp] Up to date: C:\\Users\\Vugatri\\AppData\\Roaming\\jupyter\\nbextensions\\gist_it\\icon.png\n",
      "[I 03:04:39 InstallContribNbextensionsApp] Up to date: C:\\Users\\Vugatri\\AppData\\Roaming\\jupyter\\nbextensions\\gist_it\\main.js\n",
      "[I 03:04:39 InstallContribNbextensionsApp] Up to date: C:\\Users\\Vugatri\\AppData\\Roaming\\jupyter\\nbextensions\\gist_it\\readme.md\n",
      "[I 03:04:39 InstallContribNbextensionsApp] - Validating: ok\n",
      "[I 03:04:39 InstallContribNbextensionsApp] Installing C:\\Users\\Vugatri\\Anaconda3\\lib\\site-packages\\jupyter_contrib_nbextensions\\nbextensions\\help_panel -> help_panel\n",
      "[I 03:04:39 InstallContribNbextensionsApp] Up to date: C:\\Users\\Vugatri\\AppData\\Roaming\\jupyter\\nbextensions\\help_panel\\help_panel.css\n",
      "[I 03:04:39 InstallContribNbextensionsApp] Up to date: C:\\Users\\Vugatri\\AppData\\Roaming\\jupyter\\nbextensions\\help_panel\\help_panel.js\n",
      "[I 03:04:39 InstallContribNbextensionsApp] Up to date: C:\\Users\\Vugatri\\AppData\\Roaming\\jupyter\\nbextensions\\help_panel\\help_panel.yaml\n",
      "[I 03:04:39 InstallContribNbextensionsApp] Up to date: C:\\Users\\Vugatri\\AppData\\Roaming\\jupyter\\nbextensions\\help_panel\\help_panel_ext.png\n",
      "[I 03:04:39 InstallContribNbextensionsApp] Up to date: C:\\Users\\Vugatri\\AppData\\Roaming\\jupyter\\nbextensions\\help_panel\\help_panel_ext_fullscreen.png\n",
      "[I 03:04:39 InstallContribNbextensionsApp] Up to date: C:\\Users\\Vugatri\\AppData\\Roaming\\jupyter\\nbextensions\\help_panel\\icon.png\n",
      "[I 03:04:39 InstallContribNbextensionsApp] Up to date: C:\\Users\\Vugatri\\AppData\\Roaming\\jupyter\\nbextensions\\help_panel\\readme.md\n",
      "[I 03:04:39 InstallContribNbextensionsApp] Up to date: C:\\Users\\Vugatri\\AppData\\Roaming\\jupyter\\nbextensions\\help_panel\\img\\handle-v.png\n",
      "[I 03:04:39 InstallContribNbextensionsApp] - Validating: ok\n",
      "[I 03:04:39 InstallContribNbextensionsApp] Installing C:\\Users\\Vugatri\\Anaconda3\\lib\\site-packages\\jupyter_contrib_nbextensions\\nbextensions\\hide_header -> hide_header\n",
      "[I 03:04:39 InstallContribNbextensionsApp] Up to date: C:\\Users\\Vugatri\\AppData\\Roaming\\jupyter\\nbextensions\\hide_header\\hide_header.yaml\n",
      "[I 03:04:39 InstallContribNbextensionsApp] Up to date: C:\\Users\\Vugatri\\AppData\\Roaming\\jupyter\\nbextensions\\hide_header\\main.js\n",
      "[I 03:04:39 InstallContribNbextensionsApp] Up to date: C:\\Users\\Vugatri\\AppData\\Roaming\\jupyter\\nbextensions\\hide_header\\README.md\n",
      "[I 03:04:39 InstallContribNbextensionsApp] - Validating: ok\n",
      "[I 03:04:39 InstallContribNbextensionsApp] Installing C:\\Users\\Vugatri\\Anaconda3\\lib\\site-packages\\jupyter_contrib_nbextensions\\nbextensions\\hide_input -> hide_input\n",
      "[I 03:04:39 InstallContribNbextensionsApp] Up to date: C:\\Users\\Vugatri\\AppData\\Roaming\\jupyter\\nbextensions\\hide_input\\hide-input.yaml\n",
      "[I 03:04:39 InstallContribNbextensionsApp] Up to date: C:\\Users\\Vugatri\\AppData\\Roaming\\jupyter\\nbextensions\\hide_input\\icon.png\n",
      "[I 03:04:39 InstallContribNbextensionsApp] Up to date: C:\\Users\\Vugatri\\AppData\\Roaming\\jupyter\\nbextensions\\hide_input\\main.js\n",
      "[I 03:04:39 InstallContribNbextensionsApp] Up to date: C:\\Users\\Vugatri\\AppData\\Roaming\\jupyter\\nbextensions\\hide_input\\readme.md\n",
      "[I 03:04:39 InstallContribNbextensionsApp] - Validating: ok\n",
      "[I 03:04:39 InstallContribNbextensionsApp] Installing C:\\Users\\Vugatri\\Anaconda3\\lib\\site-packages\\jupyter_contrib_nbextensions\\nbextensions\\hide_input_all -> hide_input_all\n",
      "[I 03:04:39 InstallContribNbextensionsApp] Up to date: C:\\Users\\Vugatri\\AppData\\Roaming\\jupyter\\nbextensions\\hide_input_all\\hide_input_all.yaml\n",
      "[I 03:04:39 InstallContribNbextensionsApp] Up to date: C:\\Users\\Vugatri\\AppData\\Roaming\\jupyter\\nbextensions\\hide_input_all\\hide_input_all_hide.png\n",
      "[I 03:04:39 InstallContribNbextensionsApp] Up to date: C:\\Users\\Vugatri\\AppData\\Roaming\\jupyter\\nbextensions\\hide_input_all\\hide_input_all_show.png\n",
      "[I 03:04:39 InstallContribNbextensionsApp] Up to date: C:\\Users\\Vugatri\\AppData\\Roaming\\jupyter\\nbextensions\\hide_input_all\\icon.png\n",
      "[I 03:04:39 InstallContribNbextensionsApp] Up to date: C:\\Users\\Vugatri\\AppData\\Roaming\\jupyter\\nbextensions\\hide_input_all\\main.js\n",
      "[I 03:04:39 InstallContribNbextensionsApp] Up to date: C:\\Users\\Vugatri\\AppData\\Roaming\\jupyter\\nbextensions\\hide_input_all\\readme.md\n",
      "[I 03:04:39 InstallContribNbextensionsApp] - Validating: ok\n",
      "[I 03:04:39 InstallContribNbextensionsApp] Installing C:\\Users\\Vugatri\\Anaconda3\\lib\\site-packages\\jupyter_contrib_nbextensions\\nbextensions\\highlighter -> highlighter\n",
      "[I 03:04:39 InstallContribNbextensionsApp] Up to date: C:\\Users\\Vugatri\\AppData\\Roaming\\jupyter\\nbextensions\\highlighter\\demo_highlighter.html\n",
      "[I 03:04:39 InstallContribNbextensionsApp] Up to date: C:\\Users\\Vugatri\\AppData\\Roaming\\jupyter\\nbextensions\\highlighter\\demo_highlighter.ipynb\n",
      "[I 03:04:39 InstallContribNbextensionsApp] Up to date: C:\\Users\\Vugatri\\AppData\\Roaming\\jupyter\\nbextensions\\highlighter\\export_highlights.html\n",
      "[I 03:04:39 InstallContribNbextensionsApp] Up to date: C:\\Users\\Vugatri\\AppData\\Roaming\\jupyter\\nbextensions\\highlighter\\export_highlights.ipynb\n",
      "[I 03:04:39 InstallContribNbextensionsApp] Up to date: C:\\Users\\Vugatri\\AppData\\Roaming\\jupyter\\nbextensions\\highlighter\\export_highlights.pdf\n",
      "[I 03:04:39 InstallContribNbextensionsApp] Up to date: C:\\Users\\Vugatri\\AppData\\Roaming\\jupyter\\nbextensions\\highlighter\\export_highlights.tex\n",
      "[I 03:04:39 InstallContribNbextensionsApp] Up to date: C:\\Users\\Vugatri\\AppData\\Roaming\\jupyter\\nbextensions\\highlighter\\highlighter.css\n",
      "[I 03:04:39 InstallContribNbextensionsApp] Up to date: C:\\Users\\Vugatri\\AppData\\Roaming\\jupyter\\nbextensions\\highlighter\\highlighter.js\n",
      "[I 03:04:39 InstallContribNbextensionsApp] Up to date: C:\\Users\\Vugatri\\AppData\\Roaming\\jupyter\\nbextensions\\highlighter\\highlighter.yaml\n",
      "[I 03:04:39 InstallContribNbextensionsApp] Up to date: C:\\Users\\Vugatri\\AppData\\Roaming\\jupyter\\nbextensions\\highlighter\\icon.png\n",
      "[I 03:04:39 InstallContribNbextensionsApp] Up to date: C:\\Users\\Vugatri\\AppData\\Roaming\\jupyter\\nbextensions\\highlighter\\image.gif\n",
      "[I 03:04:39 InstallContribNbextensionsApp] Up to date: C:\\Users\\Vugatri\\AppData\\Roaming\\jupyter\\nbextensions\\highlighter\\readme.md\n",
      "[I 03:04:39 InstallContribNbextensionsApp] Up to date: C:\\Users\\Vugatri\\AppData\\Roaming\\jupyter\\nbextensions\\highlighter\\tst_highlights.html\n",
      "[I 03:04:39 InstallContribNbextensionsApp] Up to date: C:\\Users\\Vugatri\\AppData\\Roaming\\jupyter\\nbextensions\\highlighter\\tst_highlights.ipynb\n",
      "[I 03:04:39 InstallContribNbextensionsApp] Up to date: C:\\Users\\Vugatri\\AppData\\Roaming\\jupyter\\nbextensions\\highlighter\\tst_highlights.pdf\n",
      "[I 03:04:39 InstallContribNbextensionsApp] Up to date: C:\\Users\\Vugatri\\AppData\\Roaming\\jupyter\\nbextensions\\highlighter\\tst_highlights.tex\n",
      "[I 03:04:39 InstallContribNbextensionsApp] - Validating: ok\n",
      "[I 03:04:39 InstallContribNbextensionsApp] Installing C:\\Users\\Vugatri\\Anaconda3\\lib\\site-packages\\jupyter_contrib_nbextensions\\nbextensions\\hinterland -> hinterland\n",
      "[I 03:04:39 InstallContribNbextensionsApp] Up to date: C:\\Users\\Vugatri\\AppData\\Roaming\\jupyter\\nbextensions\\hinterland\\hinterland.js\n",
      "[I 03:04:39 InstallContribNbextensionsApp] Up to date: C:\\Users\\Vugatri\\AppData\\Roaming\\jupyter\\nbextensions\\hinterland\\hinterland.yaml\n",
      "[I 03:04:39 InstallContribNbextensionsApp] Up to date: C:\\Users\\Vugatri\\AppData\\Roaming\\jupyter\\nbextensions\\hinterland\\README.md\n",
      "[I 03:04:39 InstallContribNbextensionsApp] - Validating: ok\n",
      "[I 03:04:39 InstallContribNbextensionsApp] Installing C:\\Users\\Vugatri\\Anaconda3\\lib\\site-packages\\jupyter_contrib_nbextensions\\nbextensions\\init_cell -> init_cell\n",
      "[I 03:04:39 InstallContribNbextensionsApp] Up to date: C:\\Users\\Vugatri\\AppData\\Roaming\\jupyter\\nbextensions\\init_cell\\cell_toolbar_menu.png\n",
      "[I 03:04:39 InstallContribNbextensionsApp] Up to date: C:\\Users\\Vugatri\\AppData\\Roaming\\jupyter\\nbextensions\\init_cell\\icon.png\n",
      "[I 03:04:39 InstallContribNbextensionsApp] Up to date: C:\\Users\\Vugatri\\AppData\\Roaming\\jupyter\\nbextensions\\init_cell\\init_cell.yaml\n",
      "[I 03:04:39 InstallContribNbextensionsApp] Up to date: C:\\Users\\Vugatri\\AppData\\Roaming\\jupyter\\nbextensions\\init_cell\\main.js\n",
      "[I 03:04:39 InstallContribNbextensionsApp] Up to date: C:\\Users\\Vugatri\\AppData\\Roaming\\jupyter\\nbextensions\\init_cell\\README.md\n",
      "[I 03:04:39 InstallContribNbextensionsApp] - Validating: ok\n",
      "[I 03:04:39 InstallContribNbextensionsApp] Installing C:\\Users\\Vugatri\\Anaconda3\\lib\\site-packages\\jupyter_contrib_nbextensions\\nbextensions\\keyboard_shortcut_editor -> keyboard_shortcut_editor\n",
      "[I 03:04:39 InstallContribNbextensionsApp] Up to date: C:\\Users\\Vugatri\\AppData\\Roaming\\jupyter\\nbextensions\\keyboard_shortcut_editor\\icon.png\n",
      "[I 03:04:39 InstallContribNbextensionsApp] Up to date: C:\\Users\\Vugatri\\AppData\\Roaming\\jupyter\\nbextensions\\keyboard_shortcut_editor\\keyboard_shortcut_editor.yaml\n",
      "[I 03:04:39 InstallContribNbextensionsApp] Up to date: C:\\Users\\Vugatri\\AppData\\Roaming\\jupyter\\nbextensions\\keyboard_shortcut_editor\\kse_components.js\n",
      "[I 03:04:39 InstallContribNbextensionsApp] Up to date: C:\\Users\\Vugatri\\AppData\\Roaming\\jupyter\\nbextensions\\keyboard_shortcut_editor\\main.css\n",
      "[I 03:04:39 InstallContribNbextensionsApp] Up to date: C:\\Users\\Vugatri\\AppData\\Roaming\\jupyter\\nbextensions\\keyboard_shortcut_editor\\main.js\n",
      "[I 03:04:39 InstallContribNbextensionsApp] Up to date: C:\\Users\\Vugatri\\AppData\\Roaming\\jupyter\\nbextensions\\keyboard_shortcut_editor\\quickhelp_shim.js\n",
      "[I 03:04:39 InstallContribNbextensionsApp] Up to date: C:\\Users\\Vugatri\\AppData\\Roaming\\jupyter\\nbextensions\\keyboard_shortcut_editor\\README.md\n",
      "[I 03:04:39 InstallContribNbextensionsApp] Up to date: C:\\Users\\Vugatri\\AppData\\Roaming\\jupyter\\nbextensions\\keyboard_shortcut_editor\\readme_add_new_link.png\n",
      "[I 03:04:39 InstallContribNbextensionsApp] Up to date: C:\\Users\\Vugatri\\AppData\\Roaming\\jupyter\\nbextensions\\keyboard_shortcut_editor\\readme_add_new_select_action.png\n",
      "[I 03:04:39 InstallContribNbextensionsApp] Up to date: C:\\Users\\Vugatri\\AppData\\Roaming\\jupyter\\nbextensions\\keyboard_shortcut_editor\\readme_comma.png\n",
      "[I 03:04:39 InstallContribNbextensionsApp] Up to date: C:\\Users\\Vugatri\\AppData\\Roaming\\jupyter\\nbextensions\\keyboard_shortcut_editor\\readme_conflict.png\n",
      "[I 03:04:39 InstallContribNbextensionsApp] Up to date: C:\\Users\\Vugatri\\AppData\\Roaming\\jupyter\\nbextensions\\keyboard_shortcut_editor\\readme_dropdown.png\n",
      "[I 03:04:39 InstallContribNbextensionsApp] Up to date: C:\\Users\\Vugatri\\AppData\\Roaming\\jupyter\\nbextensions\\keyboard_shortcut_editor\\readme_menu_item.png\n",
      "[I 03:04:39 InstallContribNbextensionsApp] Up to date: C:\\Users\\Vugatri\\AppData\\Roaming\\jupyter\\nbextensions\\keyboard_shortcut_editor\\readme_reset_disabled.png\n",
      "[I 03:04:39 InstallContribNbextensionsApp] Up to date: C:\\Users\\Vugatri\\AppData\\Roaming\\jupyter\\nbextensions\\keyboard_shortcut_editor\\readme_shortcut_editor_blank.png\n",
      "[I 03:04:39 InstallContribNbextensionsApp] Up to date: C:\\Users\\Vugatri\\AppData\\Roaming\\jupyter\\nbextensions\\keyboard_shortcut_editor\\readme_shortcut_editor_success.png\n",
      "[I 03:04:39 InstallContribNbextensionsApp] Up to date: C:\\Users\\Vugatri\\AppData\\Roaming\\jupyter\\nbextensions\\keyboard_shortcut_editor\\readme_undefined_key.png\n",
      "[I 03:04:39 InstallContribNbextensionsApp] - Validating: ok\n",
      "[I 03:04:39 InstallContribNbextensionsApp] Installing C:\\Users\\Vugatri\\Anaconda3\\lib\\site-packages\\jupyter_contrib_nbextensions\\nbextensions\\limit_output -> limit_output\n",
      "[I 03:04:39 InstallContribNbextensionsApp] Up to date: C:\\Users\\Vugatri\\AppData\\Roaming\\jupyter\\nbextensions\\limit_output\\icon.png\n",
      "[I 03:04:39 InstallContribNbextensionsApp] Up to date: C:\\Users\\Vugatri\\AppData\\Roaming\\jupyter\\nbextensions\\limit_output\\limit-output.yaml\n",
      "[I 03:04:39 InstallContribNbextensionsApp] Up to date: C:\\Users\\Vugatri\\AppData\\Roaming\\jupyter\\nbextensions\\limit_output\\main.js\n",
      "[I 03:04:39 InstallContribNbextensionsApp] Up to date: C:\\Users\\Vugatri\\AppData\\Roaming\\jupyter\\nbextensions\\limit_output\\readme.md\n",
      "[I 03:04:39 InstallContribNbextensionsApp] - Validating: ok\n",
      "[I 03:04:39 InstallContribNbextensionsApp] Installing C:\\Users\\Vugatri\\Anaconda3\\lib\\site-packages\\jupyter_contrib_nbextensions\\nbextensions\\livemdpreview -> livemdpreview\n",
      "[I 03:04:39 InstallContribNbextensionsApp] Up to date: C:\\Users\\Vugatri\\AppData\\Roaming\\jupyter\\nbextensions\\livemdpreview\\livemdpreview.js\n",
      "[I 03:04:39 InstallContribNbextensionsApp] Up to date: C:\\Users\\Vugatri\\AppData\\Roaming\\jupyter\\nbextensions\\livemdpreview\\livemdpreview.yml\n",
      "[I 03:04:39 InstallContribNbextensionsApp] - Validating: ok\n",
      "[I 03:04:39 InstallContribNbextensionsApp] Installing C:\\Users\\Vugatri\\Anaconda3\\lib\\site-packages\\jupyter_contrib_nbextensions\\nbextensions\\load_tex_macros -> load_tex_macros\n",
      "[I 03:04:39 InstallContribNbextensionsApp] Up to date: C:\\Users\\Vugatri\\AppData\\Roaming\\jupyter\\nbextensions\\load_tex_macros\\icon.png\n",
      "[I 03:04:39 InstallContribNbextensionsApp] Up to date: C:\\Users\\Vugatri\\AppData\\Roaming\\jupyter\\nbextensions\\load_tex_macros\\load_tex_macros.yaml\n",
      "[I 03:04:39 InstallContribNbextensionsApp] Up to date: C:\\Users\\Vugatri\\AppData\\Roaming\\jupyter\\nbextensions\\load_tex_macros\\main.js\n",
      "[I 03:04:39 InstallContribNbextensionsApp] Up to date: C:\\Users\\Vugatri\\AppData\\Roaming\\jupyter\\nbextensions\\load_tex_macros\\readme.md\n",
      "[I 03:04:39 InstallContribNbextensionsApp] - Validating: ok\n",
      "[I 03:04:39 InstallContribNbextensionsApp] Installing C:\\Users\\Vugatri\\Anaconda3\\lib\\site-packages\\jupyter_contrib_nbextensions\\nbextensions\\move_selected_cells -> move_selected_cells\n",
      "[I 03:04:39 InstallContribNbextensionsApp] Up to date: C:\\Users\\Vugatri\\AppData\\Roaming\\jupyter\\nbextensions\\move_selected_cells\\main.js\n",
      "[I 03:04:39 InstallContribNbextensionsApp] Up to date: C:\\Users\\Vugatri\\AppData\\Roaming\\jupyter\\nbextensions\\move_selected_cells\\move_selected_cells.yaml\n",
      "[I 03:04:39 InstallContribNbextensionsApp] Up to date: C:\\Users\\Vugatri\\AppData\\Roaming\\jupyter\\nbextensions\\move_selected_cells\\README.md\n",
      "[I 03:04:39 InstallContribNbextensionsApp] - Validating: ok\n",
      "[I 03:04:39 InstallContribNbextensionsApp] Installing C:\\Users\\Vugatri\\Anaconda3\\lib\\site-packages\\jupyter_contrib_nbextensions\\nbextensions\\navigation-hotkeys -> navigation-hotkeys\n",
      "[I 03:04:39 InstallContribNbextensionsApp] Up to date: C:\\Users\\Vugatri\\AppData\\Roaming\\jupyter\\nbextensions\\navigation-hotkeys\\hotkeys.yaml\n",
      "[I 03:04:39 InstallContribNbextensionsApp] Up to date: C:\\Users\\Vugatri\\AppData\\Roaming\\jupyter\\nbextensions\\navigation-hotkeys\\icon.png\n",
      "[I 03:04:39 InstallContribNbextensionsApp] Up to date: C:\\Users\\Vugatri\\AppData\\Roaming\\jupyter\\nbextensions\\navigation-hotkeys\\main.js\n",
      "[I 03:04:39 InstallContribNbextensionsApp] Up to date: C:\\Users\\Vugatri\\AppData\\Roaming\\jupyter\\nbextensions\\navigation-hotkeys\\readme.md\n",
      "[I 03:04:39 InstallContribNbextensionsApp] - Validating: ok\n",
      "[I 03:04:39 InstallContribNbextensionsApp] Installing C:\\Users\\Vugatri\\Anaconda3\\lib\\site-packages\\jupyter_contrib_nbextensions\\nbextensions\\nbTranslate -> nbTranslate\n",
      "[I 03:04:39 InstallContribNbextensionsApp] Up to date: C:\\Users\\Vugatri\\AppData\\Roaming\\jupyter\\nbextensions\\nbTranslate\\demo1.gif\n",
      "[I 03:04:39 InstallContribNbextensionsApp] Up to date: C:\\Users\\Vugatri\\AppData\\Roaming\\jupyter\\nbextensions\\nbTranslate\\demo2.gif\n",
      "[I 03:04:39 InstallContribNbextensionsApp] Up to date: C:\\Users\\Vugatri\\AppData\\Roaming\\jupyter\\nbextensions\\nbTranslate\\languages.js\n",
      "[I 03:04:39 InstallContribNbextensionsApp] Up to date: C:\\Users\\Vugatri\\AppData\\Roaming\\jupyter\\nbextensions\\nbTranslate\\main.js\n",
      "[I 03:04:39 InstallContribNbextensionsApp] Up to date: C:\\Users\\Vugatri\\AppData\\Roaming\\jupyter\\nbextensions\\nbTranslate\\mutils.js\n",
      "[I 03:04:39 InstallContribNbextensionsApp] Up to date: C:\\Users\\Vugatri\\AppData\\Roaming\\jupyter\\nbextensions\\nbTranslate\\nbTranslate.js\n",
      "[I 03:04:39 InstallContribNbextensionsApp] Up to date: C:\\Users\\Vugatri\\AppData\\Roaming\\jupyter\\nbextensions\\nbTranslate\\nbTranslate.yaml\n",
      "[I 03:04:39 InstallContribNbextensionsApp] Up to date: C:\\Users\\Vugatri\\AppData\\Roaming\\jupyter\\nbextensions\\nbTranslate\\README.md\n",
      "[I 03:04:39 InstallContribNbextensionsApp] - Validating: ok\n",
      "[I 03:04:39 InstallContribNbextensionsApp] Installing C:\\Users\\Vugatri\\Anaconda3\\lib\\site-packages\\jupyter_contrib_nbextensions\\nbextensions\\notify -> notify\n",
      "[I 03:04:39 InstallContribNbextensionsApp] Up to date: C:\\Users\\Vugatri\\AppData\\Roaming\\jupyter\\nbextensions\\notify\\notification.png\n",
      "[I 03:04:39 InstallContribNbextensionsApp] Up to date: C:\\Users\\Vugatri\\AppData\\Roaming\\jupyter\\nbextensions\\notify\\notify.js\n",
      "[I 03:04:39 InstallContribNbextensionsApp] Up to date: C:\\Users\\Vugatri\\AppData\\Roaming\\jupyter\\nbextensions\\notify\\notify.mp3\n",
      "[I 03:04:39 InstallContribNbextensionsApp] Up to date: C:\\Users\\Vugatri\\AppData\\Roaming\\jupyter\\nbextensions\\notify\\notify.yaml\n",
      "[I 03:04:39 InstallContribNbextensionsApp] Up to date: C:\\Users\\Vugatri\\AppData\\Roaming\\jupyter\\nbextensions\\notify\\readme.md\n",
      "[I 03:04:39 InstallContribNbextensionsApp] - Validating: ok\n",
      "[I 03:04:39 InstallContribNbextensionsApp] Installing C:\\Users\\Vugatri\\Anaconda3\\lib\\site-packages\\jupyter_contrib_nbextensions\\nbextensions\\printview -> printview\n",
      "[I 03:04:39 InstallContribNbextensionsApp] Up to date: C:\\Users\\Vugatri\\AppData\\Roaming\\jupyter\\nbextensions\\printview\\icon.png\n",
      "[I 03:04:39 InstallContribNbextensionsApp] Up to date: C:\\Users\\Vugatri\\AppData\\Roaming\\jupyter\\nbextensions\\printview\\main.js\n",
      "[I 03:04:39 InstallContribNbextensionsApp] Up to date: C:\\Users\\Vugatri\\AppData\\Roaming\\jupyter\\nbextensions\\printview\\printview-button.png\n",
      "[I 03:04:39 InstallContribNbextensionsApp] Up to date: C:\\Users\\Vugatri\\AppData\\Roaming\\jupyter\\nbextensions\\printview\\printview.yaml\n",
      "[I 03:04:39 InstallContribNbextensionsApp] Up to date: C:\\Users\\Vugatri\\AppData\\Roaming\\jupyter\\nbextensions\\printview\\readme.md\n",
      "[I 03:04:39 InstallContribNbextensionsApp] - Validating: ok\n",
      "[I 03:04:39 InstallContribNbextensionsApp] Installing C:\\Users\\Vugatri\\Anaconda3\\lib\\site-packages\\jupyter_contrib_nbextensions\\nbextensions\\python-markdown -> python-markdown\n",
      "[I 03:04:39 InstallContribNbextensionsApp] Up to date: C:\\Users\\Vugatri\\AppData\\Roaming\\jupyter\\nbextensions\\python-markdown\\main.css\n",
      "[I 03:04:39 InstallContribNbextensionsApp] Up to date: C:\\Users\\Vugatri\\AppData\\Roaming\\jupyter\\nbextensions\\python-markdown\\main.js\n",
      "[I 03:04:39 InstallContribNbextensionsApp] Up to date: C:\\Users\\Vugatri\\AppData\\Roaming\\jupyter\\nbextensions\\python-markdown\\python-markdown-post.png\n",
      "[I 03:04:39 InstallContribNbextensionsApp] Up to date: C:\\Users\\Vugatri\\AppData\\Roaming\\jupyter\\nbextensions\\python-markdown\\python-markdown-pre.png\n",
      "[I 03:04:39 InstallContribNbextensionsApp] Up to date: C:\\Users\\Vugatri\\AppData\\Roaming\\jupyter\\nbextensions\\python-markdown\\python-markdown.png\n",
      "[I 03:04:39 InstallContribNbextensionsApp] Up to date: C:\\Users\\Vugatri\\AppData\\Roaming\\jupyter\\nbextensions\\python-markdown\\python-markdown.yaml\n",
      "[I 03:04:39 InstallContribNbextensionsApp] Up to date: C:\\Users\\Vugatri\\AppData\\Roaming\\jupyter\\nbextensions\\python-markdown\\readme.md\n",
      "[I 03:04:39 InstallContribNbextensionsApp] Up to date: C:\\Users\\Vugatri\\AppData\\Roaming\\jupyter\\nbextensions\\python-markdown\\trusted.png\n",
      "[I 03:04:39 InstallContribNbextensionsApp] Up to date: C:\\Users\\Vugatri\\AppData\\Roaming\\jupyter\\nbextensions\\python-markdown\\untrusted.png\n",
      "[I 03:04:39 InstallContribNbextensionsApp] - Validating: ok\n",
      "[I 03:04:39 InstallContribNbextensionsApp] Installing C:\\Users\\Vugatri\\Anaconda3\\lib\\site-packages\\jupyter_contrib_nbextensions\\nbextensions\\qtconsole -> qtconsole\n",
      "[I 03:04:39 InstallContribNbextensionsApp] Up to date: C:\\Users\\Vugatri\\AppData\\Roaming\\jupyter\\nbextensions\\qtconsole\\qtconsole.js\n",
      "[I 03:04:39 InstallContribNbextensionsApp] Up to date: C:\\Users\\Vugatri\\AppData\\Roaming\\jupyter\\nbextensions\\qtconsole\\qtconsole.yaml\n",
      "[I 03:04:39 InstallContribNbextensionsApp] Up to date: C:\\Users\\Vugatri\\AppData\\Roaming\\jupyter\\nbextensions\\qtconsole\\README.md\n",
      "[I 03:04:39 InstallContribNbextensionsApp] - Validating: ok\n",
      "[I 03:04:39 InstallContribNbextensionsApp] Installing C:\\Users\\Vugatri\\Anaconda3\\lib\\site-packages\\jupyter_contrib_nbextensions\\nbextensions\\rubberband -> rubberband\n",
      "[I 03:04:39 InstallContribNbextensionsApp] Up to date: C:\\Users\\Vugatri\\AppData\\Roaming\\jupyter\\nbextensions\\rubberband\\icon.png\n",
      "[I 03:04:39 InstallContribNbextensionsApp] Up to date: C:\\Users\\Vugatri\\AppData\\Roaming\\jupyter\\nbextensions\\rubberband\\main.css\n",
      "[I 03:04:39 InstallContribNbextensionsApp] Up to date: C:\\Users\\Vugatri\\AppData\\Roaming\\jupyter\\nbextensions\\rubberband\\main.js\n",
      "[I 03:04:39 InstallContribNbextensionsApp] Up to date: C:\\Users\\Vugatri\\AppData\\Roaming\\jupyter\\nbextensions\\rubberband\\readme.md\n",
      "[I 03:04:39 InstallContribNbextensionsApp] Up to date: C:\\Users\\Vugatri\\AppData\\Roaming\\jupyter\\nbextensions\\rubberband\\rubberband.yaml\n",
      "[I 03:04:39 InstallContribNbextensionsApp] - Validating: ok\n",
      "[I 03:04:39 InstallContribNbextensionsApp] Installing C:\\Users\\Vugatri\\Anaconda3\\lib\\site-packages\\jupyter_contrib_nbextensions\\nbextensions\\ruler -> ruler\n",
      "[I 03:04:39 InstallContribNbextensionsApp] Up to date: C:\\Users\\Vugatri\\AppData\\Roaming\\jupyter\\nbextensions\\ruler\\edit.js\n",
      "[I 03:04:39 InstallContribNbextensionsApp] Up to date: C:\\Users\\Vugatri\\AppData\\Roaming\\jupyter\\nbextensions\\ruler\\icon.png\n",
      "[I 03:04:39 InstallContribNbextensionsApp] Up to date: C:\\Users\\Vugatri\\AppData\\Roaming\\jupyter\\nbextensions\\ruler\\main.js\n",
      "[I 03:04:39 InstallContribNbextensionsApp] Up to date: C:\\Users\\Vugatri\\AppData\\Roaming\\jupyter\\nbextensions\\ruler\\readme.md\n",
      "[I 03:04:39 InstallContribNbextensionsApp] Up to date: C:\\Users\\Vugatri\\AppData\\Roaming\\jupyter\\nbextensions\\ruler\\ruler.yaml\n",
      "[I 03:04:39 InstallContribNbextensionsApp] Up to date: C:\\Users\\Vugatri\\AppData\\Roaming\\jupyter\\nbextensions\\ruler\\ruler_editor.yaml\n",
      "[I 03:04:39 InstallContribNbextensionsApp] - Validating: ok\n",
      "[I 03:04:39 InstallContribNbextensionsApp] Installing C:\\Users\\Vugatri\\Anaconda3\\lib\\site-packages\\jupyter_contrib_nbextensions\\nbextensions\\ruler -> ruler\n",
      "[I 03:04:39 InstallContribNbextensionsApp] Up to date: C:\\Users\\Vugatri\\AppData\\Roaming\\jupyter\\nbextensions\\ruler\\edit.js\n",
      "[I 03:04:39 InstallContribNbextensionsApp] Up to date: C:\\Users\\Vugatri\\AppData\\Roaming\\jupyter\\nbextensions\\ruler\\icon.png\n",
      "[I 03:04:39 InstallContribNbextensionsApp] Up to date: C:\\Users\\Vugatri\\AppData\\Roaming\\jupyter\\nbextensions\\ruler\\main.js\n",
      "[I 03:04:39 InstallContribNbextensionsApp] Up to date: C:\\Users\\Vugatri\\AppData\\Roaming\\jupyter\\nbextensions\\ruler\\readme.md\n",
      "[I 03:04:39 InstallContribNbextensionsApp] Up to date: C:\\Users\\Vugatri\\AppData\\Roaming\\jupyter\\nbextensions\\ruler\\ruler.yaml\n",
      "[I 03:04:39 InstallContribNbextensionsApp] Up to date: C:\\Users\\Vugatri\\AppData\\Roaming\\jupyter\\nbextensions\\ruler\\ruler_editor.yaml\n",
      "[I 03:04:39 InstallContribNbextensionsApp] - Validating: ok\n",
      "[I 03:04:39 InstallContribNbextensionsApp] Installing C:\\Users\\Vugatri\\Anaconda3\\lib\\site-packages\\jupyter_contrib_nbextensions\\nbextensions\\runtools -> runtools\n",
      "[I 03:04:39 InstallContribNbextensionsApp] Up to date: C:\\Users\\Vugatri\\AppData\\Roaming\\jupyter\\nbextensions\\runtools\\annotations.odg\n",
      "[I 03:04:39 InstallContribNbextensionsApp] Up to date: C:\\Users\\Vugatri\\AppData\\Roaming\\jupyter\\nbextensions\\runtools\\cellstate.js\n",
      "[I 03:04:39 InstallContribNbextensionsApp] Up to date: C:\\Users\\Vugatri\\AppData\\Roaming\\jupyter\\nbextensions\\runtools\\demo.gif\n",
      "[I 03:04:39 InstallContribNbextensionsApp] Up to date: C:\\Users\\Vugatri\\AppData\\Roaming\\jupyter\\nbextensions\\runtools\\gutter.css\n",
      "[I 03:04:39 InstallContribNbextensionsApp] Up to date: C:\\Users\\Vugatri\\AppData\\Roaming\\jupyter\\nbextensions\\runtools\\icon.png\n",
      "[I 03:04:39 InstallContribNbextensionsApp] Up to date: C:\\Users\\Vugatri\\AppData\\Roaming\\jupyter\\nbextensions\\runtools\\main.css\n",
      "[I 03:04:39 InstallContribNbextensionsApp] Up to date: C:\\Users\\Vugatri\\AppData\\Roaming\\jupyter\\nbextensions\\runtools\\main.js\n",
      "[I 03:04:39 InstallContribNbextensionsApp] Up to date: C:\\Users\\Vugatri\\AppData\\Roaming\\jupyter\\nbextensions\\runtools\\readme.md\n",
      "[I 03:04:39 InstallContribNbextensionsApp] Up to date: C:\\Users\\Vugatri\\AppData\\Roaming\\jupyter\\nbextensions\\runtools\\runtools.yaml\n",
      "[I 03:04:39 InstallContribNbextensionsApp] Up to date: C:\\Users\\Vugatri\\AppData\\Roaming\\jupyter\\nbextensions\\runtools\\runtools_execute.png\n",
      "[I 03:04:39 InstallContribNbextensionsApp] Up to date: C:\\Users\\Vugatri\\AppData\\Roaming\\jupyter\\nbextensions\\runtools\\runtools_lock.png\n",
      "[I 03:04:39 InstallContribNbextensionsApp] Up to date: C:\\Users\\Vugatri\\AppData\\Roaming\\jupyter\\nbextensions\\runtools\\runtools_marker.png\n",
      "[I 03:04:39 InstallContribNbextensionsApp] Up to date: C:\\Users\\Vugatri\\AppData\\Roaming\\jupyter\\nbextensions\\runtools\\runtools_nb.png\n",
      "[I 03:04:39 InstallContribNbextensionsApp] Up to date: C:\\Users\\Vugatri\\AppData\\Roaming\\jupyter\\nbextensions\\runtools\\runtools_show_hide.png\n",
      "[I 03:04:39 InstallContribNbextensionsApp] - Validating: ok\n",
      "[I 03:04:39 InstallContribNbextensionsApp] Installing C:\\Users\\Vugatri\\Anaconda3\\lib\\site-packages\\jupyter_contrib_nbextensions\\nbextensions\\scratchpad -> scratchpad\n",
      "[I 03:04:39 InstallContribNbextensionsApp] Up to date: C:\\Users\\Vugatri\\AppData\\Roaming\\jupyter\\nbextensions\\scratchpad\\demo.gif\n",
      "[I 03:04:39 InstallContribNbextensionsApp] Up to date: C:\\Users\\Vugatri\\AppData\\Roaming\\jupyter\\nbextensions\\scratchpad\\LICENSE\n",
      "[I 03:04:39 InstallContribNbextensionsApp] Up to date: C:\\Users\\Vugatri\\AppData\\Roaming\\jupyter\\nbextensions\\scratchpad\\main.js\n",
      "[I 03:04:39 InstallContribNbextensionsApp] Up to date: C:\\Users\\Vugatri\\AppData\\Roaming\\jupyter\\nbextensions\\scratchpad\\README.md\n",
      "[I 03:04:39 InstallContribNbextensionsApp] Up to date: C:\\Users\\Vugatri\\AppData\\Roaming\\jupyter\\nbextensions\\scratchpad\\scratchpad.css\n",
      "[I 03:04:39 InstallContribNbextensionsApp] Up to date: C:\\Users\\Vugatri\\AppData\\Roaming\\jupyter\\nbextensions\\scratchpad\\scratchpad.yaml\n",
      "[I 03:04:39 InstallContribNbextensionsApp] - Validating: ok\n",
      "[I 03:04:39 InstallContribNbextensionsApp] Installing C:\\Users\\Vugatri\\Anaconda3\\lib\\site-packages\\jupyter_contrib_nbextensions\\nbextensions\\scroll_down -> scroll_down\n",
      "[I 03:04:39 InstallContribNbextensionsApp] Up to date: C:\\Users\\Vugatri\\AppData\\Roaming\\jupyter\\nbextensions\\scroll_down\\config.yaml\n",
      "[I 03:04:39 InstallContribNbextensionsApp] Up to date: C:\\Users\\Vugatri\\AppData\\Roaming\\jupyter\\nbextensions\\scroll_down\\icon.png\n",
      "[I 03:04:39 InstallContribNbextensionsApp] Up to date: C:\\Users\\Vugatri\\AppData\\Roaming\\jupyter\\nbextensions\\scroll_down\\main.js\n",
      "[I 03:04:39 InstallContribNbextensionsApp] Up to date: C:\\Users\\Vugatri\\AppData\\Roaming\\jupyter\\nbextensions\\scroll_down\\readme.md\n",
      "[I 03:04:39 InstallContribNbextensionsApp] - Validating: ok\n",
      "[I 03:04:39 InstallContribNbextensionsApp] Installing C:\\Users\\Vugatri\\Anaconda3\\lib\\site-packages\\jupyter_contrib_nbextensions\\nbextensions\\select_keymap -> select_keymap\n",
      "[I 03:04:39 InstallContribNbextensionsApp] Up to date: C:\\Users\\Vugatri\\AppData\\Roaming\\jupyter\\nbextensions\\select_keymap\\main.js\n",
      "[I 03:04:39 InstallContribNbextensionsApp] Up to date: C:\\Users\\Vugatri\\AppData\\Roaming\\jupyter\\nbextensions\\select_keymap\\README.md\n",
      "[I 03:04:39 InstallContribNbextensionsApp] Up to date: C:\\Users\\Vugatri\\AppData\\Roaming\\jupyter\\nbextensions\\select_keymap\\select_keymap.png\n",
      "[I 03:04:39 InstallContribNbextensionsApp] Up to date: C:\\Users\\Vugatri\\AppData\\Roaming\\jupyter\\nbextensions\\select_keymap\\select_keymap.yaml\n",
      "[I 03:04:39 InstallContribNbextensionsApp] - Validating: ok\n",
      "[I 03:04:39 InstallContribNbextensionsApp] Installing C:\\Users\\Vugatri\\Anaconda3\\lib\\site-packages\\jupyter_contrib_nbextensions\\nbextensions\\skill -> skill\n",
      "[I 03:04:39 InstallContribNbextensionsApp] Up to date: C:\\Users\\Vugatri\\AppData\\Roaming\\jupyter\\nbextensions\\skill\\main.js\n",
      "[I 03:04:39 InstallContribNbextensionsApp] Up to date: C:\\Users\\Vugatri\\AppData\\Roaming\\jupyter\\nbextensions\\skill\\README.md\n",
      "[I 03:04:39 InstallContribNbextensionsApp] Up to date: C:\\Users\\Vugatri\\AppData\\Roaming\\jupyter\\nbextensions\\skill\\skill.js\n",
      "[I 03:04:39 InstallContribNbextensionsApp] Up to date: C:\\Users\\Vugatri\\AppData\\Roaming\\jupyter\\nbextensions\\skill\\skill.yaml\n",
      "[I 03:04:39 InstallContribNbextensionsApp] - Validating: ok\n",
      "[I 03:04:39 InstallContribNbextensionsApp] Installing C:\\Users\\Vugatri\\Anaconda3\\lib\\site-packages\\jupyter_contrib_nbextensions\\nbextensions\\skip-traceback -> skip-traceback\n",
      "[I 03:04:39 InstallContribNbextensionsApp] Up to date: C:\\Users\\Vugatri\\AppData\\Roaming\\jupyter\\nbextensions\\skip-traceback\\icon.png\n",
      "[I 03:04:39 InstallContribNbextensionsApp] Up to date: C:\\Users\\Vugatri\\AppData\\Roaming\\jupyter\\nbextensions\\skip-traceback\\main.js\n",
      "[I 03:04:39 InstallContribNbextensionsApp] Up to date: C:\\Users\\Vugatri\\AppData\\Roaming\\jupyter\\nbextensions\\skip-traceback\\readme.md\n",
      "[I 03:04:39 InstallContribNbextensionsApp] Up to date: C:\\Users\\Vugatri\\AppData\\Roaming\\jupyter\\nbextensions\\skip-traceback\\skip-traceback.png\n",
      "[I 03:04:39 InstallContribNbextensionsApp] Up to date: C:\\Users\\Vugatri\\AppData\\Roaming\\jupyter\\nbextensions\\skip-traceback\\skip-traceback.yaml\n",
      "[I 03:04:39 InstallContribNbextensionsApp] Up to date: C:\\Users\\Vugatri\\AppData\\Roaming\\jupyter\\nbextensions\\skip-traceback\\traceback.png\n",
      "[I 03:04:39 InstallContribNbextensionsApp] - Validating: ok\n",
      "[I 03:04:39 InstallContribNbextensionsApp] Installing C:\\Users\\Vugatri\\Anaconda3\\lib\\site-packages\\jupyter_contrib_nbextensions\\nbextensions\\snippets -> snippets\n",
      "[I 03:04:39 InstallContribNbextensionsApp] Up to date: C:\\Users\\Vugatri\\AppData\\Roaming\\jupyter\\nbextensions\\snippets\\main.js\n",
      "[I 03:04:39 InstallContribNbextensionsApp] Up to date: C:\\Users\\Vugatri\\AppData\\Roaming\\jupyter\\nbextensions\\snippets\\README.md\n",
      "[I 03:04:39 InstallContribNbextensionsApp] Up to date: C:\\Users\\Vugatri\\AppData\\Roaming\\jupyter\\nbextensions\\snippets\\snippets-demo.gif\n",
      "[I 03:04:39 InstallContribNbextensionsApp] Up to date: C:\\Users\\Vugatri\\AppData\\Roaming\\jupyter\\nbextensions\\snippets\\snippets.json\n",
      "[I 03:04:39 InstallContribNbextensionsApp] Up to date: C:\\Users\\Vugatri\\AppData\\Roaming\\jupyter\\nbextensions\\snippets\\snippets.yaml\n",
      "[I 03:04:39 InstallContribNbextensionsApp] - Validating: ok\n",
      "[I 03:04:39 InstallContribNbextensionsApp] Installing C:\\Users\\Vugatri\\Anaconda3\\lib\\site-packages\\jupyter_contrib_nbextensions\\nbextensions\\snippets_menu -> snippets_menu\n",
      "[I 03:04:39 InstallContribNbextensionsApp] Up to date: C:\\Users\\Vugatri\\AppData\\Roaming\\jupyter\\nbextensions\\snippets_menu\\config.yaml\n",
      "[I 03:04:39 InstallContribNbextensionsApp] Up to date: C:\\Users\\Vugatri\\AppData\\Roaming\\jupyter\\nbextensions\\snippets_menu\\examples_for_custom.js\n",
      "[I 03:04:39 InstallContribNbextensionsApp] Up to date: C:\\Users\\Vugatri\\AppData\\Roaming\\jupyter\\nbextensions\\snippets_menu\\main.js\n",
      "[I 03:04:39 InstallContribNbextensionsApp] Up to date: C:\\Users\\Vugatri\\AppData\\Roaming\\jupyter\\nbextensions\\snippets_menu\\readme.md\n",
      "[I 03:04:39 InstallContribNbextensionsApp] Up to date: C:\\Users\\Vugatri\\AppData\\Roaming\\jupyter\\nbextensions\\snippets_menu\\screenshot1.png\n",
      "[I 03:04:39 InstallContribNbextensionsApp] Up to date: C:\\Users\\Vugatri\\AppData\\Roaming\\jupyter\\nbextensions\\snippets_menu\\screenshot2.png\n",
      "[I 03:04:39 InstallContribNbextensionsApp] Up to date: C:\\Users\\Vugatri\\AppData\\Roaming\\jupyter\\nbextensions\\snippets_menu\\screenshot3.png\n",
      "[I 03:04:39 InstallContribNbextensionsApp] Up to date: C:\\Users\\Vugatri\\AppData\\Roaming\\jupyter\\nbextensions\\snippets_menu\\snippets_menu.css\n",
      "[I 03:04:39 InstallContribNbextensionsApp] Up to date: C:\\Users\\Vugatri\\AppData\\Roaming\\jupyter\\nbextensions\\snippets_menu\\snippets_submenu_markdown.js\n",
      "[I 03:04:39 InstallContribNbextensionsApp] Up to date: C:\\Users\\Vugatri\\AppData\\Roaming\\jupyter\\nbextensions\\snippets_menu\\snippets_submenu_python.js\n",
      "[I 03:04:39 InstallContribNbextensionsApp] Up to date: C:\\Users\\Vugatri\\AppData\\Roaming\\jupyter\\nbextensions\\snippets_menu\\thumbnail.png\n",
      "[I 03:04:39 InstallContribNbextensionsApp] Up to date: C:\\Users\\Vugatri\\AppData\\Roaming\\jupyter\\nbextensions\\snippets_menu\\snippets_submenus_python\\astropy.js\n",
      "[I 03:04:39 InstallContribNbextensionsApp] Up to date: C:\\Users\\Vugatri\\AppData\\Roaming\\jupyter\\nbextensions\\snippets_menu\\snippets_submenus_python\\h5py.js\n",
      "[I 03:04:39 InstallContribNbextensionsApp] Up to date: C:\\Users\\Vugatri\\AppData\\Roaming\\jupyter\\nbextensions\\snippets_menu\\snippets_submenus_python\\matplotlib.js\n",
      "[I 03:04:39 InstallContribNbextensionsApp] Up to date: C:\\Users\\Vugatri\\AppData\\Roaming\\jupyter\\nbextensions\\snippets_menu\\snippets_submenus_python\\numba.js\n",
      "[I 03:04:39 InstallContribNbextensionsApp] Up to date: C:\\Users\\Vugatri\\AppData\\Roaming\\jupyter\\nbextensions\\snippets_menu\\snippets_submenus_python\\numpy.js\n",
      "[I 03:04:39 InstallContribNbextensionsApp] Up to date: C:\\Users\\Vugatri\\AppData\\Roaming\\jupyter\\nbextensions\\snippets_menu\\snippets_submenus_python\\numpy_polynomial.js\n",
      "[I 03:04:39 InstallContribNbextensionsApp] Up to date: C:\\Users\\Vugatri\\AppData\\Roaming\\jupyter\\nbextensions\\snippets_menu\\snippets_submenus_python\\numpy_ufuncs.js\n",
      "[I 03:04:39 InstallContribNbextensionsApp] Up to date: C:\\Users\\Vugatri\\AppData\\Roaming\\jupyter\\nbextensions\\snippets_menu\\snippets_submenus_python\\pandas.js\n",
      "[I 03:04:39 InstallContribNbextensionsApp] Up to date: C:\\Users\\Vugatri\\AppData\\Roaming\\jupyter\\nbextensions\\snippets_menu\\snippets_submenus_python\\python.js\n",
      "[I 03:04:39 InstallContribNbextensionsApp] Up to date: C:\\Users\\Vugatri\\AppData\\Roaming\\jupyter\\nbextensions\\snippets_menu\\snippets_submenus_python\\python_regex.js\n",
      "[I 03:04:39 InstallContribNbextensionsApp] Up to date: C:\\Users\\Vugatri\\AppData\\Roaming\\jupyter\\nbextensions\\snippets_menu\\snippets_submenus_python\\scipy.js\n",
      "[I 03:04:39 InstallContribNbextensionsApp] Up to date: C:\\Users\\Vugatri\\AppData\\Roaming\\jupyter\\nbextensions\\snippets_menu\\snippets_submenus_python\\scipy_constants.js\n",
      "[I 03:04:39 InstallContribNbextensionsApp] Up to date: C:\\Users\\Vugatri\\AppData\\Roaming\\jupyter\\nbextensions\\snippets_menu\\snippets_submenus_python\\scipy_special.js\n",
      "[I 03:04:39 InstallContribNbextensionsApp] Up to date: C:\\Users\\Vugatri\\AppData\\Roaming\\jupyter\\nbextensions\\snippets_menu\\snippets_submenus_python\\sympy.js\n",
      "[I 03:04:39 InstallContribNbextensionsApp] Up to date: C:\\Users\\Vugatri\\AppData\\Roaming\\jupyter\\nbextensions\\snippets_menu\\snippets_submenus_python\\sympy_assumptions.js\n",
      "[I 03:04:39 InstallContribNbextensionsApp] Up to date: C:\\Users\\Vugatri\\AppData\\Roaming\\jupyter\\nbextensions\\snippets_menu\\snippets_submenus_python\\sympy_functions.js\n",
      "[I 03:04:39 InstallContribNbextensionsApp] - Validating: ok\n",
      "[I 03:04:39 InstallContribNbextensionsApp] Installing C:\\Users\\Vugatri\\Anaconda3\\lib\\site-packages\\jupyter_contrib_nbextensions\\nbextensions\\spellchecker -> spellchecker\n",
      "[I 03:04:39 InstallContribNbextensionsApp] Up to date: C:\\Users\\Vugatri\\AppData\\Roaming\\jupyter\\nbextensions\\spellchecker\\config.yaml\n",
      "[I 03:04:39 InstallContribNbextensionsApp] Up to date: C:\\Users\\Vugatri\\AppData\\Roaming\\jupyter\\nbextensions\\spellchecker\\download_new_dict.py\n",
      "[I 03:04:39 InstallContribNbextensionsApp] Up to date: C:\\Users\\Vugatri\\AppData\\Roaming\\jupyter\\nbextensions\\spellchecker\\main.css\n",
      "[I 03:04:39 InstallContribNbextensionsApp] Up to date: C:\\Users\\Vugatri\\AppData\\Roaming\\jupyter\\nbextensions\\spellchecker\\main.js\n",
      "[I 03:04:39 InstallContribNbextensionsApp] Up to date: C:\\Users\\Vugatri\\AppData\\Roaming\\jupyter\\nbextensions\\spellchecker\\README.md\n",
      "[I 03:04:39 InstallContribNbextensionsApp] Up to date: C:\\Users\\Vugatri\\AppData\\Roaming\\jupyter\\nbextensions\\spellchecker\\screenshot.png\n",
      "[I 03:04:39 InstallContribNbextensionsApp] Up to date: C:\\Users\\Vugatri\\AppData\\Roaming\\jupyter\\nbextensions\\spellchecker\\typo\\LICENSE.txt\n",
      "[I 03:04:39 InstallContribNbextensionsApp] Up to date: C:\\Users\\Vugatri\\AppData\\Roaming\\jupyter\\nbextensions\\spellchecker\\typo\\typo.js\n",
      "[I 03:04:39 InstallContribNbextensionsApp] Up to date: C:\\Users\\Vugatri\\AppData\\Roaming\\jupyter\\nbextensions\\spellchecker\\__pycache__\\download_new_dict.cpython-39.pyc\n",
      "[I 03:04:39 InstallContribNbextensionsApp] - Validating: ok\n",
      "[I 03:04:39 InstallContribNbextensionsApp] Installing C:\\Users\\Vugatri\\Anaconda3\\lib\\site-packages\\jupyter_contrib_nbextensions\\nbextensions\\splitcell -> splitcell\n",
      "[I 03:04:39 InstallContribNbextensionsApp] Up to date: C:\\Users\\Vugatri\\AppData\\Roaming\\jupyter\\nbextensions\\splitcell\\icon.png\n",
      "[I 03:04:39 InstallContribNbextensionsApp] Up to date: C:\\Users\\Vugatri\\AppData\\Roaming\\jupyter\\nbextensions\\splitcell\\readme.md\n",
      "[I 03:04:39 InstallContribNbextensionsApp] Up to date: C:\\Users\\Vugatri\\AppData\\Roaming\\jupyter\\nbextensions\\splitcell\\splitcell.js\n",
      "[I 03:04:39 InstallContribNbextensionsApp] Up to date: C:\\Users\\Vugatri\\AppData\\Roaming\\jupyter\\nbextensions\\splitcell\\splitcell.yaml\n",
      "[I 03:04:39 InstallContribNbextensionsApp] - Validating: ok\n",
      "[I 03:04:39 InstallContribNbextensionsApp] Installing C:\\Users\\Vugatri\\Anaconda3\\lib\\site-packages\\jupyter_contrib_nbextensions\\nbextensions\\table_beautifier -> table_beautifier\n",
      "[I 03:04:39 InstallContribNbextensionsApp] Up to date: C:\\Users\\Vugatri\\AppData\\Roaming\\jupyter\\nbextensions\\table_beautifier\\main.css\n",
      "[I 03:04:39 InstallContribNbextensionsApp] Up to date: C:\\Users\\Vugatri\\AppData\\Roaming\\jupyter\\nbextensions\\table_beautifier\\main.js\n",
      "[I 03:04:39 InstallContribNbextensionsApp] Up to date: C:\\Users\\Vugatri\\AppData\\Roaming\\jupyter\\nbextensions\\table_beautifier\\README.md\n",
      "[I 03:04:39 InstallContribNbextensionsApp] Up to date: C:\\Users\\Vugatri\\AppData\\Roaming\\jupyter\\nbextensions\\table_beautifier\\table_beautifier.yaml\n",
      "[I 03:04:39 InstallContribNbextensionsApp] - Validating: ok\n",
      "[I 03:04:39 InstallContribNbextensionsApp] Installing C:\\Users\\Vugatri\\Anaconda3\\lib\\site-packages\\jupyter_contrib_nbextensions\\nbextensions\\toc2 -> toc2\n",
      "[I 03:04:39 InstallContribNbextensionsApp] Up to date: C:\\Users\\Vugatri\\AppData\\Roaming\\jupyter\\nbextensions\\toc2\\demo.gif\n",
      "[I 03:04:39 InstallContribNbextensionsApp] Up to date: C:\\Users\\Vugatri\\AppData\\Roaming\\jupyter\\nbextensions\\toc2\\demo2.gif\n",
      "[I 03:04:39 InstallContribNbextensionsApp] Up to date: C:\\Users\\Vugatri\\AppData\\Roaming\\jupyter\\nbextensions\\toc2\\demo3.gif\n",
      "[I 03:04:39 InstallContribNbextensionsApp] Up to date: C:\\Users\\Vugatri\\AppData\\Roaming\\jupyter\\nbextensions\\toc2\\demo_dark.png\n",
      "[I 03:04:39 InstallContribNbextensionsApp] Up to date: C:\\Users\\Vugatri\\AppData\\Roaming\\jupyter\\nbextensions\\toc2\\icon.png\n",
      "[I 03:04:39 InstallContribNbextensionsApp] Up to date: C:\\Users\\Vugatri\\AppData\\Roaming\\jupyter\\nbextensions\\toc2\\image.png\n",
      "[I 03:04:39 InstallContribNbextensionsApp] Up to date: C:\\Users\\Vugatri\\AppData\\Roaming\\jupyter\\nbextensions\\toc2\\main.css\n",
      "[I 03:04:39 InstallContribNbextensionsApp] Up to date: C:\\Users\\Vugatri\\AppData\\Roaming\\jupyter\\nbextensions\\toc2\\main.js\n",
      "[I 03:04:39 InstallContribNbextensionsApp] Up to date: C:\\Users\\Vugatri\\AppData\\Roaming\\jupyter\\nbextensions\\toc2\\README.md\n",
      "[I 03:04:39 InstallContribNbextensionsApp] Up to date: C:\\Users\\Vugatri\\AppData\\Roaming\\jupyter\\nbextensions\\toc2\\toc2.js\n",
      "[I 03:04:39 InstallContribNbextensionsApp] Up to date: C:\\Users\\Vugatri\\AppData\\Roaming\\jupyter\\nbextensions\\toc2\\toc2.yaml\n",
      "[I 03:04:39 InstallContribNbextensionsApp] - Validating: ok\n",
      "[I 03:04:39 InstallContribNbextensionsApp] Installing C:\\Users\\Vugatri\\Anaconda3\\lib\\site-packages\\jupyter_contrib_nbextensions\\nbextensions\\toggle_all_line_numbers -> toggle_all_line_numbers\n",
      "[I 03:04:39 InstallContribNbextensionsApp] Up to date: C:\\Users\\Vugatri\\AppData\\Roaming\\jupyter\\nbextensions\\toggle_all_line_numbers\\icon.png\n",
      "[I 03:04:39 InstallContribNbextensionsApp] Up to date: C:\\Users\\Vugatri\\AppData\\Roaming\\jupyter\\nbextensions\\toggle_all_line_numbers\\main.js\n",
      "[I 03:04:39 InstallContribNbextensionsApp] Up to date: C:\\Users\\Vugatri\\AppData\\Roaming\\jupyter\\nbextensions\\toggle_all_line_numbers\\main.yaml\n",
      "[I 03:04:39 InstallContribNbextensionsApp] Up to date: C:\\Users\\Vugatri\\AppData\\Roaming\\jupyter\\nbextensions\\toggle_all_line_numbers\\readme.md\n",
      "[I 03:04:39 InstallContribNbextensionsApp] - Validating: ok\n",
      "[I 03:04:39 InstallContribNbextensionsApp] Installing C:\\Users\\Vugatri\\Anaconda3\\lib\\site-packages\\jupyter_contrib_nbextensions\\nbextensions\\tree-filter -> tree-filter\n",
      "[I 03:04:39 InstallContribNbextensionsApp] Up to date: C:\\Users\\Vugatri\\AppData\\Roaming\\jupyter\\nbextensions\\tree-filter\\demo.gif\n",
      "[I 03:04:39 InstallContribNbextensionsApp] Up to date: C:\\Users\\Vugatri\\AppData\\Roaming\\jupyter\\nbextensions\\tree-filter\\index.js\n",
      "[I 03:04:39 InstallContribNbextensionsApp] Up to date: C:\\Users\\Vugatri\\AppData\\Roaming\\jupyter\\nbextensions\\tree-filter\\readme.md\n",
      "[I 03:04:39 InstallContribNbextensionsApp] Up to date: C:\\Users\\Vugatri\\AppData\\Roaming\\jupyter\\nbextensions\\tree-filter\\tree-filter.yaml\n",
      "[I 03:04:39 InstallContribNbextensionsApp] - Validating: ok\n",
      "[I 03:04:39 InstallContribNbextensionsApp] Installing C:\\Users\\Vugatri\\Anaconda3\\lib\\site-packages\\jupyter_contrib_nbextensions\\nbextensions\\varInspector -> varInspector\n",
      "[I 03:04:39 InstallContribNbextensionsApp] Up to date: C:\\Users\\Vugatri\\AppData\\Roaming\\jupyter\\nbextensions\\varInspector\\demo.gif\n",
      "[I 03:04:39 InstallContribNbextensionsApp] Up to date: C:\\Users\\Vugatri\\AppData\\Roaming\\jupyter\\nbextensions\\varInspector\\icon.png\n",
      "[I 03:04:39 InstallContribNbextensionsApp] Up to date: C:\\Users\\Vugatri\\AppData\\Roaming\\jupyter\\nbextensions\\varInspector\\jquery.tablesorter.min.js\n",
      "[I 03:04:39 InstallContribNbextensionsApp] Up to date: C:\\Users\\Vugatri\\AppData\\Roaming\\jupyter\\nbextensions\\varInspector\\main.css\n",
      "[I 03:04:39 InstallContribNbextensionsApp] Up to date: C:\\Users\\Vugatri\\AppData\\Roaming\\jupyter\\nbextensions\\varInspector\\main.js\n",
      "[I 03:04:39 InstallContribNbextensionsApp] Up to date: C:\\Users\\Vugatri\\AppData\\Roaming\\jupyter\\nbextensions\\varInspector\\README.md\n",
      "[I 03:04:39 InstallContribNbextensionsApp] Up to date: C:\\Users\\Vugatri\\AppData\\Roaming\\jupyter\\nbextensions\\varInspector\\tablesorter_LICENSE.txt\n",
      "[I 03:04:39 InstallContribNbextensionsApp] Up to date: C:\\Users\\Vugatri\\AppData\\Roaming\\jupyter\\nbextensions\\varInspector\\varInspector.yaml\n",
      "[I 03:04:39 InstallContribNbextensionsApp] Up to date: C:\\Users\\Vugatri\\AppData\\Roaming\\jupyter\\nbextensions\\varInspector\\var_list.py\n",
      "[I 03:04:39 InstallContribNbextensionsApp] Up to date: C:\\Users\\Vugatri\\AppData\\Roaming\\jupyter\\nbextensions\\varInspector\\var_list.r\n",
      "[I 03:04:39 InstallContribNbextensionsApp] Up to date: C:\\Users\\Vugatri\\AppData\\Roaming\\jupyter\\nbextensions\\varInspector\\__pycache__\\var_list.cpython-39.pyc\n",
      "[I 03:04:39 InstallContribNbextensionsApp] - Validating: ok\n",
      "[I 03:04:39 InstallContribNbextensionsApp] Installing C:\\Users\\Vugatri\\Anaconda3\\lib\\site-packages\\jupyter_contrib_nbextensions\\nbextensions\\zenmode -> zenmode\n",
      "[I 03:04:39 InstallContribNbextensionsApp] Up to date: C:\\Users\\Vugatri\\AppData\\Roaming\\jupyter\\nbextensions\\zenmode\\main.css\n",
      "[I 03:04:39 InstallContribNbextensionsApp] Up to date: C:\\Users\\Vugatri\\AppData\\Roaming\\jupyter\\nbextensions\\zenmode\\main.js\n",
      "[I 03:04:39 InstallContribNbextensionsApp] Up to date: C:\\Users\\Vugatri\\AppData\\Roaming\\jupyter\\nbextensions\\zenmode\\README.md\n",
      "[I 03:04:39 InstallContribNbextensionsApp] Up to date: C:\\Users\\Vugatri\\AppData\\Roaming\\jupyter\\nbextensions\\zenmode\\zenmode.yaml\n",
      "[I 03:04:39 InstallContribNbextensionsApp] Up to date: C:\\Users\\Vugatri\\AppData\\Roaming\\jupyter\\nbextensions\\zenmode\\images\\back1.jpg\n",
      "[I 03:04:39 InstallContribNbextensionsApp] Up to date: C:\\Users\\Vugatri\\AppData\\Roaming\\jupyter\\nbextensions\\zenmode\\images\\back11.jpg\n",
      "[I 03:04:39 InstallContribNbextensionsApp] Up to date: C:\\Users\\Vugatri\\AppData\\Roaming\\jupyter\\nbextensions\\zenmode\\images\\back12.jpg\n",
      "[I 03:04:39 InstallContribNbextensionsApp] Up to date: C:\\Users\\Vugatri\\AppData\\Roaming\\jupyter\\nbextensions\\zenmode\\images\\back2.jpg\n",
      "[I 03:04:39 InstallContribNbextensionsApp] Up to date: C:\\Users\\Vugatri\\AppData\\Roaming\\jupyter\\nbextensions\\zenmode\\images\\back21.jpg\n",
      "[I 03:04:39 InstallContribNbextensionsApp] Up to date: C:\\Users\\Vugatri\\AppData\\Roaming\\jupyter\\nbextensions\\zenmode\\images\\back22.jpg\n",
      "[I 03:04:39 InstallContribNbextensionsApp] Up to date: C:\\Users\\Vugatri\\AppData\\Roaming\\jupyter\\nbextensions\\zenmode\\images\\back3.jpg\n",
      "[I 03:04:39 InstallContribNbextensionsApp] Up to date: C:\\Users\\Vugatri\\AppData\\Roaming\\jupyter\\nbextensions\\zenmode\\images\\ipynblogo0.png\n",
      "[I 03:04:39 InstallContribNbextensionsApp] Up to date: C:\\Users\\Vugatri\\AppData\\Roaming\\jupyter\\nbextensions\\zenmode\\images\\ipynblogo1.png\n",
      "[I 03:04:39 InstallContribNbextensionsApp] - Validating: ok\n",
      "[I 03:04:39 InstallContribNbextensionsApp] Installing C:\\Users\\Vugatri\\Anaconda3\\lib\\site-packages\\jupyter_highlight_selected_word\\static\\highlight_selected_word -> highlight_selected_word\n",
      "[I 03:04:39 InstallContribNbextensionsApp] Up to date: C:\\Users\\Vugatri\\AppData\\Roaming\\jupyter\\nbextensions\\highlight_selected_word\\configurator.yaml\n",
      "[I 03:04:39 InstallContribNbextensionsApp] Up to date: C:\\Users\\Vugatri\\AppData\\Roaming\\jupyter\\nbextensions\\highlight_selected_word\\main.js\n",
      "[I 03:04:39 InstallContribNbextensionsApp] Up to date: C:\\Users\\Vugatri\\AppData\\Roaming\\jupyter\\nbextensions\\highlight_selected_word\\README.md\n",
      "[I 03:04:39 InstallContribNbextensionsApp] - Validating: ok\n",
      "[I 03:04:39 InstallContribNbextensionsApp] Installing C:\\Users\\Vugatri\\Anaconda3\\lib\\site-packages\\latex_envs\\static -> latex_envs\n",
      "[I 03:04:39 InstallContribNbextensionsApp] Up to date: C:\\Users\\Vugatri\\AppData\\Roaming\\jupyter\\nbextensions\\latex_envs\\bibInNb4.js\n",
      "[I 03:04:39 InstallContribNbextensionsApp] Up to date: C:\\Users\\Vugatri\\AppData\\Roaming\\jupyter\\nbextensions\\latex_envs\\bibtex2.js\n",
      "[I 03:04:39 InstallContribNbextensionsApp] Up to date: C:\\Users\\Vugatri\\AppData\\Roaming\\jupyter\\nbextensions\\latex_envs\\configuration_toolbar.png\n",
      "[I 03:04:39 InstallContribNbextensionsApp] Up to date: C:\\Users\\Vugatri\\AppData\\Roaming\\jupyter\\nbextensions\\latex_envs\\envsLatex.js\n",
      "[I 03:04:39 InstallContribNbextensionsApp] Up to date: C:\\Users\\Vugatri\\AppData\\Roaming\\jupyter\\nbextensions\\latex_envs\\envsLatex.json\n",
      "[I 03:04:39 InstallContribNbextensionsApp] Up to date: C:\\Users\\Vugatri\\AppData\\Roaming\\jupyter\\nbextensions\\latex_envs\\example.png\n",
      "[I 03:04:39 InstallContribNbextensionsApp] Up to date: C:\\Users\\Vugatri\\AppData\\Roaming\\jupyter\\nbextensions\\latex_envs\\example_user_envs.json\n",
      "[I 03:04:39 InstallContribNbextensionsApp] Up to date: C:\\Users\\Vugatri\\AppData\\Roaming\\jupyter\\nbextensions\\latex_envs\\icon.png\n",
      "[I 03:04:39 InstallContribNbextensionsApp] Up to date: C:\\Users\\Vugatri\\AppData\\Roaming\\jupyter\\nbextensions\\latex_envs\\initNb.js\n",
      "[I 03:04:39 InstallContribNbextensionsApp] Up to date: C:\\Users\\Vugatri\\AppData\\Roaming\\jupyter\\nbextensions\\latex_envs\\latex_envs.css\n",
      "[I 03:04:39 InstallContribNbextensionsApp] Up to date: C:\\Users\\Vugatri\\AppData\\Roaming\\jupyter\\nbextensions\\latex_envs\\latex_envs.js\n",
      "[I 03:04:39 InstallContribNbextensionsApp] Up to date: C:\\Users\\Vugatri\\AppData\\Roaming\\jupyter\\nbextensions\\latex_envs\\latex_envs.yaml\n",
      "[I 03:04:39 InstallContribNbextensionsApp] Up to date: C:\\Users\\Vugatri\\AppData\\Roaming\\jupyter\\nbextensions\\latex_envs\\main_toolbar.png\n",
      "[I 03:04:39 InstallContribNbextensionsApp] Up to date: C:\\Users\\Vugatri\\AppData\\Roaming\\jupyter\\nbextensions\\latex_envs\\README.md\n",
      "[I 03:04:39 InstallContribNbextensionsApp] Up to date: C:\\Users\\Vugatri\\AppData\\Roaming\\jupyter\\nbextensions\\latex_envs\\thmsInNb4.js\n",
      "[I 03:04:39 InstallContribNbextensionsApp] Up to date: C:\\Users\\Vugatri\\AppData\\Roaming\\jupyter\\nbextensions\\latex_envs\\doc\\biblio_ipython.bib\n",
      "[I 03:04:39 InstallContribNbextensionsApp] Up to date: C:\\Users\\Vugatri\\AppData\\Roaming\\jupyter\\nbextensions\\latex_envs\\doc\\configuration_toolbar.png\n",
      "[I 03:04:39 InstallContribNbextensionsApp] Up to date: C:\\Users\\Vugatri\\AppData\\Roaming\\jupyter\\nbextensions\\latex_envs\\doc\\config_toolbar.png\n",
      "[I 03:04:39 InstallContribNbextensionsApp] Up to date: C:\\Users\\Vugatri\\AppData\\Roaming\\jupyter\\nbextensions\\latex_envs\\doc\\documentation.pdf\n",
      "[I 03:04:39 InstallContribNbextensionsApp] Up to date: C:\\Users\\Vugatri\\AppData\\Roaming\\jupyter\\nbextensions\\latex_envs\\doc\\documentation.tex\n",
      "[I 03:04:39 InstallContribNbextensionsApp] Up to date: C:\\Users\\Vugatri\\AppData\\Roaming\\jupyter\\nbextensions\\latex_envs\\doc\\example.png\n",
      "[I 03:04:39 InstallContribNbextensionsApp] Up to date: C:\\Users\\Vugatri\\AppData\\Roaming\\jupyter\\nbextensions\\latex_envs\\doc\\header.tex\n",
      "[I 03:04:39 InstallContribNbextensionsApp] Up to date: C:\\Users\\Vugatri\\AppData\\Roaming\\jupyter\\nbextensions\\latex_envs\\doc\\IEEEtran.bst\n",
      "[I 03:04:39 InstallContribNbextensionsApp] Up to date: C:\\Users\\Vugatri\\AppData\\Roaming\\jupyter\\nbextensions\\latex_envs\\doc\\LaTeX_envs_menu.png\n",
      "[I 03:04:39 InstallContribNbextensionsApp] Up to date: C:\\Users\\Vugatri\\AppData\\Roaming\\jupyter\\nbextensions\\latex_envs\\doc\\latex_env_doc.html\n",
      "[I 03:04:39 InstallContribNbextensionsApp] Up to date: C:\\Users\\Vugatri\\AppData\\Roaming\\jupyter\\nbextensions\\latex_envs\\doc\\latex_env_doc.ipynb\n",
      "[I 03:04:39 InstallContribNbextensionsApp] Up to date: C:\\Users\\Vugatri\\AppData\\Roaming\\jupyter\\nbextensions\\latex_envs\\doc\\latex_env_doc.tex\n",
      "[I 03:04:39 InstallContribNbextensionsApp] Up to date: C:\\Users\\Vugatri\\AppData\\Roaming\\jupyter\\nbextensions\\latex_envs\\doc\\main_toolbar.png\n",
      "[I 03:04:39 InstallContribNbextensionsApp] Up to date: C:\\Users\\Vugatri\\AppData\\Roaming\\jupyter\\nbextensions\\latex_envs\\doc\\README.md\n",
      "[I 03:04:39 InstallContribNbextensionsApp] Up to date: C:\\Users\\Vugatri\\AppData\\Roaming\\jupyter\\nbextensions\\latex_envs\\doc\\Toggles.png\n",
      "[I 03:04:39 InstallContribNbextensionsApp] Up to date: C:\\Users\\Vugatri\\AppData\\Roaming\\jupyter\\nbextensions\\latex_envs\\doc\\.ipynb_checkpoints\\latex_env_doc-checkpoint.ipynb\n",
      "[I 03:04:39 InstallContribNbextensionsApp] Up to date: C:\\Users\\Vugatri\\AppData\\Roaming\\jupyter\\nbextensions\\latex_envs\\doc\\latex_env_doc_files\\latex_env_doc_23_2.png\n",
      "[I 03:04:39 InstallContribNbextensionsApp] Up to date: C:\\Users\\Vugatri\\AppData\\Roaming\\jupyter\\nbextensions\\latex_envs\\doc\\latex_env_doc_files\\latex_env_doc_24_2.png\n",
      "[I 03:04:39 InstallContribNbextensionsApp] Up to date: C:\\Users\\Vugatri\\AppData\\Roaming\\jupyter\\nbextensions\\latex_envs\\doc\\latex_env_doc_files\\latex_env_doc_26_2.png\n",
      "[I 03:04:39 InstallContribNbextensionsApp] Up to date: C:\\Users\\Vugatri\\AppData\\Roaming\\jupyter\\nbextensions\\latex_envs\\doc\\latex_env_doc_files\\latex_env_doc_27_2.png\n",
      "[I 03:04:39 InstallContribNbextensionsApp] Up to date: C:\\Users\\Vugatri\\AppData\\Roaming\\jupyter\\nbextensions\\latex_envs\\doc\\latex_env_doc_files\\latex_env_doc_41_0.png\n",
      "[I 03:04:39 InstallContribNbextensionsApp] Up to date: C:\\Users\\Vugatri\\AppData\\Roaming\\jupyter\\nbextensions\\latex_envs\\doc\\latex_env_doc_files\\latex_env_doc_42_0.png\n",
      "[I 03:04:39 InstallContribNbextensionsApp] Up to date: C:\\Users\\Vugatri\\AppData\\Roaming\\jupyter\\nbextensions\\latex_envs\\doc\\latex_env_doc_files\\latex_env_doc_43_0.png\n",
      "[I 03:04:39 InstallContribNbextensionsApp] Up to date: C:\\Users\\Vugatri\\AppData\\Roaming\\jupyter\\nbextensions\\latex_envs\\doc\\latex_env_doc_files\\latex_env_doc_44_0.png\n",
      "[I 03:04:39 InstallContribNbextensionsApp] Up to date: C:\\Users\\Vugatri\\AppData\\Roaming\\jupyter\\nbextensions\\latex_envs\\doc\\latex_env_doc_files\\latex_env_doc_45_0.png\n",
      "[I 03:04:39 InstallContribNbextensionsApp] Up to date: C:\\Users\\Vugatri\\AppData\\Roaming\\jupyter\\nbextensions\\latex_envs\\doc\\latex_env_doc_files\\latex_env_doc_46_0.png\n",
      "[I 03:04:39 InstallContribNbextensionsApp] Up to date: C:\\Users\\Vugatri\\AppData\\Roaming\\jupyter\\nbextensions\\latex_envs\\doc\\latex_env_doc_files\\latex_env_doc_47_0.png\n",
      "[I 03:04:39 InstallContribNbextensionsApp] Up to date: C:\\Users\\Vugatri\\AppData\\Roaming\\jupyter\\nbextensions\\latex_envs\\doc\\latex_env_doc_files\\latex_env_doc_48_0.png\n",
      "[I 03:04:39 InstallContribNbextensionsApp] Up to date: C:\\Users\\Vugatri\\AppData\\Roaming\\jupyter\\nbextensions\\latex_envs\\doc\\latex_env_doc_files\\latex_env_doc_49_0.png\n",
      "[I 03:04:39 InstallContribNbextensionsApp] Up to date: C:\\Users\\Vugatri\\AppData\\Roaming\\jupyter\\nbextensions\\latex_envs\\doc\\latex_env_doc_files\\latex_env_doc_50_0.png\n",
      "[I 03:04:39 InstallContribNbextensionsApp] Up to date: C:\\Users\\Vugatri\\AppData\\Roaming\\jupyter\\nbextensions\\latex_envs\\doc\\latex_env_doc_files\\latex_env_doc_51_0.png\n",
      "[I 03:04:39 InstallContribNbextensionsApp] Up to date: C:\\Users\\Vugatri\\AppData\\Roaming\\jupyter\\nbextensions\\latex_envs\\doc\\latex_env_doc_files\\latex_env_doc_52_0.png\n",
      "[I 03:04:39 InstallContribNbextensionsApp] - Validating: ok\n",
      "[I 03:04:39 InstallContribNbextensionsApp] Installing jupyter_contrib_nbextensions items to config in C:\\Users\\Vugatri\\.jupyter\n",
      "Enabling: jupyter_nbextensions_configurator\n",
      "- Writing config: C:\\Users\\Vugatri\\.jupyter\n",
      "    - Validating...\n",
      "      jupyter_nbextensions_configurator 0.4.1 ok\n",
      "Enabling notebook nbextension nbextensions_configurator/config_menu/main...\n",
      "Enabling tree nbextension nbextensions_configurator/tree_tab/main...\n",
      "[I 03:04:39 InstallContribNbextensionsApp] Enabling notebook extension contrib_nbextensions_help_item/main...\n",
      "[I 03:04:39 InstallContribNbextensionsApp]       - Validating: ok\n",
      "[I 03:04:39 InstallContribNbextensionsApp] - Editing config: C:\\Users\\Vugatri\\.jupyter\\jupyter_nbconvert_config.json\n",
      "[I 03:04:39 InstallContribNbextensionsApp] --  Configuring nbconvert template path\n",
      "[I 03:04:39 InstallContribNbextensionsApp] --  Configuring nbconvert preprocessors\n",
      "[I 03:04:39 InstallContribNbextensionsApp] - Writing config: C:\\Users\\Vugatri\\.jupyter\\jupyter_nbconvert_config.json\n",
      "[I 03:04:39 InstallContribNbextensionsApp] --  Writing updated config file C:\\Users\\Vugatri\\.jupyter\\jupyter_nbconvert_config.json\n"
     ]
    }
   ],
   "source": [
    "!jupyter contrib nbextension install --user"
   ]
  },
  {
   "cell_type": "code",
   "execution_count": null,
   "id": "eac58d6c",
   "metadata": {},
   "outputs": [],
   "source": [
    "import pandas as pd\n"
   ]
  },
  {
   "cell_type": "code",
   "execution_count": 3,
   "id": "e0b9cbec",
   "metadata": {},
   "outputs": [
    {
     "name": "stdout",
     "output_type": "stream",
     "text": [
      "# printing the tuples in object directly\n",
      "(0, 'eat')\n",
      "(1, 'sleep')\n",
      "(2, 'repeat')\n",
      "changing index and printing separately\n",
      "100 eat\n",
      "101 sleep\n",
      "102 repeat\n",
      "getting desired output from tuple\n",
      "0\n",
      "eat\n",
      "1\n",
      "sleep\n",
      "2\n",
      "repeat\n"
     ]
    }
   ],
   "source": [
    "# Python program to illustrate\n",
    "# enumerate function in loops\n",
    "l1 = [\"eat\", \"sleep\", \"repeat\"]\n",
    "\n",
    "print(\"# printing the tuples in object directly\")\n",
    "\n",
    "# printing the tuples in object directly\n",
    "for ele in enumerate(l1):\n",
    "    print (ele)\n",
    "\n",
    "print('changing index and printing separately')\n",
    "# changing index and printing separately\n",
    "for count, ele in enumerate(l1, 100):\n",
    "    print (count, ele)\n",
    "print('getting desired output from tuple')  \n",
    "# getting desired output from tuple\n",
    "for count, ele in enumerate(l1):\n",
    "    print(count)\n",
    "    print(ele)"
   ]
  },
  {
   "cell_type": "markdown",
   "id": "137e827a",
   "metadata": {},
   "source": [
    "# OTHER EXAMPLES"
   ]
  },
  {
   "cell_type": "code",
   "execution_count": 4,
   "id": "8783ed7b",
   "metadata": {},
   "outputs": [
    {
     "name": "stdout",
     "output_type": "stream",
     "text": [
      "[(0, 'Python'), (1, 'Java'), (2, 'JavaScript')]\n"
     ]
    }
   ],
   "source": [
    "languages = ['Python', 'Java', 'JavaScript']\n",
    "\n",
    "enumerate_prime = enumerate(languages)\n",
    "\n",
    "# convert enumerate object to list\n",
    "print(list(enumerate_prime))\n",
    "\n",
    "# Output: [(0, 'Python'), (1, 'Java'), (2, 'JavaScript')]"
   ]
  },
  {
   "cell_type": "code",
   "execution_count": 5,
   "id": "000fdcab",
   "metadata": {},
   "outputs": [
    {
     "name": "stdout",
     "output_type": "stream",
     "text": [
      "<class 'enumerate'>\n",
      "[(0, 'bread'), (1, 'milk'), (2, 'butter')]\n",
      "[(10, 'bread'), (11, 'milk'), (12, 'butter')]\n"
     ]
    }
   ],
   "source": [
    "grocery = ['bread', 'milk', 'butter']\n",
    "enumerateGrocery = enumerate(grocery)\n",
    "\n",
    "\n",
    "print(type(enumerateGrocery))\n",
    "\n",
    "# converting to list\n",
    "print(list(enumerateGrocery))\n",
    "\n",
    "# changing the default counter\n",
    "enumerateGrocery = enumerate(grocery, 10)\n",
    "\n",
    "print(list(enumerateGrocery))"
   ]
  },
  {
   "cell_type": "code",
   "execution_count": 6,
   "id": "ea7c20fb",
   "metadata": {},
   "outputs": [
    {
     "name": "stdout",
     "output_type": "stream",
     "text": [
      "(0, 'bread')\n",
      "(1, 'milk')\n",
      "(2, 'butter')\n",
      "\n",
      "\n",
      "0 bread\n",
      "1 milk\n",
      "2 butter\n",
      "\n",
      "\n",
      "100 bread\n",
      "101 milk\n",
      "102 butter\n"
     ]
    }
   ],
   "source": [
    "grocery = ['bread', 'milk', 'butter']\n",
    "\n",
    "for item in enumerate(grocery):\n",
    "  print(item)\n",
    "\n",
    "\n",
    "print('\\n')\n",
    "\n",
    "for count, item in enumerate(grocery):\n",
    "  print(count, item)\n",
    "\n",
    "\n",
    "print('\\n')\n",
    "# changing default start value\n",
    "for count, item in enumerate(grocery, 100):\n",
    "  print(count, item)"
   ]
  },
  {
   "cell_type": "markdown",
   "id": "d710e334",
   "metadata": {},
   "source": [
    "### Enumerating a Tuple\n",
    "\n",
    "In the below example, you can use a tuple inside an enumerate. You can also use a startIndex, and the key to each item will start from the startIndexgiven.\n",
    "\n",
    "By default, the startIndex is 0. There, hence you see key as 0 for items A and 1 for B and so on.\n",
    "\n",
    "Example:"
   ]
  },
  {
   "cell_type": "code",
   "execution_count": 7,
   "id": "b34f2d51",
   "metadata": {},
   "outputs": [
    {
     "name": "stdout",
     "output_type": "stream",
     "text": [
      "(0, 'A')\n",
      "(1, 'B')\n",
      "(2, 'C')\n",
      "(3, 'D')\n",
      "(4, 'E')\n"
     ]
    }
   ],
   "source": [
    "my_tuple = (\"A\", \"B\", \"C\", \"D\", \"E\")\n",
    "for i in enumerate(my_tuple):\n",
    "  print(i)"
   ]
  },
  {
   "cell_type": "markdown",
   "id": "50317594",
   "metadata": {},
   "source": [
    "### Enumerating a String\n",
    "\n",
    "In Python, the string is an array, and hence you can loop over it. If you pass a string to enumerate(), the output will show you the index and value for each character of the string."
   ]
  },
  {
   "cell_type": "code",
   "execution_count": 8,
   "id": "bc2e840b",
   "metadata": {},
   "outputs": [
    {
     "name": "stdout",
     "output_type": "stream",
     "text": [
      "(0, 'G')\n",
      "(1, 'u')\n",
      "(2, 'r')\n",
      "(3, 'u')\n",
      "(4, '9')\n",
      "(5, '9')\n",
      "(6, ' ')\n"
     ]
    }
   ],
   "source": [
    "my_str = \"Guru99 \"\n",
    "for i in enumerate(my_str):\n",
    "  print(i)"
   ]
  },
  {
   "cell_type": "markdown",
   "id": "2ecb5568",
   "metadata": {},
   "source": [
    "### Enumerate a dictionary\n",
    "\n",
    "In Python, a dictionary is listed in curly brackets, inside these curly brackets, the values are declared.\n",
    "\n",
    "Each element is a key/value pair and separated by commas. You can use a dictionary inside a enumerate() and see the output."
   ]
  },
  {
   "cell_type": "code",
   "execution_count": 10,
   "id": "cb666d3a",
   "metadata": {},
   "outputs": [
    {
     "name": "stdout",
     "output_type": "stream",
     "text": [
      "(0, 'a')\n",
      "(1, 'b')\n",
      "(2, 'c')\n",
      "(3, 'd')\n"
     ]
    }
   ],
   "source": [
    "my_dict = {\"a\": \"PHP\", \"b\":\"JAVA\", \"c\":\"PYTHON\", \"d\":\"NODEJS\"}\n",
    "for i in enumerate(my_dict):\n",
    "    print(i)"
   ]
  },
  {
   "cell_type": "code",
   "execution_count": 12,
   "id": "66e079b2",
   "metadata": {},
   "outputs": [
    {
     "name": "stdout",
     "output_type": "stream",
     "text": [
      "0 a\n",
      "1 b\n",
      "2 c\n",
      "3 d\n"
     ]
    }
   ],
   "source": [
    "my_dict = {\"a\": \"PHP\", \"b\":\"JAVA\", \"c\":\"PYTHON\", \"d\":\"NODEJS\"}\n",
    "for i,j in enumerate(my_dict):\n",
    "    print(i,j)\n",
    "    #print(j)\n"
   ]
  },
  {
   "cell_type": "markdown",
   "id": "c65fb20e",
   "metadata": {},
   "source": [
    "### Advantages of using Enumerate\n",
    "\n",
    "Here, are pros/benefits of using Enumerate in Python:\n",
    "\n",
    "    Enumerate allows you to loop through a list, tuple, dictionary, string, and gives the values along with the index.\n",
    "    To get index value using for-loop, you can make use of list.index(n). However, list.index(n) is very expensive as it will traverse the for-loop twice. Enumerate is very helpful in such a case as it gives the index and items at one go.\n",
    "\n",
    "### Summary\n",
    "\n",
    "    Enumerate() function is a built-in function available with python. Enumerate() function adds a counter to each item of the iterable object and returns an enumerate object.\n",
    "    In Enumeration in Python, you can specify the startIndex, i.e., the counter you want the values to start from.\n",
    "    Enumerate can be used to loop over a list, tuple, dictionary, and string.\n",
    "    Enumerate is very helpful when you want the index and the value when looping over list, tuple, dictionary, etc.\n",
    "    Enumerate comes with an automatic counter/index to each of the items present in the list. The first index value will start from 0. You can also specify the startindex by using the optional parameter startIndex in enumerate.\n",
    "    If you pass a string to enumerate(), the output will show you the index and value for each character of the string.\n",
    "\n",
    "You Might Like:\n",
    "\n",
    "    Python OOPs: Class, Object, Inheritance and Constructor with Example\n",
    "    Python Tutorial PDF: Basics for Beginners (Download Notes)\n",
    "    Python vs JavaScript: Key Difference Between Them\n",
    "    Python Matrix: Transpose, Multiplication, NumPy Arrays Examples\n",
    "    Swap two numbers without using a third variable: C, Python Program\n",
    "\n"
   ]
  },
  {
   "cell_type": "markdown",
   "id": "a353908b",
   "metadata": {},
   "source": [
    "# PYTHON COUNTER"
   ]
  },
  {
   "cell_type": "markdown",
   "id": "5a5d8d03",
   "metadata": {},
   "source": [
    "\n",
    "What is Python Counter?\n",
    "\n",
    "Python Counter is a container that will hold the count of each of the elements present in the container. The counter is a sub-class available inside the dictionary class.\n",
    "\n",
    "The counter is a sub-class available inside the dictionary class. Using the Python Counter tool, you can count the key-value pairs in an object, also called a hash table object.\n",
    "Why use Python Counter?\n",
    "\n",
    "Here, are major reasons for using Python 3 Counter:\n",
    "\n",
    "    The Counter holds the data in an unordered collection, just like hashtable objects. The elements here represent the keys and the count as values.\n",
    "    It allows you to count the items in an iterable list.\n",
    "    Arithmetic operations like addition, subtraction, intersection, and union can be easily performed on a Counter.\n",
    "    A Counter can also count elements from another counter\n"
   ]
  },
  {
   "cell_type": "markdown",
   "id": "bd429bc3",
   "metadata": {},
   "source": [
    "#### Introduction to Python Counter\n",
    "\n",
    "Python Counter takes in input a list, tuple, dictionary, string, which are all iterable objects, and it will give you output that will have the count of each element.\n",
    "\n",
    "Syntax:\n",
    "\n",
    "Counter(list)\n"
   ]
  },
  {
   "cell_type": "code",
   "execution_count": 15,
   "id": "7cbfc635",
   "metadata": {},
   "outputs": [
    {
     "name": "stdout",
     "output_type": "stream",
     "text": [
      "Counter({'x': 4, 'y': 2, 'z': 2})\n"
     ]
    }
   ],
   "source": [
    "from collections import Counter\n",
    "list1 = ['x','y','z','x','x','x','y', 'z']\n",
    "print(Counter(list1))\n",
    "\n"
   ]
  },
  {
   "cell_type": "markdown",
   "id": "03b8859d",
   "metadata": {},
   "source": [
    "### Counter with String\n",
    "\n",
    "In Python, everything is an object and string is an object too. Python string can be created simply by enclosing characters in the double quote. Python does not support a character type. These are treated as strings of length one, also considered as a substring.\n",
    "\n",
    "In the example below, a string is passed to Counter. It returns dictionary format, with key/value pair where the key is the element and value is the count. It also considers space as an element and gives the count of spaces in the string.\n",
    "\n",
    "Example:"
   ]
  },
  {
   "cell_type": "code",
   "execution_count": 16,
   "id": "c29da1d7",
   "metadata": {},
   "outputs": [
    {
     "name": "stdout",
     "output_type": "stream",
     "text": [
      "Counter({'o': 3, ' ': 3, 'u': 3, 'e': 2, 'l': 2, 't': 2, 'r': 2, '9': 2, 'W': 1, 'c': 1, 'm': 1, 'G': 1, 'T': 1, 'i': 1, 'a': 1, 's': 1, '!': 1})\n"
     ]
    }
   ],
   "source": [
    "from collections import Counter\n",
    "my_str = \"Welcome to Guru99 Tutorials!\"\n",
    "print(Counter(my_str))"
   ]
  },
  {
   "cell_type": "markdown",
   "id": "19dbcce4",
   "metadata": {},
   "source": [
    "### Counter with List\n",
    "\n",
    "A list is an iterable object that has its elements inside square brackets.\n",
    "\n",
    "The elements in the list when given to the Counter will be converted to a hashtable objects wherein the elements will become keys and the values will be the count of the elements from the list given.\n",
    "\n",
    "For example [‘x’,’y’,’z’,’x’,’x’,’x’,’y’,’z’]. Once you give the list the Counter, it will give you the count of each element in the list."
   ]
  },
  {
   "cell_type": "code",
   "execution_count": 17,
   "id": "4e68559d",
   "metadata": {},
   "outputs": [
    {
     "name": "stdout",
     "output_type": "stream",
     "text": [
      "Counter({'x': 4, 'y': 2, 'z': 2})\n"
     ]
    }
   ],
   "source": [
    "from collections import Counter\n",
    "list1 = ['x','y','z','x','x','x','y','z']\n",
    "print(Counter(list1))"
   ]
  },
  {
   "cell_type": "markdown",
   "id": "900f4d1f",
   "metadata": {},
   "source": [
    "### Counter with Dictionary\n",
    "\n",
    "A dictionary has elements as key/value pair, and they are written inside curly brackets.\n",
    "\n",
    "Once the dictionary is given to the Counter, it will be converted to a hashtable objects wherein the elements will become keys, and the values will be the count of the elements from the dictionary given.\n",
    "\n",
    "For example : {‘x’: 4, ‘y’: 2, ‘z’: 2, ‘z’: 2}. The Counter function will try to find the count of each of the key in the given dictionary."
   ]
  },
  {
   "cell_type": "code",
   "execution_count": 18,
   "id": "d90c1369",
   "metadata": {},
   "outputs": [
    {
     "name": "stdout",
     "output_type": "stream",
     "text": [
      "Counter({'x': 4, 'y': 2, 'z': 2})\n"
     ]
    }
   ],
   "source": [
    "from collections import Counter\n",
    "dict1 =  {'x': 4, 'y': 2, 'z': 2, 'z': 2}\n",
    "print(Counter(dict1))"
   ]
  },
  {
   "cell_type": "markdown",
   "id": "e78e0b62",
   "metadata": {},
   "source": [
    "### Counter with Tuple\n",
    "\n",
    "Tuple is a collection of objects separated by commas inside round brackets. Counter will give you the count of each of the elements in the tuple given.\n",
    "\n",
    "Once the tuple is given to the Counter, it will be converted to a hashtable object wherein the elements will become keys and the values will be the count of the elements from the tuple given."
   ]
  },
  {
   "cell_type": "code",
   "execution_count": 19,
   "id": "15bf6896",
   "metadata": {},
   "outputs": [
    {
     "name": "stdout",
     "output_type": "stream",
     "text": [
      "Counter({'x': 4, 'y': 2, 'z': 2})\n"
     ]
    }
   ],
   "source": [
    "from collections import Counter\n",
    "tuple1 = ('x','y','z','x','x','x','y','z')\n",
    "print(Counter(tuple1))"
   ]
  },
  {
   "cell_type": "markdown",
   "id": "842b414a",
   "metadata": {},
   "source": [
    "# Accessing, Initializing and Updating Counters\n",
    "### Initializing Counter\n",
    "\n",
    "A Counter can be initialized by passing string value, list, dictionary, or tuple as shown below:"
   ]
  },
  {
   "cell_type": "code",
   "execution_count": 20,
   "id": "ed5900a8",
   "metadata": {},
   "outputs": [
    {
     "name": "stdout",
     "output_type": "stream",
     "text": [
      "Counter({'o': 3, ' ': 3, 'u': 3, 'e': 2, 'l': 2, 't': 2, 'r': 2, '9': 2, 'W': 1, 'c': 1, 'm': 1, 'G': 1, 'T': 1, 'i': 1, 'a': 1, 's': 1, '!': 1})\n",
      "Counter({'x': 4, 'y': 2, 'z': 2})\n",
      "Counter({'x': 4, 'y': 2, 'z': 2})\n",
      "Counter({'x': 4, 'y': 2, 'z': 2})\n"
     ]
    }
   ],
   "source": [
    "from collections import Counter\n",
    "print(Counter(\"Welcome to Guru99 Tutorials!\"))   #using string\n",
    "print(Counter(['x','y','z','x','x','x','y', 'z'])) #using list\n",
    "print(Counter({'x': 4, 'y': 2, 'z': 2})) #using dictionary\n",
    "print(Counter(('x','y','z','x','x','x','y', 'z'))) #using tuple"
   ]
  },
  {
   "cell_type": "code",
   "execution_count": 23,
   "id": "443a6796",
   "metadata": {},
   "outputs": [
    {
     "name": "stdout",
     "output_type": "stream",
     "text": [
      "Counter()\n"
     ]
    }
   ],
   "source": [
    "# You can also initialize a empty Counter as shown below:\n",
    "from collections import Counter\n",
    "_count = Counter()\n",
    "print(_count)"
   ]
  },
  {
   "cell_type": "markdown",
   "id": "890ec8a4",
   "metadata": {},
   "source": [
    "### Updating Counter\n",
    "\n",
    "You can add values to the Counter by using update() method."
   ]
  },
  {
   "cell_type": "code",
   "execution_count": 24,
   "id": "57e03970",
   "metadata": {},
   "outputs": [
    {
     "name": "stdout",
     "output_type": "stream",
     "text": [
      "Counter({'o': 3, ' ': 3, 'u': 3, 'e': 2, 'l': 2, 't': 2, 'r': 2, '9': 2, 'W': 1, 'c': 1, 'm': 1, 'G': 1, 'T': 1, 'i': 1, 'a': 1, 's': 1, '!': 1})\n"
     ]
    }
   ],
   "source": [
    "from collections import Counter\n",
    "_count = Counter()\n",
    "_count.update('Welcome to Guru99 Tutorials!')\n",
    "print(_count)"
   ]
  },
  {
   "cell_type": "markdown",
   "id": "4aacbde9",
   "metadata": {},
   "source": [
    "## Accessing Counter\n",
    "\n",
    "To get the values from the Counter, you can do as follows:"
   ]
  },
  {
   "cell_type": "code",
   "execution_count": 25,
   "id": "7aa707b1",
   "metadata": {},
   "outputs": [
    {
     "name": "stdout",
     "output_type": "stream",
     "text": [
      "u : 3\n",
      "\n",
      "\n",
      "G : 1\n",
      "u : 3\n",
      "r : 2\n",
      "u : 3\n"
     ]
    }
   ],
   "source": [
    "from collections import Counter\n",
    "\n",
    "_count = Counter()\n",
    "_count.update('Welcome to Guru99 Tutorials!')\n",
    "print('%s : %d' % ('u', _count['u']))\n",
    "print('\\n')\n",
    "for char in 'Guru':\n",
    "    print('%s : %d' % (char, _count[char]))"
   ]
  },
  {
   "cell_type": "markdown",
   "id": "9b53f40d",
   "metadata": {},
   "source": [
    "### Deleting an Element from Counter\n",
    "\n",
    "To delete an element from Counter you can make use of del , as shown in the example below:\n",
    "\n",
    "Example:"
   ]
  },
  {
   "cell_type": "code",
   "execution_count": 26,
   "id": "02e4e9c1",
   "metadata": {},
   "outputs": [
    {
     "name": "stdout",
     "output_type": "stream",
     "text": [
      "Counter({'y': 2, 'z': 2})\n"
     ]
    }
   ],
   "source": [
    "from collections import Counter\n",
    "dict1 =  {'x': 4, 'y': 2, 'z': 2}\n",
    "del dict1[\"x\"]\n",
    "print(Counter(dict1))"
   ]
  },
  {
   "cell_type": "markdown",
   "id": "eb7898a2",
   "metadata": {},
   "source": [
    "### Arithmetic operation on Python Counter\n",
    "\n",
    "Arithmetic operation like addition, subtraction, intersection and union can be done on a Counter as shown in the example below:\n",
    "\n",
    "Example:"
   ]
  },
  {
   "cell_type": "code",
   "execution_count": 28,
   "id": "9ece3d4c",
   "metadata": {},
   "outputs": [
    {
     "name": "stdout",
     "output_type": "stream",
     "text": [
      "count1+count2= Counter({'y': 7, 'x': 4, 'z': 2})\n",
      "count1-count2= Counter({'x1': 12, 'x': 4})\n",
      "Counter({'y': 2})\n",
      "Counter({'y': 5, 'x': 4, 'z': 4})\n"
     ]
    }
   ],
   "source": [
    "from collections import Counter\n",
    "counter1 =  Counter({'x': 4, 'y': 2, 'z': -2})\n",
    "\n",
    "counter2 = Counter({'x1': -12, 'y': 5, 'z':4 })\n",
    "\n",
    "#Addition\n",
    "counter3 = counter1 + counter2 # only the values that are positive will be returned.\n",
    "\n",
    "print('count1+count2=',counter3)\n",
    "\n",
    "#Subtraction\n",
    "counter4 = counter1 - counter2 # all -ve numbers are excluded.For example z will be z = -2-4=-6, since it is -ve value it is not shown in the output\n",
    "\n",
    "print('count1-count2=',counter4)\n",
    "\n",
    "#Intersection\n",
    "counter5 = counter1 & counter2 # it will give all common positive minimum values from counter1 and counter2\n",
    "\n",
    "print(counter5)\n",
    "\n",
    "#Union\n",
    "counter6 = counter1 | counter2 # it will give positive max values from counter1 and counter2\n",
    "\n",
    "print(counter6)"
   ]
  },
  {
   "cell_type": "markdown",
   "id": "77197523",
   "metadata": {},
   "source": [
    "# Methods Available on Python Counter\n",
    "\n",
    "There are some important methods available with Counter, here is the list of same:\n",
    "\n",
    "    elements() : This method will return you all the elements with count >0. Elements with 0 or -1 count will not be returned.\n",
    "    most_common(value): This method will return you the most common elements from Counter list.\n",
    "    subtract(): This method is used to deduct the elements from another Counter.\n",
    "    update(): This method is used to update the elements from another Counter.\n",
    "\n",
    "Example : elements()"
   ]
  },
  {
   "cell_type": "code",
   "execution_count": 29,
   "id": "2b3f092f",
   "metadata": {},
   "outputs": [
    {
     "name": "stdout",
     "output_type": "stream",
     "text": [
      "x\n",
      "x\n",
      "x\n",
      "x\n",
      "x\n",
      "y\n",
      "y\n"
     ]
    }
   ],
   "source": [
    "from collections import Counter\n",
    "counter1 =  Counter({'x': 5, 'y': 2, 'z': -2, 'x1':0})\n",
    "\n",
    "_elements = counter1.elements() # will give you all elements with positive value and count>0\n",
    "for a in _elements:\n",
    "    print(a)"
   ]
  },
  {
   "cell_type": "code",
   "execution_count": 30,
   "id": "d5d48821",
   "metadata": {},
   "outputs": [
    {
     "name": "stdout",
     "output_type": "stream",
     "text": [
      "[('y', 12), ('x', 5)]\n",
      "[('y', 12), ('x', 5), ('x1', 0), ('z', -2)]\n"
     ]
    }
   ],
   "source": [
    "# Example: most_common(value)\n",
    "from collections import Counter\n",
    "counter1 =  Counter({'x': 5, 'y': 12, 'z': -2, 'x1':0})\n",
    "\n",
    "common_element = counter1.most_common(2) # The dictionary will be sorted as per the most common element first followed by next.\n",
    "print(common_element)\n",
    "\n",
    "common_element1 = counter1.most_common() # if the value is not given to most_common , it will sort the dictionary and give the most common elements from the start.The last element will be the least common element.\n",
    "print(common_element1)"
   ]
  },
  {
   "cell_type": "code",
   "execution_count": 31,
   "id": "f7afa606",
   "metadata": {},
   "outputs": [
    {
     "name": "stdout",
     "output_type": "stream",
     "text": [
      "Counter({'y': 7, 'x': 3, 'x1': 0, 'z': -2})\n"
     ]
    }
   ],
   "source": [
    "# Example:subtract()\n",
    "\n",
    "from collections import Counter\n",
    "counter1 =  Counter({'x': 5, 'y': 12, 'z': -2, 'x1':0})\n",
    "counter2 = Counter({'x': 2, 'y':5})\n",
    "\n",
    "counter1.subtract(counter2)\n",
    "print(counter1)\n"
   ]
  },
  {
   "cell_type": "code",
   "execution_count": 32,
   "id": "d3a6ee8b",
   "metadata": {},
   "outputs": [
    {
     "name": "stdout",
     "output_type": "stream",
     "text": [
      "Counter({'y': 17, 'x': 7, 'x1': 0, 'z': -2})\n"
     ]
    }
   ],
   "source": [
    "# Example:update()\n",
    "\n",
    "from collections import Counter\n",
    "counter1 =  Counter({'x': 5, 'y': 12, 'z': -2, 'x1':0})\n",
    "counter2 = Counter({'x': 2, 'y':5})\n",
    "counter1.update(counter2)\n",
    "print(counter1)\n"
   ]
  },
  {
   "cell_type": "markdown",
   "id": "0977ed30",
   "metadata": {},
   "source": [
    "### Reassigning Counts in Python\n",
    "\n",
    "You can re-assign counts of Counter as shown below:\n",
    "\n",
    "Consider you have a dictionary as : {‘x’: 5, ‘y’: 12, ‘z’: -2, ‘x1’:0}\n",
    "\n",
    "You can change the count of the element as shown below:"
   ]
  },
  {
   "cell_type": "code",
   "execution_count": 33,
   "id": "bd202db9",
   "metadata": {},
   "outputs": [
    {
     "name": "stdout",
     "output_type": "stream",
     "text": [
      "Counter({'y': 20, 'x': 5, 'x1': 0, 'z': -2})\n"
     ]
    }
   ],
   "source": [
    "from collections import Counter\n",
    "counter1 =  Counter({'x': 5, 'y': 12, 'z': -2, 'x1':0})\n",
    "\n",
    "counter1['y'] = 20\n",
    "\n",
    "print(counter1)"
   ]
  },
  {
   "cell_type": "markdown",
   "id": "f58760fb",
   "metadata": {},
   "source": [
    "### Get and set the count of Elements using Counter\n",
    "\n",
    "To get the count of an element using Counter you can do as follows:"
   ]
  },
  {
   "cell_type": "code",
   "execution_count": 34,
   "id": "d16550a1",
   "metadata": {},
   "outputs": [
    {
     "name": "stdout",
     "output_type": "stream",
     "text": [
      "12\n"
     ]
    }
   ],
   "source": [
    "from collections import Counter\n",
    "counter1 =  Counter({'x': 5, 'y': 12, 'z': -2, 'x1':0})\n",
    "print(counter1['y']) # this will give you the count of element 'y'"
   ]
  },
  {
   "cell_type": "code",
   "execution_count": 35,
   "id": "032fcd1f",
   "metadata": {},
   "outputs": [
    {
     "name": "stdout",
     "output_type": "stream",
     "text": [
      "12\n",
      "Counter({'y': 20, 'y1': 10, 'x': 5, 'x1': 0, 'z': -2})\n"
     ]
    }
   ],
   "source": [
    "#to set the count of the element you can do as follows:\n",
    "\n",
    "from collections import Counter\n",
    "counter1 =  Counter({'x': 5, 'y': 12, 'z': -2, 'x1':0})\n",
    "\n",
    "print(counter1['y'])\n",
    "\n",
    "counter1['y'] = 20\n",
    "counter1['y1'] = 10\n",
    "\n",
    "print(counter1)\n"
   ]
  },
  {
   "cell_type": "code",
   "execution_count": null,
   "id": "35ebc263",
   "metadata": {},
   "outputs": [],
   "source": []
  },
  {
   "cell_type": "code",
   "execution_count": null,
   "id": "17b17bca",
   "metadata": {},
   "outputs": [],
   "source": []
  }
 ],
 "metadata": {
  "kernelspec": {
   "display_name": "Python 3 (ipykernel)",
   "language": "python",
   "name": "python3"
  },
  "language_info": {
   "codemirror_mode": {
    "name": "ipython",
    "version": 3
   },
   "file_extension": ".py",
   "mimetype": "text/x-python",
   "name": "python",
   "nbconvert_exporter": "python",
   "pygments_lexer": "ipython3",
   "version": "3.9.12"
  }
 },
 "nbformat": 4,
 "nbformat_minor": 5
}
